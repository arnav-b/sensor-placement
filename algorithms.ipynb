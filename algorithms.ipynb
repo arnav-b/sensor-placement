{
 "cells": [
  {
   "cell_type": "markdown",
   "id": "81ddd1a0",
   "metadata": {},
   "source": [
    "## Preliminaries\n",
    "\n",
    "Import data and build graph"
   ]
  },
  {
   "cell_type": "code",
   "execution_count": 1,
   "id": "52f23126",
   "metadata": {},
   "outputs": [
    {
     "data": {
      "text/html": [
       "<div>\n",
       "<style scoped>\n",
       "    .dataframe tbody tr th:only-of-type {\n",
       "        vertical-align: middle;\n",
       "    }\n",
       "\n",
       "    .dataframe tbody tr th {\n",
       "        vertical-align: top;\n",
       "    }\n",
       "\n",
       "    .dataframe thead th {\n",
       "        text-align: right;\n",
       "    }\n",
       "</style>\n",
       "<table border=\"1\" class=\"dataframe\">\n",
       "  <thead>\n",
       "    <tr style=\"text-align: right;\">\n",
       "      <th></th>\n",
       "      <th>edge_id</th>\n",
       "      <th>edge_from</th>\n",
       "      <th>edge_to</th>\n",
       "      <th>edge_length</th>\n",
       "      <th>edge_numLanes</th>\n",
       "      <th>edge_speed</th>\n",
       "      <th>flow</th>\n",
       "      <th>vehicle_speed</th>\n",
       "    </tr>\n",
       "  </thead>\n",
       "  <tbody>\n",
       "    <tr>\n",
       "      <th>0</th>\n",
       "      <td>0</td>\n",
       "      <td>1614922744</td>\n",
       "      <td>1614922747</td>\n",
       "      <td>23.141939</td>\n",
       "      <td>2</td>\n",
       "      <td>29.0576</td>\n",
       "      <td>0.0</td>\n",
       "      <td>0.00</td>\n",
       "    </tr>\n",
       "    <tr>\n",
       "      <th>1</th>\n",
       "      <td>1</td>\n",
       "      <td>269459339</td>\n",
       "      <td>269459341</td>\n",
       "      <td>60.826398</td>\n",
       "      <td>5</td>\n",
       "      <td>29.0576</td>\n",
       "      <td>14274.0</td>\n",
       "      <td>25.65</td>\n",
       "    </tr>\n",
       "    <tr>\n",
       "      <th>2</th>\n",
       "      <td>2</td>\n",
       "      <td>1621320618</td>\n",
       "      <td>1621320622</td>\n",
       "      <td>109.464966</td>\n",
       "      <td>2</td>\n",
       "      <td>29.0576</td>\n",
       "      <td>1149.0</td>\n",
       "      <td>27.70</td>\n",
       "    </tr>\n",
       "    <tr>\n",
       "      <th>3</th>\n",
       "      <td>3</td>\n",
       "      <td>269459229</td>\n",
       "      <td>269459230</td>\n",
       "      <td>160.720645</td>\n",
       "      <td>3</td>\n",
       "      <td>29.0576</td>\n",
       "      <td>7974.0</td>\n",
       "      <td>25.03</td>\n",
       "    </tr>\n",
       "    <tr>\n",
       "      <th>4</th>\n",
       "      <td>4</td>\n",
       "      <td>607954833</td>\n",
       "      <td>1613371666</td>\n",
       "      <td>173.017706</td>\n",
       "      <td>3</td>\n",
       "      <td>29.0576</td>\n",
       "      <td>6504.0</td>\n",
       "      <td>26.02</td>\n",
       "    </tr>\n",
       "  </tbody>\n",
       "</table>\n",
       "</div>"
      ],
      "text/plain": [
       "   edge_id   edge_from     edge_to  edge_length  edge_numLanes  edge_speed  \\\n",
       "0        0  1614922744  1614922747    23.141939              2     29.0576   \n",
       "1        1   269459339   269459341    60.826398              5     29.0576   \n",
       "2        2  1621320618  1621320622   109.464966              2     29.0576   \n",
       "3        3   269459229   269459230   160.720645              3     29.0576   \n",
       "4        4   607954833  1613371666   173.017706              3     29.0576   \n",
       "\n",
       "      flow  vehicle_speed  \n",
       "0      0.0           0.00  \n",
       "1  14274.0          25.65  \n",
       "2   1149.0          27.70  \n",
       "3   7974.0          25.03  \n",
       "4   6504.0          26.02  "
      ]
     },
     "execution_count": 1,
     "metadata": {},
     "output_type": "execute_result"
    }
   ],
   "source": [
    "import numpy as np\n",
    "import pandas as pd\n",
    "\n",
    "city = \"small\"\n",
    "\n",
    "edgelist = pd.read_csv(\"out/\" + city + \".results.csv\")\n",
    "edgelist.head()"
   ]
  },
  {
   "cell_type": "code",
   "execution_count": 84,
   "id": "70560fed",
   "metadata": {},
   "outputs": [
    {
     "data": {
      "text/plain": [
       "14.352409075907591"
      ]
     },
     "execution_count": 84,
     "metadata": {},
     "output_type": "execute_result"
    }
   ],
   "source": [
    "import networkx as nx\n",
    "\n",
    "G = nx.from_pandas_edgelist(edgelist, source=\"edge_from\", target=\"edge_to\", edge_attr=[\"edge_id\", \"edge_numLanes\", \"edge_speed\",\n",
    "                                                                                      \"flow\", \"vehicle_speed\"],\n",
    "                           create_using=nx.DiGraph)\n",
    "G_undirected = nx.from_pandas_edgelist(edgelist, source=\"edge_from\", target=\"edge_to\", edge_attr=[\"edge_id\", \"edge_numLanes\", \"edge_speed\",\n",
    "                                                                                      \"flow\", \"vehicle_speed\"])\n",
    "H = nx.line_graph(G_undirected)\n",
    "H.add_nodes_from((node, G_undirected.edges[node]) for node in H)\n",
    "\n",
    "def smoothness(G, attr):\n",
    "    L = nx.laplacian_matrix(G)\n",
    "    x = np.array([attrs[attr] for _, attrs in G.nodes(data=True)])\n",
    "    return x.transpose() @ L @ x\n",
    "\n",
    "smoothness(H, \"vehicle_speed\") / H.number_of_nodes()"
   ]
  },
  {
   "cell_type": "code",
   "execution_count": 28,
   "id": "8108028a",
   "metadata": {},
   "outputs": [
    {
     "data": {
      "text/plain": [
       "8887190.131188119"
      ]
     },
     "execution_count": 28,
     "metadata": {},
     "output_type": "execute_result"
    }
   ],
   "source": [
    "smoothness(H, \"flow\") / H.number_of_nodes()"
   ]
  },
  {
   "cell_type": "markdown",
   "id": "5fdbc431",
   "metadata": {},
   "source": [
    "## Sensor Selection\n",
    "\n",
    "This is the fundamental greedy algorithm implementation. "
   ]
  },
  {
   "cell_type": "code",
   "execution_count": 29,
   "id": "12e42cd8",
   "metadata": {},
   "outputs": [],
   "source": [
    "def get_labels_from_df(df, from_idx, to_idx, label_idx):\n",
    "    labeled_edges = {}\n",
    "    for e in df.itertuples():\n",
    "        labeled_edges[(e[from_idx], e[to_idx])] = e[label_idx]\n",
    "    return labeled_edges"
   ]
  },
  {
   "cell_type": "code",
   "execution_count": 59,
   "id": "39556c87",
   "metadata": {},
   "outputs": [],
   "source": [
    "from scipy.sparse import coo_matrix, linalg\n",
    "\n",
    "def flow_prediction(G, labelled_flows, lamb=1e-6):\n",
    "    '''\n",
    "        Flow prediction.\n",
    "    '''\n",
    "    n_labelled_edges = len(labelled_flows)\n",
    "    b = np.zeros(n_labelled_edges)\n",
    "    B = nx.incidence_matrix(G, oriented=True)\n",
    "    f0 = np.zeros(G.number_of_edges())\n",
    "\n",
    "    i = 0\n",
    "    j = 0\n",
    "    U = []\n",
    "    index = {}\n",
    "    for e in G.edges():\n",
    "        if e in labelled_flows:\n",
    "            f0[i] = labelled_flows[e]\n",
    "        else:\n",
    "            U.append(i)\n",
    "            index[e] = j\n",
    "            j = j + 1\n",
    "        i = i + 1\n",
    "\n",
    "    b = -B.dot(f0)\n",
    " \n",
    "    A = B[np.ix_(np.arange(B.shape[0]), U)]\n",
    "\n",
    "    res = linalg.lsmr(A, b, damp=lamb)\n",
    "    x = res[0]\n",
    "\n",
    "    pred_flows = {}\n",
    "    \n",
    "    for e in G.edges():\n",
    "        if e in labelled_flows:\n",
    "            pred_flows[e] = labelled_flows[e]\n",
    "        else:\n",
    "            pred_flows[e] = x[index[e]]\n",
    "    \n",
    "            \n",
    "    return pred_flows"
   ]
  },
  {
   "cell_type": "code",
   "execution_count": 31,
   "id": "f36571f7",
   "metadata": {},
   "outputs": [],
   "source": [
    "def mse(pred_labels, labeled_edges):\n",
    "    return sum((v - pred_labels[k]) ** 2 for k, v in labeled_edges.items()) / len(labeled_flows)        "
   ]
  },
  {
   "cell_type": "code",
   "execution_count": 126,
   "id": "8fc91b9c",
   "metadata": {},
   "outputs": [],
   "source": [
    "from tqdm.notebook import tqdm\n",
    "from multiprocess import Pool \n",
    "import heapq\n",
    "\n",
    "def choose_sensors(G, labeled_edges, predict, evaluate, k=None):\n",
    "    \"\"\"\n",
    "    Choose `k` sensors greedily to optimize the prediction given by `predict` for ground truth `labels`\n",
    "    based on loss function `evaluate` (lower loss is better). \n",
    "    \n",
    "    Parameters:\n",
    "        -- G: networkx graph\n",
    "        -- labeled_edges: dict {edge : value}\n",
    "        -- predict: function taking G, labeled_edges -> prediction\n",
    "        -- evaluate: prediction, true_values -> loss\n",
    "    \"\"\"\n",
    "    if k == None:\n",
    "        k = int(G.number_of_edges() / 50)\n",
    "    \n",
    "    sensors = []\n",
    "        \n",
    "    # Find value of adding each edge not in the set\n",
    "    with Pool(4) as pool:\n",
    "        deltas = pool.map(lambda e: (-evaluate(predict(G, {e : labeled_edges[e]}), labeled_edges), e), labeled_edges)\n",
    "        \n",
    "#     deltas = []\n",
    "#     for e in tqdm(labeled_edges):\n",
    "#         deltas.append((-evaluate(predict(G, {e : labeled_edges[e]}), labeled_edges), e))\n",
    "\n",
    "    heapq.heapify(deltas)\n",
    "    \n",
    "    # Greedily select sensors\n",
    "    for i in tqdm(range(k)):\n",
    "        current = evaluate(predict(G, {e: labeled_edges[e] for e in sensors}), labeled_edges)\n",
    "\n",
    "        # Current top \n",
    "        _, s = heapq.heappop(deltas)\n",
    "        delta = current - evaluate(predict(G, \n",
    "                                           {e: labeled_edges[e] for e in sensors} | {s : labeled_edges[s]}), \n",
    "                                   labeled_edges)\n",
    "\n",
    "        # Next top\n",
    "        delta_next, s_next = heapq.heappop(deltas)\n",
    "        delta_next = current - delta_next\n",
    "\n",
    "        # Compute change in top node\n",
    "        # If the change drops it below the next best, recalculate the next best and continue\n",
    "        while delta - delta_next > 1e-3:\n",
    "            print(\"s {} delta {} s_next {} delta_next {} current {}\".format(s, delta, s_next, delta_next, current))\n",
    "            delta_next = current - evaluate(predict(G, \n",
    "                                 {e: labeled_edges[e] for e in sensors} | {s_next : labeled_edges[s_next]}), \n",
    "                         labeled_edges)\n",
    "            if delta_next <= delta:\n",
    "                heapq.heappush(deltas, (delta, s))\n",
    "                delta, s = delta_next, s_next\n",
    "            else:\n",
    "                heapq.heappush(deltas, (delta_next, s_next))\n",
    "                delta_next, s_next = heapq.heappop(deltas)\n",
    "\n",
    "        sensors.append(s)\n",
    "        \n",
    "    return sensors"
   ]
  },
  {
   "cell_type": "code",
   "execution_count": 92,
   "id": "456ad3da",
   "metadata": {},
   "outputs": [
    {
     "data": {
      "application/vnd.jupyter.widget-view+json": {
       "model_id": "c082524d4a4d4fd181ffadbb6ef5051a",
       "version_major": 2,
       "version_minor": 0
      },
      "text/plain": [
       "  0%|          | 0/24 [00:00<?, ?it/s]"
      ]
     },
     "metadata": {},
     "output_type": "display_data"
    },
    {
     "data": {
      "text/plain": [
       "[(2358067005, 540985818),\n",
       " (10559937, 326723975),\n",
       " (1832222747, 353034446),\n",
       " (353034879, 1615052989),\n",
       " (4065544424, 269459338),\n",
       " (269459315, 269459332),\n",
       " (269459293, 807592424),\n",
       " (326723913, 326723915),\n",
       " (326723915, 269459293),\n",
       " (1347515636, 268538952),\n",
       " (353034592, 353034593),\n",
       " (353034446, 353034591),\n",
       " (353034593, 353034594),\n",
       " (269461337, 269461338),\n",
       " (269460527, 269460939),\n",
       " (269461338, 269461339),\n",
       " (269459514, 269459515),\n",
       " (269460924, 269460925),\n",
       " (269460925, 269460926),\n",
       " (269460926, 269460927),\n",
       " (269461335, 269461336),\n",
       " (269461334, 269461335),\n",
       " (269461333, 269461334),\n",
       " (269459338, 269459339)]"
      ]
     },
     "execution_count": 92,
     "metadata": {},
     "output_type": "execute_result"
    }
   ],
   "source": [
    "labeled_edges = get_labels_from_df(edgelist, 2, 3, -2)\n",
    "choose_sensors(G, labeled_edges, flow_prediction, mse)"
   ]
  },
  {
   "cell_type": "markdown",
   "id": "7eead247",
   "metadata": {},
   "source": [
    "### Testing\n",
    "\n",
    "Should choose one node from each colored cluster"
   ]
  },
  {
   "cell_type": "code",
   "execution_count": 120,
   "id": "469b7e45",
   "metadata": {},
   "outputs": [
    {
     "data": {
      "image/png": "[encoded data removed]",
      "text/plain": [
       "<Figure size 432x288 with 1 Axes>"
      ]
     },
     "metadata": {},
     "output_type": "display_data"
    }
   ],
   "source": [
    "J = nx.Graph()\n",
    "\n",
    "J.add_edge(0,1)\n",
    "J.add_edge(1,2)\n",
    "J.add_edge(0,2)\n",
    "J.add_edge(2,3)\n",
    "J.add_edge(3,4)\n",
    "J.add_edge(3,5)\n",
    "J.add_edge(4,6)\n",
    "J.add_edge(5,6)\n",
    "\n",
    "flows = {}\n",
    "\n",
    "flows[(0,1)] = 10.\n",
    "flows[(1,2)] = 10\n",
    "flows[(0,2)] = -10.\n",
    "flows[(2,3)] = 0.\n",
    "flows[(3,4)] = -10.\n",
    "flows[(3,5)] = 10.\n",
    "flows[(4,6)] = -10.\n",
    "flows[(5,6)] = 10.\n",
    "\n",
    "nx.draw(J, with_labels=True)"
   ]
  },
  {
   "cell_type": "code",
   "execution_count": 121,
   "id": "74bed2e4",
   "metadata": {},
   "outputs": [
    {
     "data": {
      "application/vnd.jupyter.widget-view+json": {
       "model_id": "4446cf198c134f2b801b1f20b8f3077d",
       "version_major": 2,
       "version_minor": 0
      },
      "text/plain": [
       "  0%|          | 0/8 [00:00<?, ?it/s]"
      ]
     },
     "metadata": {},
     "output_type": "display_data"
    },
    {
     "data": {
      "application/vnd.jupyter.widget-view+json": {
       "model_id": "1a832a278e49453594d4a4232137128c",
       "version_major": 2,
       "version_minor": 0
      },
      "text/plain": [
       "  0%|          | 0/3 [00:00<?, ?it/s]"
      ]
     },
     "metadata": {},
     "output_type": "display_data"
    },
    {
     "data": {
      "text/plain": [
       "[(2, 3), (0, 2), (3, 4)]"
      ]
     },
     "execution_count": 121,
     "metadata": {},
     "output_type": "execute_result"
    }
   ],
   "source": [
    "choose_sensors(J, flows, flow_prediction, mse, 3)"
   ]
  },
  {
   "cell_type": "markdown",
   "id": "d2f3b19c",
   "metadata": {},
   "source": [
    "## Testing - Small Network"
   ]
  },
  {
   "cell_type": "code",
   "execution_count": 122,
   "id": "dbef4f3a",
   "metadata": {},
   "outputs": [
    {
     "data": {
      "text/html": [
       "<div>\n",
       "<style scoped>\n",
       "    .dataframe tbody tr th:only-of-type {\n",
       "        vertical-align: middle;\n",
       "    }\n",
       "\n",
       "    .dataframe tbody tr th {\n",
       "        vertical-align: top;\n",
       "    }\n",
       "\n",
       "    .dataframe thead th {\n",
       "        text-align: right;\n",
       "    }\n",
       "</style>\n",
       "<table border=\"1\" class=\"dataframe\">\n",
       "  <thead>\n",
       "    <tr style=\"text-align: right;\">\n",
       "      <th></th>\n",
       "      <th>node_x</th>\n",
       "      <th>node_y</th>\n",
       "    </tr>\n",
       "    <tr>\n",
       "      <th>node_id</th>\n",
       "      <th></th>\n",
       "      <th></th>\n",
       "    </tr>\n",
       "  </thead>\n",
       "  <tbody>\n",
       "    <tr>\n",
       "      <th>269459457</th>\n",
       "      <td>-118.215300</td>\n",
       "      <td>34.056067</td>\n",
       "    </tr>\n",
       "    <tr>\n",
       "      <th>317640716</th>\n",
       "      <td>-118.221778</td>\n",
       "      <td>34.036254</td>\n",
       "    </tr>\n",
       "    <tr>\n",
       "      <th>317640717</th>\n",
       "      <td>-118.221770</td>\n",
       "      <td>34.036083</td>\n",
       "    </tr>\n",
       "    <tr>\n",
       "      <th>317640718</th>\n",
       "      <td>-118.221753</td>\n",
       "      <td>34.035806</td>\n",
       "    </tr>\n",
       "    <tr>\n",
       "      <th>317640719</th>\n",
       "      <td>-118.221718</td>\n",
       "      <td>34.035521</td>\n",
       "    </tr>\n",
       "  </tbody>\n",
       "</table>\n",
       "</div>"
      ],
      "text/plain": [
       "               node_x     node_y\n",
       "node_id                         \n",
       "269459457 -118.215300  34.056067\n",
       "317640716 -118.221778  34.036254\n",
       "317640717 -118.221770  34.036083\n",
       "317640718 -118.221753  34.035806\n",
       "317640719 -118.221718  34.035521"
      ]
     },
     "execution_count": 122,
     "metadata": {},
     "output_type": "execute_result"
    }
   ],
   "source": [
    "nodes = pd.read_csv(\"out/\" + city + \".nodes.csv\", sep=\";\").set_index(\"node_id\")\n",
    "nodes.head()"
   ]
  },
  {
   "cell_type": "code",
   "execution_count": 123,
   "id": "69a8fa6c",
   "metadata": {},
   "outputs": [],
   "source": [
    "import matplotlib as mpl\n",
    "import matplotlib.pyplot as plt\n",
    "\n",
    "positions = {v: (k[\"node_x\"], k[\"node_y\"]) for v, k in nodes.to_dict(\"index\").items()}\n",
    "cmap = mpl.colormaps[\"viridis\"]"
   ]
  },
  {
   "cell_type": "code",
   "execution_count": 127,
   "id": "fe899b2f",
   "metadata": {},
   "outputs": [
    {
     "data": {
      "application/vnd.jupyter.widget-view+json": {
       "model_id": "3b10a02554da4684b8b5d9a83bbfe857",
       "version_major": 2,
       "version_minor": 0
      },
      "text/plain": [
       "  0%|          | 0/24 [00:00<?, ?it/s]"
      ]
     },
     "metadata": {},
     "output_type": "display_data"
    },
    {
     "data": {
      "image/png": "[encoded data removed]",
      "text/plain": [
       "<Figure size 1382.4x1036.8 with 1 Axes>"
      ]
     },
     "metadata": {},
     "output_type": "display_data"
    }
   ],
   "source": [
    "plt.figure(figsize=[3 * x for x in [6.4, 4.8]])\n",
    "\n",
    "opt_sensors = choose_sensors(G, labeled_edges, flow_prediction, mse)\n",
    "edge_colors = [\"green\" if (u, v) in opt_sensors or (v, u) in opt_sensors else \"lightgray\" for u, v in G.edges()]\n",
    "nx.draw(G, pos=positions, node_size=1, node_color=\"white\", edge_color=edge_colors)"
   ]
  },
  {
   "cell_type": "code",
   "execution_count": null,
   "id": "f4ef7f9b",
   "metadata": {},
   "outputs": [],
   "source": [
    "plt.figure(figsize=[3 * x for x in [6.4, 4.8]])\n",
    "\n",
    "cmap = mpl.colormaps[\"Reds\"]\n",
    "nx.draw(G, pos=positions, node_size=1, node_color=\"white\", edge_color=[cmap(abs(x_ - p) / (x_ + 1)) for p, x_ in zip(pred, x)])"
   ]
  },
  {
   "cell_type": "markdown",
   "id": "04bf6742",
   "metadata": {},
   "source": [
    "## Benchmarks"
   ]
  },
  {
   "cell_type": "code",
   "execution_count": null,
   "id": "491c4a15",
   "metadata": {},
   "outputs": [],
   "source": [
    "\"\"\"\n",
    "Choose k highest degree nodes in the graph. \n",
    "\"\"\"\n",
    "def high_degree(G, k=None):\n",
    "    if k == None:\n",
    "        k = int(G.number_of_nodes() / 50)\n",
    "        \n",
    "    return [v[0] for v in sorted(G.degree, key=lambda x: x[1], reverse=True)[:k]]"
   ]
  },
  {
   "cell_type": "code",
   "execution_count": null,
   "id": "c6cb5d45",
   "metadata": {},
   "outputs": [],
   "source": [
    "J = nx.erdos_renyi_graph(10, 0.4, seed=0)\n",
    "nx.draw(J, with_labels=True)"
   ]
  },
  {
   "cell_type": "code",
   "execution_count": null,
   "id": "01b80fd4",
   "metadata": {},
   "outputs": [],
   "source": [
    "high_degree(J, 3)"
   ]
  },
  {
   "cell_type": "code",
   "execution_count": null,
   "id": "9c96c8f9",
   "metadata": {},
   "outputs": [],
   "source": [
    "\"\"\"\n",
    "Randomly select k nodes from the graph.\n",
    "\"\"\"\n",
    "def random(G, k=None):\n",
    "    if k == None:\n",
    "        k = int(G.number_of_nodes() / 50)\n",
    "        \n",
    "    return np.random.choice(G.nodes, k)"
   ]
  },
  {
   "cell_type": "code",
   "execution_count": null,
   "id": "7cf63625",
   "metadata": {},
   "outputs": [],
   "source": [
    "random(J, 2)"
   ]
  },
  {
   "cell_type": "markdown",
   "id": "888942da",
   "metadata": {},
   "source": [
    "### TODO\n",
    "\n",
    "Get benchmarks from active learning paper"
   ]
  },
  {
   "cell_type": "markdown",
   "id": "ee774a64",
   "metadata": {},
   "source": [
    "## Error Metrics"
   ]
  },
  {
   "cell_type": "code",
   "execution_count": null,
   "id": "39096200",
   "metadata": {},
   "outputs": [],
   "source": [
    "def mape(x, pred):\n",
    "    return sum([abs(x_ - p) / (x_ + 1e-4) for p, x_ in zip(pred, x)]) / len(x)"
   ]
  },
  {
   "cell_type": "code",
   "execution_count": null,
   "id": "37e0cdd3",
   "metadata": {},
   "outputs": [],
   "source": [
    "def mse(x, pred):\n",
    "    return (np.square(pred - x)).mean()"
   ]
  },
  {
   "cell_type": "code",
   "execution_count": null,
   "id": "a15e2848",
   "metadata": {},
   "outputs": [],
   "source": [
    "\"\"\"\n",
    "Maximum error across all nodes.\n",
    "\"\"\"\n",
    "def max_error(error):\n",
    "    return lambda x, pred: max([error(x, pred)])"
   ]
  },
  {
   "cell_type": "code",
   "execution_count": null,
   "id": "730f04d7",
   "metadata": {},
   "outputs": [],
   "source": [
    "\"\"\"\n",
    "Compute error on only a subset of nodes.\n",
    "\"\"\"\n",
    "def subset_error(x, pred, error, subset=None):\n",
    "    \n",
    "    pred_subset = np.copy(pred)\n",
    "    if subset == None:\n",
    "        subset = set(range(len(pred)))\n",
    "    \n",
    "    for i, _ in enumerate(pred):\n",
    "        if i not in subset:\n",
    "            pred[i] = x[i]\n",
    "    \n",
    "    return error(x, pred)"
   ]
  }
 ],
 "metadata": {
  "kernelspec": {
   "display_name": "Python 3 (ipykernel)",
   "language": "python",
   "name": "python3"
  },
  "language_info": {
   "codemirror_mode": {
    "name": "ipython",
    "version": 3
   },
   "file_extension": ".py",
   "mimetype": "text/x-python",
   "name": "python",
   "nbconvert_exporter": "python",
   "pygments_lexer": "ipython3",
   "version": "3.10.8"
  }
 },
 "nbformat": 4,
 "nbformat_minor": 5
}
