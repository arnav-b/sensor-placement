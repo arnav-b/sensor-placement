{
 "cells": [
  {
   "cell_type": "markdown",
   "id": "5fdbc431",
   "metadata": {},
   "source": [
    "## Sensor Selection\n",
    "\n",
    "This is the fundamental greedy algorithm implementation. "
   ]
  },
  {
   "cell_type": "code",
   "execution_count": 1,
   "id": "12e42cd8",
   "metadata": {},
   "outputs": [],
   "source": [
    "import numpy as np\n",
    "import pandas as pd\n",
    "import networkx as nx\n",
    "\n",
    "def get_labels_from_df(df, from_idx, to_idx, label_idx):\n",
    "    labeled_edges = {}\n",
    "    for e in df.itertuples():\n",
    "        labeled_edges[(e[from_idx], e[to_idx])] = e[label_idx]\n",
    "    return labeled_edges"
   ]
  },
  {
   "cell_type": "code",
   "execution_count": 2,
   "id": "39556c87",
   "metadata": {},
   "outputs": [],
   "source": [
    "from scipy.sparse import linalg\n",
    "\n",
    "def flow_prediction(G, labelled_flows, lamb=1e-6):\n",
    "    '''\n",
    "        Flow prediction.\n",
    "    '''\n",
    "    n_labelled_edges = len(labelled_flows)\n",
    "    b = np.zeros(n_labelled_edges)\n",
    "    B = nx.incidence_matrix(G, oriented=True)\n",
    "    f0 = np.zeros(G.number_of_edges())\n",
    "\n",
    "    i = 0\n",
    "    j = 0\n",
    "    U = []\n",
    "    index = {}\n",
    "    for e in G.edges():\n",
    "        if e in labelled_flows:\n",
    "            f0[i] = labelled_flows[e]\n",
    "        else:\n",
    "            U.append(i)\n",
    "            index[e] = j\n",
    "            j = j + 1\n",
    "        i = i + 1\n",
    "\n",
    "    b = -B.dot(f0)\n",
    " \n",
    "    A = B[np.ix_(np.arange(B.shape[0]), U)]\n",
    "\n",
    "    res = linalg.lsmr(A, b, damp=lamb)\n",
    "    x = res[0]\n",
    "\n",
    "    pred_flows = {}\n",
    "    \n",
    "    for e in G.edges():\n",
    "        if e in labelled_flows:\n",
    "            pred_flows[e] = labelled_flows[e]\n",
    "        else:\n",
    "            pred_flows[e] = x[index[e]]\n",
    "    \n",
    "    return pred_flows"
   ]
  },
  {
   "cell_type": "code",
   "execution_count": 3,
   "id": "f36571f7",
   "metadata": {},
   "outputs": [],
   "source": [
    "def mse(pred_labels, labeled_edges):\n",
    "    return sum([(v - pred_labels[k]) ** 2 for k, v in labeled_edges.items()]) / len(labeled_edges)     "
   ]
  },
  {
   "cell_type": "code",
   "execution_count": 209,
   "id": "8fc91b9c",
   "metadata": {},
   "outputs": [],
   "source": [
    "from tqdm.notebook import tqdm\n",
    "from multiprocess import Pool \n",
    "import heapq\n",
    "\n",
    "def choose_sensors(G, labeled_edges, predict, evaluate, k=None, lazy=False, cores=4):\n",
    "    \"\"\"\n",
    "    Choose `k` sensors greedily to optimize the prediction given by `predict` for ground truth `labels`\n",
    "    based on loss function `evaluate` (lower loss is better). \n",
    "    \n",
    "    Parameters:\n",
    "        -- G: networkx graph\n",
    "        -- labeled_edges: dict {edge : value}\n",
    "        -- predict: function taking G, labeled_edges -> prediction\n",
    "        -- evaluate: prediction, true_values -> loss\n",
    "    \"\"\"\n",
    "    if k == None:\n",
    "        k = int(G.number_of_edges() / 50)\n",
    "    \n",
    "    sensors = []\n",
    "        \n",
    "    # Find value of adding each edge not in the set\n",
    "    current = evaluate(predict(G, {}), labeled_edges)\n",
    "\n",
    "    with Pool(cores) as pool:\n",
    "        deltas = pool.map(lambda e: (evaluate(predict(G, {e : labeled_edges[e]}), labeled_edges) - current, e), \n",
    "                          labeled_edges)\n",
    "\n",
    "    heapq.heapify(deltas)\n",
    "#     print(\"len(deltas):\", len(deltas))\n",
    "    \n",
    "    # Greedily select sensors\n",
    "    if lazy:\n",
    "        for i in tqdm(range(k)):\n",
    "            current = evaluate(predict(G, {e: labeled_edges[e] for e in sensors}), labeled_edges)\n",
    "#             print(\"iteration {}, current {}\".format(i, current))\n",
    "\n",
    "            # Current top \n",
    "            _, s = heapq.heappop(deltas)\n",
    "            delta = evaluate(predict(G, {e: labeled_edges[e] for e in sensors} | {s : labeled_edges[s]}), \n",
    "                             labeled_edges) - current\n",
    "            \n",
    "            if len(deltas) == 0:\n",
    "                sensors.append(s)\n",
    "                continue\n",
    "\n",
    "            # Next top\n",
    "            delta_next, s_next = heapq.heappop(deltas)\n",
    "            delta_next -= current\n",
    "            \n",
    "#             print(\"sensor {} delta {}\".format(s, delta))\n",
    "#             print(\"next top sensor {} delta {}\".format(s_next, delta_next))\n",
    "#             print(\"deltas: {}\".format(deltas))\n",
    "            \n",
    "#             if delta_next <= delta:\n",
    "#                 heapq.heappush(deltas, (delta_next, s_next))\n",
    "                \n",
    "            # If the change drops it below the next best, recalculate the next best and continue\n",
    "            while delta > delta_next:\n",
    "#                 print(\"sensor {} delta {}\".format(s, delta))\n",
    "#                 print(\"next top sensor {} delta {}\".format(s_next, delta_next))\n",
    "                delta_next = evaluate(predict(G, {e: labeled_edges[e] for e in sensors} | {s_next : labeled_edges[s_next]}), \n",
    "                             labeled_edges) - current\n",
    "                if delta_next < delta:\n",
    "                    heapq.heappush(deltas, (delta, s))\n",
    "                    delta, s = delta_next, s_next\n",
    "#                     print(\"next > delta, len(deltas)\", len(deltas))\n",
    "                else:\n",
    "                    heapq.heappush(deltas, (delta_next, s_next))\n",
    "#                     print(\"delta > next, len(deltas):\", len(deltas))\n",
    "                    delta_next, s_next = heapq.heappop(deltas)\n",
    "                    \n",
    "                    if delta <= delta_next:\n",
    "                        heapq.heappush(deltas, (delta_next, s_next))\n",
    "                        break\n",
    "                \n",
    "#             print(\"iteration\", i, \"len(deltas):\", len(deltas))\n",
    "#             print(\"selecting sensor {} delta {}, next sensor {} has delta {}\".format(s, delta, s_next, delta_next))\n",
    "            sensors.append(s)\n",
    "#             print()\n",
    "    else:\n",
    "        for i in tqdm(range(k)):\n",
    "            current = evaluate(predict(G, {e: labeled_edges[e] for e in sensors}), labeled_edges)\n",
    "            # print(\"iteration {}, current {}\".format(i, current))\n",
    "            opt, opt_cost = None, float(\"inf\")\n",
    "            for s in G.edges():\n",
    "                if s not in sensors:\n",
    "                    cost = evaluate(predict(G, {e : labeled_edges[e] for e in sensors} | {s : labeled_edges[s]}),\n",
    "                                   labeled_edges)\n",
    "                    # print(\"sensor {} cost {} opt {}\".format(s, cost, opt_cost))\n",
    "                    if cost < opt_cost:\n",
    "                        opt, opt_cost = s, cost\n",
    "            sensors.append(opt)\n",
    "        \n",
    "    return sensors"
   ]
  },
  {
   "cell_type": "markdown",
   "id": "7eead247",
   "metadata": {},
   "source": [
    "### Testing\n",
    "\n",
    "Should choose one node from each cluster"
   ]
  },
  {
   "cell_type": "code",
   "execution_count": 180,
   "id": "469b7e45",
   "metadata": {},
   "outputs": [
    {
     "data": {
      "image/png": "[encoded data removed]",
      "text/plain": [
       "<Figure size 432x288 with 1 Axes>"
      ]
     },
     "metadata": {},
     "output_type": "display_data"
    }
   ],
   "source": [
    "J = nx.DiGraph()\n",
    "\n",
    "J.add_edge(0,1)\n",
    "J.add_edge(1,2)\n",
    "J.add_edge(2,0)\n",
    "J.add_edge(2,3)\n",
    "J.add_edge(3,4)\n",
    "J.add_edge(4,5)\n",
    "J.add_edge(6,3)\n",
    "J.add_edge(5,6)\n",
    "J.add_edge(4,7)\n",
    "J.add_edge(7,8)\n",
    "J.add_edge(8,9)\n",
    "J.add_edge(9,7)\n",
    "\n",
    "flows = {}\n",
    "\n",
    "flows[(0,1)] = 10.\n",
    "flows[(1,2)] = 10\n",
    "flows[(2,0)] = 10.\n",
    "flows[(2,3)] = 0.\n",
    "flows[(3,4)] = 10.\n",
    "flows[(4,5)] = 10.\n",
    "flows[(6,3)] = 10\n",
    "#flows[(6,4)] = 10.\n",
    "flows[(5,6)] = 10.\n",
    "flows[(4,7)] = 0\n",
    "flows[(7,8)] = 10\n",
    "flows[(8,9)] = 10\n",
    "flows[(9,7)] = 10\n",
    "\n",
    "np.random.seed(1000)\n",
    "nx.draw(J, with_labels=True)"
   ]
  },
  {
   "cell_type": "code",
   "execution_count": 182,
   "id": "74bed2e4",
   "metadata": {},
   "outputs": [
    {
     "data": {
      "application/vnd.jupyter.widget-view+json": {
       "model_id": "d4ac7fe13d4e4b1787cd6462a6add7cf",
       "version_major": 2,
       "version_minor": 0
      },
      "text/plain": [
       "  0%|          | 0/3 [00:00<?, ?it/s]"
      ]
     },
     "metadata": {},
     "output_type": "display_data"
    },
    {
     "data": {
      "text/plain": [
       "[(3, 4), (0, 1), (9, 7)]"
      ]
     },
     "execution_count": 182,
     "metadata": {},
     "output_type": "execute_result"
    }
   ],
   "source": [
    "opt = choose_sensors(J, flows, flow_prediction, mse, 3)\n",
    "opt"
   ]
  },
  {
   "cell_type": "code",
   "execution_count": 183,
   "id": "13604d06",
   "metadata": {},
   "outputs": [
    {
     "data": {
      "text/plain": [
       "{(0, 1): 10.0,\n",
       " (1, 2): 10.000000000001995,\n",
       " (2, 0): 9.999999999978003,\n",
       " (2, 3): 3.5998759528865776e-11,\n",
       " (3, 4): 10.0,\n",
       " (4, 5): 9.999999999958003,\n",
       " (4, 7): 2.3994806142013658e-11,\n",
       " (5, 6): 9.999999999950004,\n",
       " (6, 3): 9.999999999952006,\n",
       " (7, 8): 10.000000000005995,\n",
       " (8, 9): 9.999999999997996,\n",
       " (9, 7): 10}"
      ]
     },
     "execution_count": 183,
     "metadata": {},
     "output_type": "execute_result"
    }
   ],
   "source": [
    "flow_prediction(J, {s : flows[s] for s in opt})"
   ]
  },
  {
   "cell_type": "code",
   "execution_count": 184,
   "id": "be5e6d33",
   "metadata": {},
   "outputs": [
    {
     "data": {
      "text/plain": [
       "7.471757903305644e-22"
      ]
     },
     "execution_count": 184,
     "metadata": {},
     "output_type": "execute_result"
    }
   ],
   "source": [
    "mse(flows, flow_prediction(J, {s : flows[s] for s in opt}))"
   ]
  },
  {
   "cell_type": "code",
   "execution_count": 210,
   "id": "c6681089",
   "metadata": {},
   "outputs": [
    {
     "data": {
      "application/vnd.jupyter.widget-view+json": {
       "model_id": "6053cd3e421c4009b0c6e628550460ed",
       "version_major": 2,
       "version_minor": 0
      },
      "text/plain": [
       "  0%|          | 0/12 [00:00<?, ?it/s]"
      ]
     },
     "metadata": {},
     "output_type": "display_data"
    },
    {
     "data": {
      "text/plain": [
       "[(3, 4),\n",
       " (0, 1),\n",
       " (7, 8),\n",
       " (9, 7),\n",
       " (1, 2),\n",
       " (2, 0),\n",
       " (2, 3),\n",
       " (4, 5),\n",
       " (8, 9),\n",
       " (5, 6),\n",
       " (6, 3),\n",
       " (4, 7)]"
      ]
     },
     "execution_count": 210,
     "metadata": {},
     "output_type": "execute_result"
    }
   ],
   "source": [
    "opt_lazy = choose_sensors(J, flows, flow_prediction, mse, lazy=True, k=len(J.edges))\n",
    "opt_lazy"
   ]
  },
  {
   "cell_type": "code",
   "execution_count": 211,
   "id": "62de2f53",
   "metadata": {},
   "outputs": [
    {
     "data": {
      "text/plain": [
       "2.4772853103026e-21"
      ]
     },
     "execution_count": 211,
     "metadata": {},
     "output_type": "execute_result"
    }
   ],
   "source": [
    "mse(flows, flow_prediction(J, {s : flows[s] for s in opt_lazy[:3]}))"
   ]
  },
  {
   "cell_type": "markdown",
   "id": "8f4f4148",
   "metadata": {},
   "source": [
    "## Testing - Synthetic Flows and Non-Negative Solution"
   ]
  },
  {
   "cell_type": "code",
   "execution_count": 11,
   "id": "f7791017",
   "metadata": {},
   "outputs": [],
   "source": [
    "# Author: Vlad Niculae \n",
    "#         Lars Buitinck \n",
    "# Author: Chih-Jen Lin, National Taiwan University (original projected gradient\n",
    "#     NMF implementation)\n",
    "# Author: Anthony Di Franco (original Python and NumPy port)\n",
    "# License: BSD 3 clause\n",
    "\n",
    "from sklearn.utils.extmath import safe_sparse_dot\n",
    "from scipy.sparse import csr_matrix, issparse\n",
    "from scipy.optimize import fmin_l_bfgs_b\n",
    "\n",
    "def safe_fro(X, squared=False):\n",
    "    if issparse(X):\n",
    "        nrm = np.sum(X.data ** 2)\n",
    "    else:\n",
    "        if hasattr(X, 'A'):\n",
    "            X = X.A\n",
    "        nrm = np.sum(X ** 2)\n",
    "    return nrm if squared else np.sqrt(nrm)\n",
    "     \n",
    "\n",
    "# Authors: Mathieu Blondel, Vlad Niculae\n",
    "def nls_lbfgs_b(X, Y, W_init=None, l1_reg=0, l2_reg=0, max_iter=5000, tol=1e-3, callback=None):\n",
    "    \"\"\"Non-negative least squares solver using L-BFGS-B.\n",
    "        \n",
    "    Solves for W in\n",
    "    min 0.5 ||Y - XW||^2_F + + l1_reg * sum(W) + 0.5 * l2_reg * ||W||^2_F\n",
    "    \n",
    "    \"\"\"\n",
    "    n_samples, n_features = X.shape\n",
    "    n_targets = Y.shape[1]\n",
    "    G = safe_sparse_dot(X.T, X)\n",
    "    Xy = safe_sparse_dot(X.T, Y)\n",
    "\n",
    "    def f(w, *args):\n",
    "        W = w.reshape((n_features, n_targets))\n",
    "        diff = (safe_sparse_dot(X, W) - Y)\n",
    "        diff = diff.A if hasattr(diff, 'A') else diff\n",
    "        res = 0.5 * np.sum(diff ** 2)\n",
    "        if l2_reg:\n",
    "            res += 0.5 * l2_reg * np.sum(W ** 2)\n",
    "        if l1_reg:\n",
    "            res += l1_reg * np.sum(W)\n",
    "        return res\n",
    "\n",
    "    def fprime(w, *args):\n",
    "        W = w.reshape((n_features, n_targets))\n",
    "        #grad = (np.dot(G, W) - Xy).ravel()\n",
    "        grad = (safe_sparse_dot(G, W) - Xy).ravel()\n",
    "        if l2_reg:\n",
    "            grad += l2_reg * w\n",
    "        if l1_reg:\n",
    "            grad += l1_reg\n",
    "        return grad\n",
    "\n",
    "    if W_init is None:\n",
    "        W = np.zeros((n_features * n_targets,), dtype=np.float64)\n",
    "    else:\n",
    "        W = W_init.ravel().copy()\n",
    "    W, residual, d = fmin_l_bfgs_b(\n",
    "                f, x0=W, fprime=fprime, pgtol=tol,\n",
    "                bounds=[(0, None)] * n_features * n_targets,\n",
    "                maxiter=max_iter,\n",
    "                callback=callback)\n",
    "    \n",
    "    # testing reveals that sometimes, very small negative values occur\n",
    "    W[W < 0] = 0\n",
    "    \n",
    "    if l1_reg:\n",
    "        residual -= l1_reg * np.sum(W)\n",
    "    if l2_reg:\n",
    "        residual -= 0.5 * l2_reg * np.sum(W ** 2)\n",
    "    residual = np.sqrt(2 * residual)\n",
    "    if d['warnflag'] > 0:\n",
    "        print(\"L-BFGS-B failed to converge\")\n",
    "    \n",
    "    return W.reshape((n_features, n_targets)), residual"
   ]
  },
  {
   "cell_type": "code",
   "execution_count": 12,
   "id": "08da8bb0",
   "metadata": {},
   "outputs": [],
   "source": [
    "import scipy \n",
    "\n",
    "def flow_prediction_nls(G, labelled_flows, lamb=1e-6):\n",
    "    '''\n",
    "        Flow prediction with non-negative least squares\n",
    "    '''\n",
    "    n_labelled_edges = len(labelled_flows)\n",
    "    b = np.zeros(n_labelled_edges)\n",
    "    B = nx.incidence_matrix(G, oriented=True)\n",
    "    f0 = np.zeros(G.number_of_edges())\n",
    "\n",
    "    i = 0\n",
    "    j = 0\n",
    "    U = []\n",
    "    index = {}\n",
    "    for e in G.edges():\n",
    "        if e in labelled_flows:\n",
    "            f0[i] = labelled_flows[e]\n",
    "        else:\n",
    "            U.append(i)\n",
    "            index[e] = j\n",
    "            j = j + 1\n",
    "        i = i + 1\n",
    "\n",
    "    b = -B.dot(f0)\n",
    " \n",
    "    A = B[np.ix_(np.arange(B.shape[0]), U)]\n",
    "    \n",
    "    #X_wide = np.random.uniform(low=0, high=1, size=(50, 100))\n",
    "    #Y_wide = np.random.uniform(low=0, high=1, size=(50, 1))\n",
    "    #W, resid = nls_projgrad(X_wide, Y_wide)\n",
    "    \n",
    "    #res = linalg.lsmr(A, b, damp=lamb)\n",
    "    A = A.tocsr()\n",
    "    #b = scipy.sparse.csr_matrix(b.reshape(b.shape[0], 1))\n",
    "    b = scipy.sparse.csr_matrix(b.reshape(b.shape[0],1))\n",
    "    \n",
    "    res = nls_lbfgs_b(A, b, l2_reg=lamb)\n",
    "    x = res[0]\n",
    "\n",
    "    pred_flows = {}\n",
    "    \n",
    "    for e in G.edges():\n",
    "        if e in labelled_flows:\n",
    "            pred_flows[e] = np.array([labelled_flows[e]])\n",
    "        else:\n",
    "            pred_flows[e] = x[index[e]]\n",
    "    \n",
    "            \n",
    "    return pred_flows"
   ]
  },
  {
   "cell_type": "code",
   "execution_count": 13,
   "id": "e0e56102",
   "metadata": {},
   "outputs": [],
   "source": [
    "def speed_prediction(G, labelled_flows, lamb=1e-6):\n",
    "    '''\n",
    "        Speed prediction.\n",
    "    '''\n",
    "    n_labelled_edges = len(labelled_flows)\n",
    "    line_G = nx.line_graph(G)\n",
    "    A = nx.adjacency_matrix(line_G)\n",
    "    f0 = []\n",
    "    \n",
    "    A.data = A.data / np.repeat(np.add.reduceat(A.data, A.indptr[:-1]), np.diff(A.indptr))\n",
    "   \n",
    "    U = []\n",
    "    L = []\n",
    "    i = 0\n",
    "    j = 0\n",
    "    index = {}\n",
    "    for e in line_G.nodes():\n",
    "        if e in labelled_flows:\n",
    "            f0.append(labelled_flows[e])\n",
    "            L.append(i)\n",
    "        else:\n",
    "            U.append(i)\n",
    "            index[e] = j\n",
    "            j = j + 1\n",
    "        i = i + 1\n",
    "\n",
    "    PUL = A[np.ix_(U, L)]\n",
    "    f0 = np.array(f0)\n",
    "    b = PUL.dot(f0)\n",
    "    PUU = A[np.ix_(U, U)]\n",
    "    A = scipy.sparse.identity(PUU.shape[0])-PUU   \n",
    "    res = linalg.lsmr(A, b, damp=lamb)\n",
    "    x = res[0]\n",
    "    \n",
    "    pred_flows = {}\n",
    "\n",
    "    for e in G.edges:\n",
    "        if e in labelled_flows:\n",
    "            pred_flows[e] = labeled_flows[e]\n",
    "        else:\n",
    "            pred_flows[e] = x[index[e]]\n",
    "            \n",
    "    return pred_flows"
   ]
  },
  {
   "cell_type": "markdown",
   "id": "d2f3b19c",
   "metadata": {},
   "source": [
    "## Testing - Small Network"
   ]
  },
  {
   "cell_type": "code",
   "execution_count": 14,
   "id": "33aed609",
   "metadata": {},
   "outputs": [
    {
     "data": {
      "text/html": [
       "<div>\n",
       "<style scoped>\n",
       "    .dataframe tbody tr th:only-of-type {\n",
       "        vertical-align: middle;\n",
       "    }\n",
       "\n",
       "    .dataframe tbody tr th {\n",
       "        vertical-align: top;\n",
       "    }\n",
       "\n",
       "    .dataframe thead th {\n",
       "        text-align: right;\n",
       "    }\n",
       "</style>\n",
       "<table border=\"1\" class=\"dataframe\">\n",
       "  <thead>\n",
       "    <tr style=\"text-align: right;\">\n",
       "      <th></th>\n",
       "      <th>edge_id</th>\n",
       "      <th>edge_from</th>\n",
       "      <th>edge_to</th>\n",
       "      <th>edge_length</th>\n",
       "      <th>edge_numLanes</th>\n",
       "      <th>edge_speed</th>\n",
       "      <th>flow</th>\n",
       "      <th>vehicle_speed</th>\n",
       "    </tr>\n",
       "  </thead>\n",
       "  <tbody>\n",
       "    <tr>\n",
       "      <th>0</th>\n",
       "      <td>0</td>\n",
       "      <td>1614922744</td>\n",
       "      <td>1614922747</td>\n",
       "      <td>23.141939</td>\n",
       "      <td>2</td>\n",
       "      <td>29.0576</td>\n",
       "      <td>0.0</td>\n",
       "      <td>0.00</td>\n",
       "    </tr>\n",
       "    <tr>\n",
       "      <th>1</th>\n",
       "      <td>1</td>\n",
       "      <td>269459339</td>\n",
       "      <td>269459341</td>\n",
       "      <td>60.826398</td>\n",
       "      <td>5</td>\n",
       "      <td>29.0576</td>\n",
       "      <td>14274.0</td>\n",
       "      <td>25.65</td>\n",
       "    </tr>\n",
       "    <tr>\n",
       "      <th>2</th>\n",
       "      <td>2</td>\n",
       "      <td>1621320618</td>\n",
       "      <td>1621320622</td>\n",
       "      <td>109.464966</td>\n",
       "      <td>2</td>\n",
       "      <td>29.0576</td>\n",
       "      <td>1149.0</td>\n",
       "      <td>27.70</td>\n",
       "    </tr>\n",
       "    <tr>\n",
       "      <th>3</th>\n",
       "      <td>3</td>\n",
       "      <td>269459229</td>\n",
       "      <td>269459230</td>\n",
       "      <td>160.720645</td>\n",
       "      <td>3</td>\n",
       "      <td>29.0576</td>\n",
       "      <td>7974.0</td>\n",
       "      <td>25.03</td>\n",
       "    </tr>\n",
       "    <tr>\n",
       "      <th>4</th>\n",
       "      <td>4</td>\n",
       "      <td>607954833</td>\n",
       "      <td>1613371666</td>\n",
       "      <td>173.017706</td>\n",
       "      <td>3</td>\n",
       "      <td>29.0576</td>\n",
       "      <td>6504.0</td>\n",
       "      <td>26.02</td>\n",
       "    </tr>\n",
       "  </tbody>\n",
       "</table>\n",
       "</div>"
      ],
      "text/plain": [
       "   edge_id   edge_from     edge_to  edge_length  edge_numLanes  edge_speed  \\\n",
       "0        0  1614922744  1614922747    23.141939              2     29.0576   \n",
       "1        1   269459339   269459341    60.826398              5     29.0576   \n",
       "2        2  1621320618  1621320622   109.464966              2     29.0576   \n",
       "3        3   269459229   269459230   160.720645              3     29.0576   \n",
       "4        4   607954833  1613371666   173.017706              3     29.0576   \n",
       "\n",
       "      flow  vehicle_speed  \n",
       "0      0.0           0.00  \n",
       "1  14274.0          25.65  \n",
       "2   1149.0          27.70  \n",
       "3   7974.0          25.03  \n",
       "4   6504.0          26.02  "
      ]
     },
     "execution_count": 14,
     "metadata": {},
     "output_type": "execute_result"
    }
   ],
   "source": [
    "city = \"small\"\n",
    "\n",
    "edgelist = pd.read_csv(\"out/\" + city + \".results.csv\")\n",
    "edgelist.head()"
   ]
  },
  {
   "cell_type": "code",
   "execution_count": 15,
   "id": "fcecea59",
   "metadata": {},
   "outputs": [],
   "source": [
    "G = nx.from_pandas_edgelist(edgelist, source=\"edge_from\", target=\"edge_to\", edge_attr=[\"edge_id\", \"edge_numLanes\", \"edge_speed\",\n",
    "                                                                                      \"flow\", \"vehicle_speed\"],\n",
    "                           create_using=nx.DiGraph)"
   ]
  },
  {
   "cell_type": "code",
   "execution_count": 17,
   "id": "b6920e25",
   "metadata": {},
   "outputs": [],
   "source": [
    "from copy import deepcopy\n",
    "\n",
    "dummy = \"dummy\"\n",
    "\n",
    "for v in deepcopy(G.nodes()):\n",
    "    if G.out_degree(v) == 0:\n",
    "        G.add_edge(v, dummy)\n",
    "    if G.in_degree(v) == 0:\n",
    "        G.add_edge(dummy, v)"
   ]
  },
  {
   "cell_type": "code",
   "execution_count": 18,
   "id": "dbef4f3a",
   "metadata": {},
   "outputs": [
    {
     "data": {
      "text/html": [
       "<div>\n",
       "<style scoped>\n",
       "    .dataframe tbody tr th:only-of-type {\n",
       "        vertical-align: middle;\n",
       "    }\n",
       "\n",
       "    .dataframe tbody tr th {\n",
       "        vertical-align: top;\n",
       "    }\n",
       "\n",
       "    .dataframe thead th {\n",
       "        text-align: right;\n",
       "    }\n",
       "</style>\n",
       "<table border=\"1\" class=\"dataframe\">\n",
       "  <thead>\n",
       "    <tr style=\"text-align: right;\">\n",
       "      <th></th>\n",
       "      <th>node_x</th>\n",
       "      <th>node_y</th>\n",
       "    </tr>\n",
       "    <tr>\n",
       "      <th>node_id</th>\n",
       "      <th></th>\n",
       "      <th></th>\n",
       "    </tr>\n",
       "  </thead>\n",
       "  <tbody>\n",
       "    <tr>\n",
       "      <th>269459457</th>\n",
       "      <td>-118.215300</td>\n",
       "      <td>34.056067</td>\n",
       "    </tr>\n",
       "    <tr>\n",
       "      <th>317640716</th>\n",
       "      <td>-118.221778</td>\n",
       "      <td>34.036254</td>\n",
       "    </tr>\n",
       "    <tr>\n",
       "      <th>317640717</th>\n",
       "      <td>-118.221770</td>\n",
       "      <td>34.036083</td>\n",
       "    </tr>\n",
       "    <tr>\n",
       "      <th>317640718</th>\n",
       "      <td>-118.221753</td>\n",
       "      <td>34.035806</td>\n",
       "    </tr>\n",
       "    <tr>\n",
       "      <th>317640719</th>\n",
       "      <td>-118.221718</td>\n",
       "      <td>34.035521</td>\n",
       "    </tr>\n",
       "  </tbody>\n",
       "</table>\n",
       "</div>"
      ],
      "text/plain": [
       "               node_x     node_y\n",
       "node_id                         \n",
       "269459457 -118.215300  34.056067\n",
       "317640716 -118.221778  34.036254\n",
       "317640717 -118.221770  34.036083\n",
       "317640718 -118.221753  34.035806\n",
       "317640719 -118.221718  34.035521"
      ]
     },
     "execution_count": 18,
     "metadata": {},
     "output_type": "execute_result"
    }
   ],
   "source": [
    "nodes = pd.read_csv(\"out/\" + city + \".nodes.csv\", sep=\";\").set_index(\"node_id\")\n",
    "nodes.head()"
   ]
  },
  {
   "cell_type": "code",
   "execution_count": 19,
   "id": "69a8fa6c",
   "metadata": {},
   "outputs": [],
   "source": [
    "import matplotlib as mpl\n",
    "import matplotlib.pyplot as plt\n",
    "\n",
    "positions = {v: (k[\"node_x\"], k[\"node_y\"]) for v, k in nodes.to_dict(\"index\").items()}"
   ]
  },
  {
   "cell_type": "code",
   "execution_count": 28,
   "id": "fe899b2f",
   "metadata": {},
   "outputs": [],
   "source": [
    "labeled_flows = get_labels_from_df(edgelist, 2, 3, -2)\n",
    "k = int(len(labeled_flows) / 10)"
   ]
  },
  {
   "cell_type": "code",
   "execution_count": 29,
   "id": "aa98dff1",
   "metadata": {},
   "outputs": [
    {
     "name": "stdout",
     "output_type": "stream",
     "text": [
      "L-BFGS-B failed to converge\n",
      "L-BFGS-B failed to converge\n",
      "L-BFGS-B failed to converge\n",
      "L-BFGS-B failed to converge\n",
      "L-BFGS-B failed to converge\n",
      "L-BFGS-B failed to converge\n",
      "L-BFGS-B failed to converge\n",
      "L-BFGS-B failed to converge\n",
      "L-BFGS-B failed to converge\n",
      "L-BFGS-B failed to converge\n",
      "L-BFGS-B failed to converge\n",
      "L-BFGS-B failed to converge\n",
      "L-BFGS-B failed to converge\n",
      "L-BFGS-B failed to converge\n",
      "L-BFGS-B failed to converge\n"
     ]
    },
    {
     "data": {
      "application/vnd.jupyter.widget-view+json": {
       "model_id": "a1bb3b5b61b44d86bc1a2c0467bf2224",
       "version_major": 2,
       "version_minor": 0
      },
      "text/plain": [
       "  0%|          | 0/122 [00:00<?, ?it/s]"
      ]
     },
     "metadata": {},
     "output_type": "display_data"
    },
    {
     "name": "stdout",
     "output_type": "stream",
     "text": [
      "L-BFGS-B failed to converge\n",
      "L-BFGS-B failed to converge\n"
     ]
    }
   ],
   "source": [
    "opt_sensors = choose_sensors(G, labeled_flows, flow_prediction_nls, mse, lazy=True, k=k, cores=8)"
   ]
  },
  {
   "cell_type": "code",
   "execution_count": 30,
   "id": "9a736287",
   "metadata": {},
   "outputs": [
    {
     "data": {
      "application/vnd.jupyter.widget-view+json": {
       "model_id": "e7efa7ea53a14eda8de2aa3bc8b82c1c",
       "version_major": 2,
       "version_minor": 0
      },
      "text/plain": [
       "  0%|          | 0/122 [00:00<?, ?it/s]"
      ]
     },
     "metadata": {},
     "output_type": "display_data"
    },
    {
     "name": "stdout",
     "output_type": "stream",
     "text": [
      "L-BFGS-B failed to converge\n"
     ]
    }
   ],
   "source": [
    "errs = {}\n",
    "\n",
    "for i in tqdm(range(len(opt_sensors))):\n",
    "    preds = flow_prediction_nls(G, {s: labeled_flows[s] for s in opt_sensors[:i]})\n",
    "    errs[i] = mse(preds, labeled_flows) ** (1 / 2)"
   ]
  },
  {
   "cell_type": "code",
   "execution_count": 141,
   "id": "436aa8c4",
   "metadata": {},
   "outputs": [
    {
     "data": {
      "text/plain": [
       "122"
      ]
     },
     "execution_count": 141,
     "metadata": {},
     "output_type": "execute_result"
    }
   ],
   "source": [
    "\"\"\"\n",
    "Randomly select k edges from the graph.\n",
    "\"\"\"\n",
    "def choose_sensors_random(G, k=None, dummy=None):\n",
    "    if k == None:\n",
    "        k = int(G.number_of_edges() / 50)\n",
    "        \n",
    "    H = G.__class__()\n",
    "    H.add_nodes_from(G)\n",
    "    H.add_edges_from(G.edges)\n",
    "    \n",
    "    if dummy in H.nodes:\n",
    "        H.remove_node(dummy)\n",
    "        \n",
    "    choice = np.random.choice(H.number_of_edges(), k, replace=False)\n",
    "    selected = []\n",
    "    for i, e in enumerate(H.edges):\n",
    "        if i in choice:\n",
    "            selected.append(e)\n",
    "        \n",
    "    return selected\n",
    "\n",
    "rand_sensors = choose_sensors_random(G, k=k, dummy=\"dummy\")\n",
    "len(rand_sensors)"
   ]
  },
  {
   "cell_type": "code",
   "execution_count": 52,
   "id": "fd9b3ec9",
   "metadata": {},
   "outputs": [
    {
     "data": {
      "application/vnd.jupyter.widget-view+json": {
       "model_id": "16e1d3a9e9474109ad304e72504ea8a2",
       "version_major": 2,
       "version_minor": 0
      },
      "text/plain": [
       "  0%|          | 0/122 [00:00<?, ?it/s]"
      ]
     },
     "metadata": {},
     "output_type": "display_data"
    },
    {
     "name": "stdout",
     "output_type": "stream",
     "text": [
      "L-BFGS-B failed to converge\n",
      "L-BFGS-B failed to converge\n"
     ]
    }
   ],
   "source": [
    "rand_errs = {}\n",
    "\n",
    "for i in tqdm(range(len(rand_sensors))):\n",
    "    preds = flow_prediction_nls(G, {s: labeled_flows[s] for s in rand_sensors[:i]})\n",
    "    rand_errs[i] = mse(preds, labeled_flows) ** (1 / 2)"
   ]
  },
  {
   "cell_type": "code",
   "execution_count": 54,
   "id": "794ff3d3",
   "metadata": {},
   "outputs": [
    {
     "data": {
      "image/png": "[encoded data removed]",
      "text/plain": [
       "<Figure size 432x288 with 1 Axes>"
      ]
     },
     "metadata": {
      "needs_background": "light"
     },
     "output_type": "display_data"
    }
   ],
   "source": [
    "fig, ax = plt.subplots()\n",
    "ax.plot(range(len(errs.values())), errs.values(), label=\"Greedy\")\n",
    "ax.plot(range(len(rand_errs.values())), rand_errs.values(), label=\"Random\")\n",
    "ax.legend()\n",
    "plt.xlabel(\"Number of Sensors\")\n",
    "plt.ylabel(\"RMSE\")\n",
    "plt.title(\"Greedy vs Random on Small Traffic Dataset - Flows\")\n",
    "plt.show()"
   ]
  },
  {
   "cell_type": "code",
   "execution_count": null,
   "id": "4857fd4e",
   "metadata": {},
   "outputs": [],
   "source": [
    "G.remove_node(dummy)"
   ]
  },
  {
   "cell_type": "code",
   "execution_count": 60,
   "id": "09af9dea",
   "metadata": {},
   "outputs": [
    {
     "data": {
      "image/png": "[encoded data removed]",
      "text/plain": [
       "<Figure size 1382.4x1036.8 with 1 Axes>"
      ]
     },
     "metadata": {},
     "output_type": "display_data"
    }
   ],
   "source": [
    "plt.figure(figsize=[3 * 6.4, 3 * 4.8])\n",
    "edge_colors = [\"green\" if (u, v) in opt_sensors[:25] or (v, u) in opt_sensors[:25] else \"lightgray\" for u, v in G.edges()]\n",
    "nx.draw(G, pos=positions, node_size=1, node_color=\"white\", edge_color=edge_colors)\n",
    "plt.title(\"Optimal Sensors For Small Traffic Network - Flows\")\n",
    "plt.show()"
   ]
  },
  {
   "cell_type": "code",
   "execution_count": 61,
   "id": "c8dd3d98",
   "metadata": {},
   "outputs": [
    {
     "data": {
      "text/plain": [
       "array([4.47258157e+11])"
      ]
     },
     "execution_count": 61,
     "metadata": {},
     "output_type": "execute_result"
    }
   ],
   "source": [
    "mse(flow_prediction_nls(G, {s: labeled_flows[s] for s in opt_sensors}), labeled_flows) ** 2"
   ]
  },
  {
   "cell_type": "code",
   "execution_count": 62,
   "id": "b32cd675",
   "metadata": {},
   "outputs": [],
   "source": [
    "preds = flow_prediction_nls(G, {s: labeled_flows[s] for s in opt_sensors})"
   ]
  },
  {
   "cell_type": "code",
   "execution_count": 71,
   "id": "f9204d7e",
   "metadata": {},
   "outputs": [],
   "source": [
    "labeled_speeds = get_labels_from_df(edgelist, 2, 3, -1)"
   ]
  },
  {
   "cell_type": "code",
   "execution_count": 138,
   "id": "0ee30970",
   "metadata": {},
   "outputs": [
    {
     "data": {
      "application/vnd.jupyter.widget-view+json": {
       "model_id": "34ff6b98e97c4d0386144fc08c4303fe",
       "version_major": 2,
       "version_minor": 0
      },
      "text/plain": [
       "  0%|          | 0/600 [00:00<?, ?it/s]"
      ]
     },
     "metadata": {},
     "output_type": "display_data"
    }
   ],
   "source": [
    "opt_sensors = choose_sensors(G, labeled_speeds, speed_prediction, mse, lazy=True, k=600, cores=8)"
   ]
  },
  {
   "cell_type": "code",
   "execution_count": 142,
   "id": "3c71542d",
   "metadata": {},
   "outputs": [],
   "source": [
    "rand_sensors = choose_sensors_random(G, k=600)"
   ]
  },
  {
   "cell_type": "code",
   "execution_count": 143,
   "id": "86e65acd",
   "metadata": {},
   "outputs": [
    {
     "data": {
      "text/plain": [
       "600"
      ]
     },
     "execution_count": 143,
     "metadata": {},
     "output_type": "execute_result"
    }
   ],
   "source": [
    "len(rand_sensors)"
   ]
  },
  {
   "cell_type": "code",
   "execution_count": 144,
   "id": "d70873d9",
   "metadata": {},
   "outputs": [
    {
     "data": {
      "application/vnd.jupyter.widget-view+json": {
       "model_id": "208f9a0c71524eb8a187d3029f85d19e",
       "version_major": 2,
       "version_minor": 0
      },
      "text/plain": [
       "  0%|          | 0/600 [00:00<?, ?it/s]"
      ]
     },
     "metadata": {},
     "output_type": "display_data"
    }
   ],
   "source": [
    "errs, rand_errs = {}, {}\n",
    "\n",
    "for i in tqdm(range(len(opt_sensors))):\n",
    "    preds = speed_prediction(G, {s: labeled_speeds[s] for s in opt_sensors[:i]})\n",
    "    errs[i] = mse(preds, labeled_speeds) ** (1 / 2)\n",
    "    \n",
    "    random_preds = speed_prediction(G, {s: labeled_speeds[s] for s in rand_sensors[:i]})\n",
    "    rand_errs[i] = mse(random_preds, labeled_speeds) ** (1 / 2)"
   ]
  },
  {
   "cell_type": "code",
   "execution_count": 145,
   "id": "4fd90b8c",
   "metadata": {},
   "outputs": [
    {
     "data": {
      "image/png": "[encoded data removed]",
      "text/plain": [
       "<Figure size 432x288 with 1 Axes>"
      ]
     },
     "metadata": {
      "needs_background": "light"
     },
     "output_type": "display_data"
    }
   ],
   "source": [
    "fig, ax = plt.subplots()\n",
    "ax.plot(range(len(errs.values())), errs.values(), label=\"Greedy\")\n",
    "ax.plot(range(len(rand_errs.values())), rand_errs.values(), label=\"Random\")\n",
    "ax.legend()\n",
    "plt.xlabel(\"Number of Sensors\")\n",
    "plt.ylabel(\"RMSE\")\n",
    "plt.title(\"Greedy vs Random on Small Traffic Dataset - Speeds\")\n",
    "plt.show()"
   ]
  },
  {
   "cell_type": "code",
   "execution_count": null,
   "id": "5edd672c",
   "metadata": {},
   "outputs": [],
   "source": [
    "plt.figure(figsize=[3 * 6.4, 3 * 4.8])\n",
    "\n",
    "edge_colors = [\"green\" if (u, v) in opt_sensors or (v, u) in opt_sensors else \"lightgray\" for u, v in G.edges()]\n",
    "nx.draw(G, pos=positions, node_size=1, node_color=\"white\", edge_color=edge_colors)"
   ]
  },
  {
   "cell_type": "code",
   "execution_count": null,
   "id": "67d80593",
   "metadata": {},
   "outputs": [],
   "source": [
    "preds = speed_prediction(G, {s: labeled_flows[s] for s in opt_sensors})\n",
    "mse(preds, labeled_speeds)"
   ]
  },
  {
   "cell_type": "code",
   "execution_count": null,
   "id": "ea11566b",
   "metadata": {},
   "outputs": [],
   "source": [
    "preds"
   ]
  },
  {
   "cell_type": "markdown",
   "id": "04bf6742",
   "metadata": {},
   "source": [
    "## Benchmarks"
   ]
  },
  {
   "cell_type": "markdown",
   "id": "888942da",
   "metadata": {},
   "source": [
    "### TODO\n",
    "\n",
    "Get benchmarks from active learning paper"
   ]
  },
  {
   "cell_type": "markdown",
   "id": "ee774a64",
   "metadata": {},
   "source": [
    "## Error Metrics"
   ]
  },
  {
   "cell_type": "code",
   "execution_count": null,
   "id": "669863da",
   "metadata": {},
   "outputs": [],
   "source": [
    "def geh(pred, actual):\n",
    "    if pred == actual == 0:\n",
    "        return np.array([0])\n",
    "    return np.sqrt((2 * (pred - actual) ** 2) / (pred + actual))"
   ]
  },
  {
   "cell_type": "code",
   "execution_count": null,
   "id": "b7eeb5cf",
   "metadata": {},
   "outputs": [],
   "source": [
    "def mape(pred_labels, labeled_edges):\n",
    "    return 100 * sum([abs((v - pred_labels[k]) / v) for k, v in labeled_edges.items()]) / len(labeled_edges) "
   ]
  },
  {
   "cell_type": "markdown",
   "id": "14692d1d",
   "metadata": {},
   "source": [
    "# Some Results"
   ]
  },
  {
   "cell_type": "markdown",
   "id": "68fd7a8e",
   "metadata": {},
   "source": [
    "## Synthetic Flows"
   ]
  },
  {
   "cell_type": "code",
   "execution_count": 212,
   "id": "f77323c0",
   "metadata": {},
   "outputs": [],
   "source": [
    "def synthetic_flows(G, b=0.02, epsilon=0.1):\n",
    "    B = nx.incidence_matrix(G, oriented=True)\n",
    "    u, s, vh = scipy.linalg.svd(B.todense())\n",
    "    ss = np.zeros(vh.shape[0])\n",
    "    ss[:s.shape[0]] = s\n",
    "    \n",
    "    vec = np.zeros(vh.shape[0])\n",
    "\n",
    "    for i in range(vh.shape[0]):\n",
    "        vec = vec + b / (ss[i]+epsilon) * vh[i]\n",
    "        \n",
    "    flows = {}\n",
    "    \n",
    "    i = 0\n",
    "    for e in G.edges():\n",
    "        flows[e] = vec[i] * 1000\n",
    "        i = i + 1\n",
    "        \n",
    "    return flows"
   ]
  },
  {
   "cell_type": "code",
   "execution_count": 248,
   "id": "fd0d9d44",
   "metadata": {},
   "outputs": [],
   "source": [
    "labeled_synthetic_flows = synthetic_flows(G)"
   ]
  },
  {
   "cell_type": "code",
   "execution_count": 249,
   "id": "f2e1120a",
   "metadata": {},
   "outputs": [],
   "source": [
    "for v in deepcopy(G.nodes()):\n",
    "    if G.out_degree(v) == 0:\n",
    "        G.add_edge(v, dummy)\n",
    "    if G.in_degree(v) == 0:\n",
    "        G.add_edge(dummy, v)"
   ]
  },
  {
   "cell_type": "code",
   "execution_count": 250,
   "id": "5b6a55a7",
   "metadata": {},
   "outputs": [
    {
     "data": {
      "application/vnd.jupyter.widget-view+json": {
       "model_id": "1defd1aa067d44689d9b47720e8f0bf1",
       "version_major": 2,
       "version_minor": 0
      },
      "text/plain": [
       "  0%|          | 0/600 [00:00<?, ?it/s]"
      ]
     },
     "metadata": {},
     "output_type": "display_data"
    }
   ],
   "source": [
    "opt_sensors = choose_sensors(G, labeled_synthetic_flows, flow_prediction, mse, lazy=True, k=600, cores=10)"
   ]
  },
  {
   "cell_type": "code",
   "execution_count": 244,
   "id": "81fb2b2d",
   "metadata": {},
   "outputs": [],
   "source": [
    "G.remove_node(dummy)"
   ]
  },
  {
   "cell_type": "code",
   "execution_count": 251,
   "id": "b1b81a14",
   "metadata": {},
   "outputs": [],
   "source": [
    "random_sensors = choose_sensors_random(power_graph, k=600)"
   ]
  },
  {
   "cell_type": "code",
   "execution_count": 252,
   "id": "a733ef81",
   "metadata": {},
   "outputs": [
    {
     "data": {
      "application/vnd.jupyter.widget-view+json": {
       "model_id": "c2558a3a19f74ff5928982c86ea425a5",
       "version_major": 2,
       "version_minor": 0
      },
      "text/plain": [
       "  0%|          | 0/600 [00:00<?, ?it/s]"
      ]
     },
     "metadata": {},
     "output_type": "display_data"
    }
   ],
   "source": [
    "errs, rand_errs = {}, {}\n",
    "\n",
    "for i in tqdm(range(len(opt_sensors))):\n",
    "    preds = flow_prediction(G, {s: labeled_synthetic_flows[s] for s in opt_sensors[:i]})\n",
    "    errs[i] = mse(preds, labeled_synthetic_flows) ** (1 / 2)\n",
    "    \n",
    "    random_preds = flow_prediction(G, {s: labeled_synthetic_flows[s] for s in rand_sensors[:i]})\n",
    "    rand_errs[i] = mse(random_preds, labeled_synthetic_flows) ** (1 / 2)"
   ]
  },
  {
   "cell_type": "code",
   "execution_count": 253,
   "id": "de01bb85",
   "metadata": {},
   "outputs": [
    {
     "data": {
      "image/png": "[encoded data removed]",
      "text/plain": [
       "<Figure size 432x288 with 1 Axes>"
      ]
     },
     "metadata": {
      "needs_background": "light"
     },
     "output_type": "display_data"
    }
   ],
   "source": [
    "fig, ax = plt.subplots()\n",
    "ax.plot(range(len(errs.values())), errs.values(), label=\"Greedy\")\n",
    "ax.plot(range(len(rand_errs.values())), rand_errs.values(), label=\"Random\")\n",
    "ax.legend()\n",
    "plt.xlabel(\"Number of Sensors\")\n",
    "plt.ylabel(\"RMSE\")\n",
    "plt.title(\"Greedy vs Random on Small Traffic Dataset - Flows\")\n",
    "plt.show()"
   ]
  },
  {
   "cell_type": "markdown",
   "id": "fb0271f3",
   "metadata": {},
   "source": [
    "## Some Real Graphs"
   ]
  },
  {
   "cell_type": "markdown",
   "id": "5c32d637",
   "metadata": {},
   "source": [
    "### Power Flows"
   ]
  },
  {
   "cell_type": "code",
   "execution_count": 219,
   "id": "ecb5df23",
   "metadata": {},
   "outputs": [
    {
     "data": {
      "text/html": [
       "<div>\n",
       "<style scoped>\n",
       "    .dataframe tbody tr th:only-of-type {\n",
       "        vertical-align: middle;\n",
       "    }\n",
       "\n",
       "    .dataframe tbody tr th {\n",
       "        vertical-align: top;\n",
       "    }\n",
       "\n",
       "    .dataframe thead th {\n",
       "        text-align: right;\n",
       "    }\n",
       "</style>\n",
       "<table border=\"1\" class=\"dataframe\">\n",
       "  <thead>\n",
       "    <tr style=\"text-align: right;\">\n",
       "      <th></th>\n",
       "      <th>source</th>\n",
       "      <th>target</th>\n",
       "    </tr>\n",
       "  </thead>\n",
       "  <tbody>\n",
       "    <tr>\n",
       "      <th>0</th>\n",
       "      <td>DE0 143</td>\n",
       "      <td>DE0 143-x</td>\n",
       "    </tr>\n",
       "    <tr>\n",
       "      <th>1</th>\n",
       "      <td>DE0 143</td>\n",
       "      <td>DE0 8</td>\n",
       "    </tr>\n",
       "    <tr>\n",
       "      <th>2</th>\n",
       "      <td>FR0 18</td>\n",
       "      <td>FR0 29</td>\n",
       "    </tr>\n",
       "    <tr>\n",
       "      <th>3</th>\n",
       "      <td>FR0 18</td>\n",
       "      <td>FR0 18-x</td>\n",
       "    </tr>\n",
       "    <tr>\n",
       "      <th>4</th>\n",
       "      <td>FR0 18</td>\n",
       "      <td>FR0 98</td>\n",
       "    </tr>\n",
       "  </tbody>\n",
       "</table>\n",
       "</div>"
      ],
      "text/plain": [
       "    source     target\n",
       "0  DE0 143  DE0 143-x\n",
       "1  DE0 143      DE0 8\n",
       "2   FR0 18     FR0 29\n",
       "3   FR0 18   FR0 18-x\n",
       "4   FR0 18     FR0 98"
      ]
     },
     "execution_count": 219,
     "metadata": {},
     "output_type": "execute_result"
    }
   ],
   "source": [
    "power_edgelist = pd.read_csv(\"data/power_net.csv\", header=None, names=[\"source\", \"target\"])\n",
    "power_edgelist.head()"
   ]
  },
  {
   "cell_type": "code",
   "execution_count": 220,
   "id": "76f46ac5",
   "metadata": {},
   "outputs": [],
   "source": [
    "power_graph = nx.from_pandas_edgelist(power_edgelist, source=\"source\", target=\"target\", create_using=nx.DiGraph)"
   ]
  },
  {
   "cell_type": "code",
   "execution_count": null,
   "id": "c97dc3b8",
   "metadata": {},
   "outputs": [],
   "source": [
    "# for e in copy(power_graph.edges()):\n",
    "#     if power_graph.out_degree(e) == 0:\n",
    "#         power_graph.add_edge(e, dummy)\n",
    "#     if power_graph.in_degree(e) == 0:\n",
    "#         power_graph.add_edge(dummy, e)"
   ]
  },
  {
   "cell_type": "code",
   "execution_count": 221,
   "id": "d0ddba73",
   "metadata": {},
   "outputs": [],
   "source": [
    "import pickle\n",
    "\n",
    "with open('data/flows_power.pkl', 'rb') as f:\n",
    "    power_flows = pickle.load(f)"
   ]
  },
  {
   "cell_type": "code",
   "execution_count": 222,
   "id": "1f092f59",
   "metadata": {},
   "outputs": [],
   "source": [
    "labeled_power_flows = {}\n",
    "for e in power_graph.edges():\n",
    "    u, v = e\n",
    "    if e in power_flows:\n",
    "        labeled_power_flows[e] = power_flows[e]\n",
    "    else: \n",
    "        labeled_power_flows[e] = power_flows[(v, u)]"
   ]
  },
  {
   "cell_type": "code",
   "execution_count": 223,
   "id": "72daf798",
   "metadata": {},
   "outputs": [
    {
     "data": {
      "application/vnd.jupyter.widget-view+json": {
       "model_id": "d2070e9ed58340e18af73a7a00b92233",
       "version_major": 2,
       "version_minor": 0
      },
      "text/plain": [
       "  0%|          | 0/1364 [00:00<?, ?it/s]"
      ]
     },
     "metadata": {},
     "output_type": "display_data"
    }
   ],
   "source": [
    "opt_sensors = choose_sensors(power_graph, labeled_power_flows, flow_prediction, mse, lazy=True, \n",
    "                             k=int(len(labeled_power_flows) / 2))"
   ]
  },
  {
   "cell_type": "code",
   "execution_count": 233,
   "id": "b5a2f832",
   "metadata": {},
   "outputs": [
    {
     "data": {
      "text/plain": [
       "array([262026.9536325])"
      ]
     },
     "execution_count": 233,
     "metadata": {},
     "output_type": "execute_result"
    }
   ],
   "source": [
    "mse(flow_prediction_nls(power_graph, {s: labeled_power_flows[s] for s in opt_sensors}), labeled_power_flows)"
   ]
  },
  {
   "cell_type": "code",
   "execution_count": 231,
   "id": "0eb70d45",
   "metadata": {},
   "outputs": [
    {
     "data": {
      "text/plain": [
       "[<matplotlib.lines.Line2D at 0x7fe7e2f0c8e0>]"
      ]
     },
     "execution_count": 231,
     "metadata": {},
     "output_type": "execute_result"
    },
    {
     "data": {
      "image/png": "[encoded data removed]",
      "text/plain": [
       "<Figure size 432x288 with 1 Axes>"
      ]
     },
     "metadata": {
      "needs_background": "light"
     },
     "output_type": "display_data"
    }
   ],
   "source": [
    "plt.plot(range(len(errs.values())), errs.values())"
   ]
  },
  {
   "cell_type": "code",
   "execution_count": 228,
   "id": "83400a38",
   "metadata": {},
   "outputs": [
    {
     "data": {
      "application/vnd.jupyter.widget-view+json": {
       "model_id": "7667bf9e6c084e74a0641b54171f710b",
       "version_major": 2,
       "version_minor": 0
      },
      "text/plain": [
       "  0%|          | 0/1364 [00:00<?, ?it/s]"
      ]
     },
     "metadata": {},
     "output_type": "display_data"
    }
   ],
   "source": [
    "random_sensors = choose_sensors_random(power_graph, k=int(len(labeled_power_flows) / 2))\n",
    "random_errs = {}\n",
    "\n",
    "errs = {}\n",
    "\n",
    "for i in tqdm(range(len(random_sensors))):\n",
    "    preds = flow_prediction_nls(power_graph, {s: labeled_power_flows[s] for s in opt_sensors[:i]})\n",
    "    errs[i] = mse(preds, labeled_power_flows)\n",
    "    \n",
    "    random_preds = flow_prediction_nls(power_graph, {s: labeled_power_flows[s] for s in random_sensors[:i]})\n",
    "    random_errs[i] = mse(random_preds, labeled_power_flows)"
   ]
  },
  {
   "cell_type": "code",
   "execution_count": 229,
   "id": "54abfa60",
   "metadata": {},
   "outputs": [
    {
     "data": {
      "image/png": "[encoded data removed]",
      "text/plain": [
       "<Figure size 432x288 with 1 Axes>"
      ]
     },
     "metadata": {
      "needs_background": "light"
     },
     "output_type": "display_data"
    }
   ],
   "source": [
    "fig, ax = plt.subplots()\n",
    "ax.plot(range(len(errs.values())), errs.values(), label=\"Greedy\")\n",
    "ax.plot(range(len(random_errs.values())), random_errs.values(), label=\"Random\")\n",
    "ax.legend()\n",
    "plt.xlabel(\"Number of Sensors\")\n",
    "plt.ylabel(\"MSE\")\n",
    "plt.title(\"Greedy vs Random on Power Dataset\")\n",
    "plt.show()\n",
    "# plt.plot(range(len(errs.values())), errs.values(), range(len(random_errs.values())), random_errs.values(), \n",
    "#          xlabel=\"Number of Sensors\", ylabel=\"MSE\")"
   ]
  },
  {
   "cell_type": "markdown",
   "id": "f1266a57",
   "metadata": {},
   "source": [
    "### Other Traffic Networks"
   ]
  },
  {
   "cell_type": "markdown",
   "id": "29f4ac12",
   "metadata": {},
   "source": [
    "#### San Francisco"
   ]
  },
  {
   "cell_type": "code",
   "execution_count": 254,
   "id": "ae30db91",
   "metadata": {},
   "outputs": [
    {
     "data": {
      "text/html": [
       "<div>\n",
       "<style scoped>\n",
       "    .dataframe tbody tr th:only-of-type {\n",
       "        vertical-align: middle;\n",
       "    }\n",
       "\n",
       "    .dataframe tbody tr th {\n",
       "        vertical-align: top;\n",
       "    }\n",
       "\n",
       "    .dataframe thead th {\n",
       "        text-align: right;\n",
       "    }\n",
       "</style>\n",
       "<table border=\"1\" class=\"dataframe\">\n",
       "  <thead>\n",
       "    <tr style=\"text-align: right;\">\n",
       "      <th></th>\n",
       "      <th>edge_id</th>\n",
       "      <th>edge_from</th>\n",
       "      <th>edge_to</th>\n",
       "      <th>edge_length</th>\n",
       "      <th>edge_numLanes</th>\n",
       "      <th>edge_speed</th>\n",
       "      <th>flow</th>\n",
       "      <th>vehicle_speed</th>\n",
       "    </tr>\n",
       "  </thead>\n",
       "  <tbody>\n",
       "    <tr>\n",
       "      <th>0</th>\n",
       "      <td>0</td>\n",
       "      <td>663028776</td>\n",
       "      <td>32915539</td>\n",
       "      <td>85.856322</td>\n",
       "      <td>5</td>\n",
       "      <td>29.0576</td>\n",
       "      <td>2090.0</td>\n",
       "      <td>26.36</td>\n",
       "    </tr>\n",
       "    <tr>\n",
       "      <th>1</th>\n",
       "      <td>1</td>\n",
       "      <td>349678308</td>\n",
       "      <td>349678300</td>\n",
       "      <td>33.691470</td>\n",
       "      <td>2</td>\n",
       "      <td>29.0576</td>\n",
       "      <td>67.0</td>\n",
       "      <td>27.26</td>\n",
       "    </tr>\n",
       "    <tr>\n",
       "      <th>2</th>\n",
       "      <td>2</td>\n",
       "      <td>120816570</td>\n",
       "      <td>3971849316</td>\n",
       "      <td>13.396196</td>\n",
       "      <td>1</td>\n",
       "      <td>29.0576</td>\n",
       "      <td>0.0</td>\n",
       "      <td>0.00</td>\n",
       "    </tr>\n",
       "    <tr>\n",
       "      <th>3</th>\n",
       "      <td>3</td>\n",
       "      <td>31354482</td>\n",
       "      <td>31416669</td>\n",
       "      <td>174.514680</td>\n",
       "      <td>2</td>\n",
       "      <td>29.0576</td>\n",
       "      <td>767.0</td>\n",
       "      <td>17.33</td>\n",
       "    </tr>\n",
       "    <tr>\n",
       "      <th>4</th>\n",
       "      <td>4</td>\n",
       "      <td>62292066</td>\n",
       "      <td>62292068</td>\n",
       "      <td>20.349926</td>\n",
       "      <td>1</td>\n",
       "      <td>29.0576</td>\n",
       "      <td>0.0</td>\n",
       "      <td>0.00</td>\n",
       "    </tr>\n",
       "  </tbody>\n",
       "</table>\n",
       "</div>"
      ],
      "text/plain": [
       "   edge_id  edge_from     edge_to  edge_length  edge_numLanes  edge_speed  \\\n",
       "0        0  663028776    32915539    85.856322              5     29.0576   \n",
       "1        1  349678308   349678300    33.691470              2     29.0576   \n",
       "2        2  120816570  3971849316    13.396196              1     29.0576   \n",
       "3        3   31354482    31416669   174.514680              2     29.0576   \n",
       "4        4   62292066    62292068    20.349926              1     29.0576   \n",
       "\n",
       "     flow  vehicle_speed  \n",
       "0  2090.0          26.36  \n",
       "1    67.0          27.26  \n",
       "2     0.0           0.00  \n",
       "3   767.0          17.33  \n",
       "4     0.0           0.00  "
      ]
     },
     "execution_count": 254,
     "metadata": {},
     "output_type": "execute_result"
    }
   ],
   "source": [
    "edgelist = pd.read_csv(\"out/sfc.results.csv\")\n",
    "edgelist.head()"
   ]
  },
  {
   "cell_type": "code",
   "execution_count": 255,
   "id": "28ece853",
   "metadata": {},
   "outputs": [],
   "source": [
    "G = nx.from_pandas_edgelist(edgelist, source=\"edge_from\", target=\"edge_to\", edge_attr=[\"edge_id\", \"edge_numLanes\", \"edge_speed\",\n",
    "                                                                                      \"flow\", \"vehicle_speed\"],\n",
    "                           create_using=nx.DiGraph)"
   ]
  },
  {
   "cell_type": "code",
   "execution_count": 256,
   "id": "d748f31e",
   "metadata": {},
   "outputs": [
    {
     "data": {
      "text/html": [
       "<div>\n",
       "<style scoped>\n",
       "    .dataframe tbody tr th:only-of-type {\n",
       "        vertical-align: middle;\n",
       "    }\n",
       "\n",
       "    .dataframe tbody tr th {\n",
       "        vertical-align: top;\n",
       "    }\n",
       "\n",
       "    .dataframe thead th {\n",
       "        text-align: right;\n",
       "    }\n",
       "</style>\n",
       "<table border=\"1\" class=\"dataframe\">\n",
       "  <thead>\n",
       "    <tr style=\"text-align: right;\">\n",
       "      <th></th>\n",
       "      <th>node_x</th>\n",
       "      <th>node_y</th>\n",
       "    </tr>\n",
       "    <tr>\n",
       "      <th>node_id</th>\n",
       "      <th></th>\n",
       "      <th></th>\n",
       "    </tr>\n",
       "  </thead>\n",
       "  <tbody>\n",
       "    <tr>\n",
       "      <th>1373634581</th>\n",
       "      <td>-122.108646</td>\n",
       "      <td>38.024515</td>\n",
       "    </tr>\n",
       "    <tr>\n",
       "      <th>1335885865</th>\n",
       "      <td>-122.291325</td>\n",
       "      <td>38.117516</td>\n",
       "    </tr>\n",
       "    <tr>\n",
       "      <th>3974627383</th>\n",
       "      <td>-122.515574</td>\n",
       "      <td>37.928089</td>\n",
       "    </tr>\n",
       "    <tr>\n",
       "      <th>3974627384</th>\n",
       "      <td>-122.515807</td>\n",
       "      <td>37.929306</td>\n",
       "    </tr>\n",
       "    <tr>\n",
       "      <th>767819860</th>\n",
       "      <td>-122.392965</td>\n",
       "      <td>37.704484</td>\n",
       "    </tr>\n",
       "  </tbody>\n",
       "</table>\n",
       "</div>"
      ],
      "text/plain": [
       "                node_x     node_y\n",
       "node_id                          \n",
       "1373634581 -122.108646  38.024515\n",
       "1335885865 -122.291325  38.117516\n",
       "3974627383 -122.515574  37.928089\n",
       "3974627384 -122.515807  37.929306\n",
       "767819860  -122.392965  37.704484"
      ]
     },
     "execution_count": 256,
     "metadata": {},
     "output_type": "execute_result"
    }
   ],
   "source": [
    "nodes = pd.read_csv(\"out/\" + \"sfc\" + \".nodes.csv\", sep=\";\").set_index(\"node_id\")\n",
    "nodes.head()"
   ]
  },
  {
   "cell_type": "code",
   "execution_count": 257,
   "id": "c44dce2f",
   "metadata": {},
   "outputs": [],
   "source": [
    "positions = {v: (k[\"node_x\"], k[\"node_y\"]) for v, k in nodes.to_dict(\"index\").items()}\n",
    "labeled_flows = get_labels_from_df(edgelist, 2, 3, -2)"
   ]
  },
  {
   "cell_type": "code",
   "execution_count": 258,
   "id": "0cd46821",
   "metadata": {},
   "outputs": [
    {
     "data": {
      "text/plain": [
       "40379"
      ]
     },
     "execution_count": 258,
     "metadata": {},
     "output_type": "execute_result"
    }
   ],
   "source": [
    "len(labeled_flows)"
   ]
  },
  {
   "cell_type": "code",
   "execution_count": null,
   "id": "49336b32",
   "metadata": {},
   "outputs": [],
   "source": [
    "opt_sensors = choose_sensors(G, labeled_flows, flow_prediction, mse, lazy=True, cores=8, k=5000)"
   ]
  },
  {
   "cell_type": "code",
   "execution_count": null,
   "id": "83eee4f4",
   "metadata": {},
   "outputs": [],
   "source": [
    "random_sensors = choose_sensors_random(G, k=5000)\n",
    "random_errs = {}\n",
    "\n",
    "errs = {}\n",
    "\n",
    "for i in tqdm(range(len(random_sensors))):\n",
    "    preds = flow_prediction_nls(G, {s: labeled_flows[s] for s in opt_sensors[:i]})\n",
    "    errs[i] = mse(preds, labeled_flows) ** (1/2)\n",
    "    \n",
    "    random_preds = flow_prediction_nls(G, {s: labeled_flows[s] for s in random_sensors[:i]})\n",
    "    random_errs[i] = mse(random_preds, labeled_flows) ** (1/2)"
   ]
  },
  {
   "cell_type": "code",
   "execution_count": null,
   "id": "e5b09edd",
   "metadata": {},
   "outputs": [],
   "source": [
    "fig, ax = plt.subplots()\n",
    "ax.plot(range(len(errs.values())), errs.values(), label=\"Greedy\")\n",
    "ax.plot(range(len(random_errs.values())), random_errs.values(), label=\"Random\")\n",
    "ax.legend()\n",
    "plt.xlabel(\"Number of Sensors\")\n",
    "plt.ylabel(\"RMSE\")\n",
    "plt.title(\"Greedy vs Random on SF Dataset\")\n",
    "plt.show()"
   ]
  }
 ],
 "metadata": {
  "kernelspec": {
   "display_name": "Python 3 (ipykernel)",
   "language": "python",
   "name": "python3"
  },
  "language_info": {
   "codemirror_mode": {
    "name": "ipython",
    "version": 3
   },
   "file_extension": ".py",
   "mimetype": "text/x-python",
   "name": "python",
   "nbconvert_exporter": "python",
   "pygments_lexer": "ipython3",
   "version": "3.10.8"
  }
 },
 "nbformat": 4,
 "nbformat_minor": 5
}
