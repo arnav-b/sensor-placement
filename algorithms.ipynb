{
 "cells": [
  {
   "cell_type": "markdown",
   "id": "5fdbc431",
   "metadata": {},
   "source": [
    "## Sensor Selection\n",
    "\n",
    "This is the fundamental greedy algorithm implementation. "
   ]
  },
  {
   "cell_type": "code",
   "execution_count": 1,
   "id": "12e42cd8",
   "metadata": {},
   "outputs": [],
   "source": [
    "import numpy as np\n",
    "import pandas as pd\n",
    "import networkx as nx\n",
    "\n",
    "def get_labels_from_df(df, from_idx, to_idx, label_idx):\n",
    "    labeled_edges = {}\n",
    "    for e in df.itertuples():\n",
    "        labeled_edges[(e[from_idx], e[to_idx])] = e[label_idx]\n",
    "    return labeled_edges"
   ]
  },
  {
   "cell_type": "code",
   "execution_count": 2,
   "id": "39556c87",
   "metadata": {},
   "outputs": [],
   "source": [
    "from scipy.sparse import linalg\n",
    "\n",
    "def flow_prediction(G, labelled_flows, lamb=1e-6):\n",
    "    '''\n",
    "        Flow prediction.\n",
    "    '''\n",
    "    n_labelled_edges = len(labelled_flows)\n",
    "    b = np.zeros(n_labelled_edges)\n",
    "    B = nx.incidence_matrix(G, oriented=True)\n",
    "    f0 = np.zeros(G.number_of_edges())\n",
    "\n",
    "    i = 0\n",
    "    j = 0\n",
    "    U = []\n",
    "    index = {}\n",
    "    for e in G.edges():\n",
    "        if e in labelled_flows:\n",
    "            f0[i] = labelled_flows[e]\n",
    "        else:\n",
    "            U.append(i)\n",
    "            index[e] = j\n",
    "            j = j + 1\n",
    "        i = i + 1\n",
    "\n",
    "    b = -B.dot(f0)\n",
    " \n",
    "    A = B[np.ix_(np.arange(B.shape[0]), U)]\n",
    "\n",
    "    res = linalg.lsmr(A, b, damp=lamb)\n",
    "    x = res[0]\n",
    "\n",
    "    pred_flows = {}\n",
    "    \n",
    "    for e in G.edges():\n",
    "        if e in labelled_flows:\n",
    "            pred_flows[e] = labelled_flows[e]\n",
    "        else:\n",
    "            pred_flows[e] = x[index[e]]\n",
    "    \n",
    "    return pred_flows"
   ]
  },
  {
   "cell_type": "code",
   "execution_count": 3,
   "id": "f36571f7",
   "metadata": {},
   "outputs": [],
   "source": [
    "def mse(pred_labels, labeled_edges):\n",
    "    return sum([(v - pred_labels[k]) ** 2 for k, v in labeled_edges.items()]) / len(labeled_edges)     "
   ]
  },
  {
   "cell_type": "code",
   "execution_count": 86,
   "id": "8fc91b9c",
   "metadata": {},
   "outputs": [],
   "source": [
    "from tqdm.notebook import tqdm\n",
    "from multiprocess import Pool \n",
    "import heapq\n",
    "\n",
    "def choose_sensors(G, labeled_edges, predict, evaluate, k=None, lazy=False):\n",
    "    \"\"\"\n",
    "    Choose `k` sensors greedily to optimize the prediction given by `predict` for ground truth `labels`\n",
    "    based on loss function `evaluate` (lower loss is better). \n",
    "    \n",
    "    Parameters:\n",
    "        -- G: networkx graph\n",
    "        -- labeled_edges: dict {edge : value}\n",
    "        -- predict: function taking G, labeled_edges -> prediction\n",
    "        -- evaluate: prediction, true_values -> loss\n",
    "    \"\"\"\n",
    "    if k == None:\n",
    "        k = int(G.number_of_edges() / 50)\n",
    "    \n",
    "    sensors = []\n",
    "        \n",
    "    # Find value of adding each edge not in the set\n",
    "    current = evaluate(predict(G, {}), labeled_edges)\n",
    "\n",
    "    with Pool(4) as pool:\n",
    "        deltas = pool.map(lambda e: (evaluate(predict(G, {e : labeled_edges[e]}), labeled_edges) - current, e), \n",
    "                          labeled_edges)\n",
    "\n",
    "#     deltas = []\n",
    "#     current = evaluate(predict(G, {}), labeled_edges)\n",
    "#     print(\"baseline (no sensors) mse {}\".format(current))\n",
    "#     for e in tqdm(labeled_edges):\n",
    "#         delta = (evaluate(predict(G, {e : labeled_edges[e]}), labeled_edges) - current, e)\n",
    "#         deltas.append(delta)\n",
    "    heapq.heapify(deltas)\n",
    "    \n",
    "    # Greedily select sensors\n",
    "    if lazy:\n",
    "        for i in tqdm(range(k)):\n",
    "            current = evaluate(predict(G, {e: labeled_edges[e] for e in sensors}), labeled_edges)\n",
    "#             print(\"iteration {}, current {}\".format(i, current))\n",
    "\n",
    "            # Current top \n",
    "            _, s = heapq.heappop(deltas)\n",
    "            delta = evaluate(predict(G, {e: labeled_edges[e] for e in sensors} | {s : labeled_edges[s]}), \n",
    "                             labeled_edges) - current\n",
    "\n",
    "            # Next top\n",
    "            delta_next, s_next = heapq.heappop(deltas)\n",
    "            delta_next -= current\n",
    "#             print(\"sensor {} delta {}\".format(s, delta))\n",
    "#             print(\"next top sensor {} delta {}\".format(s_next, delta_next))\n",
    "#             print(\"deltas: {}\".format(deltas))\n",
    "\n",
    "            # Compute change in top node\n",
    "            # If the change drops it below the next best, recalculate the next best and continue\n",
    "            while delta - delta_next > 1e-3:\n",
    "#                 print(\"sensor {} delta {}\".format(s, delta))\n",
    "#                 print(\"next top sensor {} delta {}\".format(s_next, delta_next))\n",
    "                delta_next = evaluate(predict(G, {e: labeled_edges[e] for e in sensors} | {s_next : labeled_edges[s_next]}), \n",
    "                             labeled_edges) - current\n",
    "                if delta_next < delta:\n",
    "                    heapq.heappush(deltas, (delta, s))\n",
    "                    delta, s = delta_next, s_next\n",
    "                else:\n",
    "                    heapq.heappush(deltas, (delta_next, s_next))\n",
    "                    delta_next, s_next = heapq.heappop(deltas)\n",
    "#             print(\"selecting sensor {} delta {}, next sensor {} has delta {}\".format(s, delta, s_next, delta_next))\n",
    "            sensors.append(s)\n",
    "#             print()\n",
    "    else:\n",
    "        for i in tqdm(range(k)):\n",
    "            current = evaluate(predict(G, {e: labeled_edges[e] for e in sensors}), labeled_edges)\n",
    "            # print(\"iteration {}, current {}\".format(i, current))\n",
    "            opt, opt_cost = None, float(\"inf\")\n",
    "            for s in G.edges():\n",
    "                if s not in sensors:\n",
    "                    cost = evaluate(predict(G, {e : labeled_edges[e] for e in sensors} | {s : labeled_edges[s]}),\n",
    "                                   labeled_edges)\n",
    "                    # print(\"sensor {} cost {} opt {}\".format(s, cost, opt_cost))\n",
    "                    if cost < opt_cost:\n",
    "                        opt, opt_cost = s, cost\n",
    "            sensors.append(opt)\n",
    "        \n",
    "    return sensors"
   ]
  },
  {
   "cell_type": "markdown",
   "id": "7eead247",
   "metadata": {},
   "source": [
    "### Testing\n",
    "\n",
    "Should choose one node from each cluster"
   ]
  },
  {
   "cell_type": "code",
   "execution_count": 69,
   "id": "469b7e45",
   "metadata": {},
   "outputs": [
    {
     "data": {
      "image/png": "[encoded data removed]",
      "text/plain": [
       "<Figure size 432x288 with 1 Axes>"
      ]
     },
     "metadata": {},
     "output_type": "display_data"
    }
   ],
   "source": [
    "J = nx.DiGraph()\n",
    "\n",
    "J.add_edge(0,1)\n",
    "J.add_edge(1,2)\n",
    "J.add_edge(2,0)\n",
    "J.add_edge(2,3)\n",
    "J.add_edge(3,4)\n",
    "J.add_edge(4,5)\n",
    "J.add_edge(6,3)\n",
    "J.add_edge(5,6)\n",
    "\n",
    "flows = {}\n",
    "\n",
    "flows[(0,1)] = 10.\n",
    "flows[(1,2)] = 10\n",
    "flows[(2,0)] = 10.\n",
    "flows[(2,3)] = 0.\n",
    "flows[(3,4)] = 10.\n",
    "flows[(4,5)] = 10.\n",
    "flows[(6,3)] = 10\n",
    "#flows[(6,4)] = 10.\n",
    "flows[(5,6)] = 10.\n",
    "\n",
    "np.random.seed(20)\n",
    "nx.draw(J, with_labels=True)"
   ]
  },
  {
   "cell_type": "code",
   "execution_count": 70,
   "id": "74bed2e4",
   "metadata": {},
   "outputs": [
    {
     "data": {
      "application/vnd.jupyter.widget-view+json": {
       "model_id": "bd41e5b966f54f71a1736ef351f304e8",
       "version_major": 2,
       "version_minor": 0
      },
      "text/plain": [
       "  0%|          | 0/2 [00:00<?, ?it/s]"
      ]
     },
     "metadata": {},
     "output_type": "display_data"
    },
    {
     "data": {
      "text/plain": [
       "[(3, 4), (2, 0)]"
      ]
     },
     "execution_count": 70,
     "metadata": {},
     "output_type": "execute_result"
    }
   ],
   "source": [
    "opt = choose_sensors(J, flows, flow_prediction, mse, 2)\n",
    "opt"
   ]
  },
  {
   "cell_type": "code",
   "execution_count": 71,
   "id": "13604d06",
   "metadata": {},
   "outputs": [
    {
     "data": {
      "text/plain": [
       "{(0, 1): 9.999999999992859,\n",
       " (1, 2): 9.999999999995714,\n",
       " (2, 0): 10.0,\n",
       " (2, 3): 8.572920151550534e-12,\n",
       " (3, 4): 10.0,\n",
       " (4, 5): 9.999999999982858,\n",
       " (5, 6): 9.999999999975715,\n",
       " (6, 3): 9.999999999978572}"
      ]
     },
     "execution_count": 71,
     "metadata": {},
     "output_type": "execute_result"
    }
   ],
   "source": [
    "flow_prediction(J, {s : flows[s] for s in opt})"
   ]
  },
  {
   "cell_type": "code",
   "execution_count": 72,
   "id": "be5e6d33",
   "metadata": {},
   "outputs": [
    {
     "data": {
      "text/plain": [
       "1.8570147066978075e-22"
      ]
     },
     "execution_count": 72,
     "metadata": {},
     "output_type": "execute_result"
    }
   ],
   "source": [
    "mse(flows, flow_prediction(J, {s : flows[s] for s in opt}))"
   ]
  },
  {
   "cell_type": "code",
   "execution_count": 73,
   "id": "c6681089",
   "metadata": {},
   "outputs": [
    {
     "data": {
      "application/vnd.jupyter.widget-view+json": {
       "model_id": "9dfb927a6b504b7da99dc8edc9905adb",
       "version_major": 2,
       "version_minor": 0
      },
      "text/plain": [
       "  0%|          | 0/2 [00:00<?, ?it/s]"
      ]
     },
     "metadata": {},
     "output_type": "display_data"
    },
    {
     "name": "stdout",
     "output_type": "stream",
     "text": [
      "iteration 0, current 87.5\n",
      "sensor (3, 4) delta -50.0\n",
      "next top sensor (4, 5) delta -137.5\n",
      "deltas: [(-50.0, (5, 6)), (-37.5, (0, 1)), (-50.0, (6, 3)), (0.0, (2, 3)), (-37.5, (1, 2)), (-37.5, (2, 0))]\n",
      "sensor (3, 4) delta -50.0\n",
      "next top sensor (4, 5) delta -137.5\n",
      "selecting sensor (3, 4) delta -50.0, next sensor (4, 5) has delta -50.0\n",
      "\n",
      "iteration 1, current 37.5\n",
      "sensor (5, 6) delta 0.0\n",
      "next top sensor (6, 3) delta -87.5\n",
      "deltas: [(-37.5, (0, 1)), (-37.5, (1, 2)), (-37.5, (2, 0)), (0.0, (2, 3))]\n",
      "sensor (5, 6) delta 0.0\n",
      "next top sensor (6, 3) delta -87.5\n",
      "sensor (5, 6) delta 0.0\n",
      "next top sensor (0, 1) delta -37.5\n",
      "selecting sensor (0, 1) delta -37.5, next sensor (0, 1) has delta -37.5\n",
      "\n"
     ]
    },
    {
     "data": {
      "text/plain": [
       "[(3, 4), (0, 1)]"
      ]
     },
     "execution_count": 73,
     "metadata": {},
     "output_type": "execute_result"
    }
   ],
   "source": [
    "opt_lazy = choose_sensors(J, flows, flow_prediction, mse, 2, lazy=True)\n",
    "opt_lazy"
   ]
  },
  {
   "cell_type": "code",
   "execution_count": 74,
   "id": "62de2f53",
   "metadata": {},
   "outputs": [
    {
     "data": {
      "text/plain": [
       "{(0, 1): 10.0,\n",
       " (1, 2): 9.999999999998568,\n",
       " (2, 0): 9.999999999981428,\n",
       " (2, 3): 2.5715429785577726e-11,\n",
       " (3, 4): 10.0,\n",
       " (4, 5): 9.99999999997857,\n",
       " (5, 6): 9.999999999967141,\n",
       " (6, 3): 9.999999999965711}"
      ]
     },
     "execution_count": 74,
     "metadata": {},
     "output_type": "execute_result"
    }
   ],
   "source": [
    "flow_prediction(J, {s : flows[s] for s in opt_lazy})"
   ]
  },
  {
   "cell_type": "markdown",
   "id": "8f4f4148",
   "metadata": {},
   "source": [
    "## Testing - Synthetic Flows and Non-Negative Solution"
   ]
  },
  {
   "cell_type": "code",
   "execution_count": 94,
   "id": "f7791017",
   "metadata": {},
   "outputs": [],
   "source": [
    "# Author: Vlad Niculae \n",
    "#         Lars Buitinck \n",
    "# Author: Chih-Jen Lin, National Taiwan University (original projected gradient\n",
    "#     NMF implementation)\n",
    "# Author: Anthony Di Franco (original Python and NumPy port)\n",
    "# License: BSD 3 clause\n",
    "\n",
    "from sklearn.utils.extmath import safe_sparse_dot\n",
    "from scipy.sparse import csr_matrix, issparse\n",
    "from scipy.optimize import fmin_l_bfgs_b\n",
    "\n",
    "def safe_fro(X, squared=False):\n",
    "    if issparse(X):\n",
    "        nrm = np.sum(X.data ** 2)\n",
    "    else:\n",
    "        if hasattr(X, 'A'):\n",
    "            X = X.A\n",
    "        nrm = np.sum(X ** 2)\n",
    "    return nrm if squared else np.sqrt(nrm)\n",
    "     \n",
    "\n",
    "# Authors: Mathieu Blondel, Vlad Niculae\n",
    "def nls_lbfgs_b(X, Y, W_init=None, l1_reg=0, l2_reg=0, max_iter=5000, tol=1e-3, callback=None):\n",
    "    \"\"\"Non-negative least squares solver using L-BFGS-B.\n",
    "        \n",
    "    Solves for W in\n",
    "    min 0.5 ||Y - XW||^2_F + + l1_reg * sum(W) + 0.5 * l2_reg * ||W||^2_F\n",
    "    \n",
    "    \"\"\"\n",
    "    n_samples, n_features = X.shape\n",
    "    n_targets = Y.shape[1]\n",
    "    G = safe_sparse_dot(X.T, X)\n",
    "    Xy = safe_sparse_dot(X.T, Y)\n",
    "\n",
    "    def f(w, *args):\n",
    "        W = w.reshape((n_features, n_targets))\n",
    "        diff = (safe_sparse_dot(X, W) - Y)\n",
    "        diff = diff.A if hasattr(diff, 'A') else diff\n",
    "        res = 0.5 * np.sum(diff ** 2)\n",
    "        if l2_reg:\n",
    "            res += 0.5 * l2_reg * np.sum(W ** 2)\n",
    "        if l1_reg:\n",
    "            res += l1_reg * np.sum(W)\n",
    "        return res\n",
    "\n",
    "    def fprime(w, *args):\n",
    "        W = w.reshape((n_features, n_targets))\n",
    "        #grad = (np.dot(G, W) - Xy).ravel()\n",
    "        grad = (safe_sparse_dot(G, W) - Xy).ravel()\n",
    "        if l2_reg:\n",
    "            grad += l2_reg * w\n",
    "        if l1_reg:\n",
    "            grad += l1_reg\n",
    "        return grad\n",
    "\n",
    "    if W_init is None:\n",
    "        W = np.zeros((n_features * n_targets,), dtype=np.float64)\n",
    "    else:\n",
    "        W = W_init.ravel().copy()\n",
    "    W, residual, d = fmin_l_bfgs_b(\n",
    "                f, x0=W, fprime=fprime, pgtol=tol,\n",
    "                bounds=[(0, None)] * n_features * n_targets,\n",
    "                maxiter=max_iter,\n",
    "                callback=callback)\n",
    "    \n",
    "    # testing reveals that sometimes, very small negative values occur\n",
    "    W[W < 0] = 0\n",
    "    \n",
    "    if l1_reg:\n",
    "        residual -= l1_reg * np.sum(W)\n",
    "    if l2_reg:\n",
    "        residual -= 0.5 * l2_reg * np.sum(W ** 2)\n",
    "    residual = np.sqrt(2 * residual)\n",
    "    if d['warnflag'] > 0:\n",
    "        print(\"L-BFGS-B failed to converge\")\n",
    "    \n",
    "    return W.reshape((n_features, n_targets)), residual"
   ]
  },
  {
   "cell_type": "code",
   "execution_count": 123,
   "id": "08da8bb0",
   "metadata": {},
   "outputs": [],
   "source": [
    "import scipy \n",
    "\n",
    "def flow_prediction_nls(G, labelled_flows, lamb=1e-6):\n",
    "    '''\n",
    "        Flow prediction with non-negative least squares\n",
    "    '''\n",
    "    n_labelled_edges = len(labelled_flows)\n",
    "    b = np.zeros(n_labelled_edges)\n",
    "    B = nx.incidence_matrix(G, oriented=True)\n",
    "    f0 = np.zeros(G.number_of_edges())\n",
    "\n",
    "    i = 0\n",
    "    j = 0\n",
    "    U = []\n",
    "    index = {}\n",
    "    for e in G.edges():\n",
    "        if e in labelled_flows:\n",
    "            f0[i] = labelled_flows[e]\n",
    "        else:\n",
    "            U.append(i)\n",
    "            index[e] = j\n",
    "            j = j + 1\n",
    "        i = i + 1\n",
    "\n",
    "    b = -B.dot(f0)\n",
    " \n",
    "    A = B[np.ix_(np.arange(B.shape[0]), U)]\n",
    "    \n",
    "    #X_wide = np.random.uniform(low=0, high=1, size=(50, 100))\n",
    "    #Y_wide = np.random.uniform(low=0, high=1, size=(50, 1))\n",
    "    #W, resid = nls_projgrad(X_wide, Y_wide)\n",
    "    \n",
    "    #res = linalg.lsmr(A, b, damp=lamb)\n",
    "    A = A.tocsr()\n",
    "    #b = scipy.sparse.csr_matrix(b.reshape(b.shape[0], 1))\n",
    "    b = scipy.sparse.csr_matrix(b.reshape(b.shape[0],1))\n",
    "    \n",
    "    res = nls_lbfgs_b(A, b, l2_reg=lamb)\n",
    "    x = res[0]\n",
    "\n",
    "    pred_flows = {}\n",
    "    \n",
    "    for e in G.edges():\n",
    "        if e in labelled_flows:\n",
    "            pred_flows[e] = np.array([labelled_flows[e]])\n",
    "        else:\n",
    "            pred_flows[e] = x[index[e]]\n",
    "    \n",
    "            \n",
    "    return pred_flows"
   ]
  },
  {
   "cell_type": "code",
   "execution_count": 173,
   "id": "e0e56102",
   "metadata": {},
   "outputs": [],
   "source": [
    "def speed_prediction(G, labelled_flows, lamb=1e-6):\n",
    "    '''\n",
    "        Speed prediction.\n",
    "    '''\n",
    "    n_labelled_edges = len(labelled_flows)\n",
    "    line_G = nx.line_graph(G)\n",
    "    A = nx.adjacency_matrix(line_G)\n",
    "    f0 = []\n",
    "    \n",
    "    A.data = A.data / np.repeat(np.add.reduceat(A.data, A.indptr[:-1]), np.diff(A.indptr))\n",
    "   \n",
    "    U = []\n",
    "    L = []\n",
    "    i = 0\n",
    "    j = 0\n",
    "    index = {}\n",
    "    for e in line_G.nodes():\n",
    "        if e in labelled_flows:\n",
    "            f0.append(labelled_flows[e])\n",
    "            L.append(i)\n",
    "        else:\n",
    "            U.append(i)\n",
    "            index[e] = j\n",
    "            j = j + 1\n",
    "        i = i + 1\n",
    "\n",
    "    PUL = A[np.ix_(U, L)]\n",
    "    f0 = np.array(f0)\n",
    "    b = PUL.dot(f0)\n",
    "    PUU = A[np.ix_(U, U)]\n",
    "    A = scipy.sparse.identity(PUU.shape[0])-PUU   \n",
    "    res = linalg.lsmr(A, b, damp=lamb)\n",
    "    x = res[0]\n",
    "    \n",
    "    pred_flows = {}\n",
    "\n",
    "    for e in index:\n",
    "        pred_flows[e] = x[index[e]]\n",
    "            \n",
    "    return pred_flows"
   ]
  },
  {
   "cell_type": "markdown",
   "id": "d2f3b19c",
   "metadata": {},
   "source": [
    "## Testing - Small Network"
   ]
  },
  {
   "cell_type": "code",
   "execution_count": 75,
   "id": "33aed609",
   "metadata": {},
   "outputs": [
    {
     "data": {
      "text/html": [
       "<div>\n",
       "<style scoped>\n",
       "    .dataframe tbody tr th:only-of-type {\n",
       "        vertical-align: middle;\n",
       "    }\n",
       "\n",
       "    .dataframe tbody tr th {\n",
       "        vertical-align: top;\n",
       "    }\n",
       "\n",
       "    .dataframe thead th {\n",
       "        text-align: right;\n",
       "    }\n",
       "</style>\n",
       "<table border=\"1\" class=\"dataframe\">\n",
       "  <thead>\n",
       "    <tr style=\"text-align: right;\">\n",
       "      <th></th>\n",
       "      <th>edge_id</th>\n",
       "      <th>edge_from</th>\n",
       "      <th>edge_to</th>\n",
       "      <th>edge_length</th>\n",
       "      <th>edge_numLanes</th>\n",
       "      <th>edge_speed</th>\n",
       "      <th>flow</th>\n",
       "      <th>vehicle_speed</th>\n",
       "    </tr>\n",
       "  </thead>\n",
       "  <tbody>\n",
       "    <tr>\n",
       "      <th>0</th>\n",
       "      <td>0</td>\n",
       "      <td>1614922744</td>\n",
       "      <td>1614922747</td>\n",
       "      <td>23.141939</td>\n",
       "      <td>2</td>\n",
       "      <td>29.0576</td>\n",
       "      <td>0.0</td>\n",
       "      <td>0.00</td>\n",
       "    </tr>\n",
       "    <tr>\n",
       "      <th>1</th>\n",
       "      <td>1</td>\n",
       "      <td>269459339</td>\n",
       "      <td>269459341</td>\n",
       "      <td>60.826398</td>\n",
       "      <td>5</td>\n",
       "      <td>29.0576</td>\n",
       "      <td>14274.0</td>\n",
       "      <td>25.65</td>\n",
       "    </tr>\n",
       "    <tr>\n",
       "      <th>2</th>\n",
       "      <td>2</td>\n",
       "      <td>1621320618</td>\n",
       "      <td>1621320622</td>\n",
       "      <td>109.464966</td>\n",
       "      <td>2</td>\n",
       "      <td>29.0576</td>\n",
       "      <td>1149.0</td>\n",
       "      <td>27.70</td>\n",
       "    </tr>\n",
       "    <tr>\n",
       "      <th>3</th>\n",
       "      <td>3</td>\n",
       "      <td>269459229</td>\n",
       "      <td>269459230</td>\n",
       "      <td>160.720645</td>\n",
       "      <td>3</td>\n",
       "      <td>29.0576</td>\n",
       "      <td>7974.0</td>\n",
       "      <td>25.03</td>\n",
       "    </tr>\n",
       "    <tr>\n",
       "      <th>4</th>\n",
       "      <td>4</td>\n",
       "      <td>607954833</td>\n",
       "      <td>1613371666</td>\n",
       "      <td>173.017706</td>\n",
       "      <td>3</td>\n",
       "      <td>29.0576</td>\n",
       "      <td>6504.0</td>\n",
       "      <td>26.02</td>\n",
       "    </tr>\n",
       "  </tbody>\n",
       "</table>\n",
       "</div>"
      ],
      "text/plain": [
       "   edge_id   edge_from     edge_to  edge_length  edge_numLanes  edge_speed  \\\n",
       "0        0  1614922744  1614922747    23.141939              2     29.0576   \n",
       "1        1   269459339   269459341    60.826398              5     29.0576   \n",
       "2        2  1621320618  1621320622   109.464966              2     29.0576   \n",
       "3        3   269459229   269459230   160.720645              3     29.0576   \n",
       "4        4   607954833  1613371666   173.017706              3     29.0576   \n",
       "\n",
       "      flow  vehicle_speed  \n",
       "0      0.0           0.00  \n",
       "1  14274.0          25.65  \n",
       "2   1149.0          27.70  \n",
       "3   7974.0          25.03  \n",
       "4   6504.0          26.02  "
      ]
     },
     "execution_count": 75,
     "metadata": {},
     "output_type": "execute_result"
    }
   ],
   "source": [
    "city = \"small\"\n",
    "\n",
    "edgelist = pd.read_csv(\"out/\" + city + \".results.csv\")\n",
    "edgelist.head()"
   ]
  },
  {
   "cell_type": "code",
   "execution_count": 76,
   "id": "fcecea59",
   "metadata": {},
   "outputs": [
    {
     "data": {
      "text/plain": [
       "14.352409075907591"
      ]
     },
     "execution_count": 76,
     "metadata": {},
     "output_type": "execute_result"
    }
   ],
   "source": [
    "G = nx.from_pandas_edgelist(edgelist, source=\"edge_from\", target=\"edge_to\", edge_attr=[\"edge_id\", \"edge_numLanes\", \"edge_speed\",\n",
    "                                                                                      \"flow\", \"vehicle_speed\"],\n",
    "                           create_using=nx.DiGraph)\n",
    "G_undirected = nx.from_pandas_edgelist(edgelist, source=\"edge_from\", target=\"edge_to\", edge_attr=[\"edge_id\", \"edge_numLanes\", \"edge_speed\",\n",
    "                                                                                      \"flow\", \"vehicle_speed\"])\n",
    "H = nx.line_graph(G_undirected)\n",
    "H.add_nodes_from((node, G_undirected.edges[node]) for node in H)\n",
    "\n",
    "def smoothness(G, attr):\n",
    "    L = nx.laplacian_matrix(G)\n",
    "    x = np.array([attrs[attr] for _, attrs in G.nodes(data=True)])\n",
    "    return x.transpose() @ L @ x\n",
    "\n",
    "smoothness(H, \"vehicle_speed\") / H.number_of_nodes()"
   ]
  },
  {
   "cell_type": "code",
   "execution_count": 77,
   "id": "dbef4f3a",
   "metadata": {},
   "outputs": [
    {
     "data": {
      "text/html": [
       "<div>\n",
       "<style scoped>\n",
       "    .dataframe tbody tr th:only-of-type {\n",
       "        vertical-align: middle;\n",
       "    }\n",
       "\n",
       "    .dataframe tbody tr th {\n",
       "        vertical-align: top;\n",
       "    }\n",
       "\n",
       "    .dataframe thead th {\n",
       "        text-align: right;\n",
       "    }\n",
       "</style>\n",
       "<table border=\"1\" class=\"dataframe\">\n",
       "  <thead>\n",
       "    <tr style=\"text-align: right;\">\n",
       "      <th></th>\n",
       "      <th>node_x</th>\n",
       "      <th>node_y</th>\n",
       "    </tr>\n",
       "    <tr>\n",
       "      <th>node_id</th>\n",
       "      <th></th>\n",
       "      <th></th>\n",
       "    </tr>\n",
       "  </thead>\n",
       "  <tbody>\n",
       "    <tr>\n",
       "      <th>269459457</th>\n",
       "      <td>-118.215300</td>\n",
       "      <td>34.056067</td>\n",
       "    </tr>\n",
       "    <tr>\n",
       "      <th>317640716</th>\n",
       "      <td>-118.221778</td>\n",
       "      <td>34.036254</td>\n",
       "    </tr>\n",
       "    <tr>\n",
       "      <th>317640717</th>\n",
       "      <td>-118.221770</td>\n",
       "      <td>34.036083</td>\n",
       "    </tr>\n",
       "    <tr>\n",
       "      <th>317640718</th>\n",
       "      <td>-118.221753</td>\n",
       "      <td>34.035806</td>\n",
       "    </tr>\n",
       "    <tr>\n",
       "      <th>317640719</th>\n",
       "      <td>-118.221718</td>\n",
       "      <td>34.035521</td>\n",
       "    </tr>\n",
       "  </tbody>\n",
       "</table>\n",
       "</div>"
      ],
      "text/plain": [
       "               node_x     node_y\n",
       "node_id                         \n",
       "269459457 -118.215300  34.056067\n",
       "317640716 -118.221778  34.036254\n",
       "317640717 -118.221770  34.036083\n",
       "317640718 -118.221753  34.035806\n",
       "317640719 -118.221718  34.035521"
      ]
     },
     "execution_count": 77,
     "metadata": {},
     "output_type": "execute_result"
    }
   ],
   "source": [
    "nodes = pd.read_csv(\"out/\" + city + \".nodes.csv\", sep=\";\").set_index(\"node_id\")\n",
    "nodes.head()"
   ]
  },
  {
   "cell_type": "code",
   "execution_count": 78,
   "id": "69a8fa6c",
   "metadata": {},
   "outputs": [],
   "source": [
    "import matplotlib as mpl\n",
    "import matplotlib.pyplot as plt\n",
    "\n",
    "positions = {v: (k[\"node_x\"], k[\"node_y\"]) for v, k in nodes.to_dict(\"index\").items()}\n",
    "cmap = mpl.colormaps[\"viridis\"]"
   ]
  },
  {
   "cell_type": "code",
   "execution_count": 124,
   "id": "fe899b2f",
   "metadata": {},
   "outputs": [
    {
     "data": {
      "application/vnd.jupyter.widget-view+json": {
       "model_id": "85159b24e9394556935b5c5bad5e9009",
       "version_major": 2,
       "version_minor": 0
      },
      "text/plain": [
       "  0%|          | 0/24 [00:00<?, ?it/s]"
      ]
     },
     "metadata": {},
     "output_type": "display_data"
    }
   ],
   "source": [
    "labeled_flows = get_labels_from_df(edgelist, 2, 3, -2)\n",
    "opt_sensors = choose_sensors(G, labeled_flows, flow_prediction_nls, mse, lazy=True)"
   ]
  },
  {
   "cell_type": "code",
   "execution_count": 125,
   "id": "09af9dea",
   "metadata": {},
   "outputs": [
    {
     "data": {
      "image/png": "[encoded data removed]",
      "text/plain": [
       "<Figure size 1382.4x1036.8 with 1 Axes>"
      ]
     },
     "metadata": {},
     "output_type": "display_data"
    }
   ],
   "source": [
    "plt.figure(figsize=[3 * 6.4, 3 * 4.8])\n",
    "\n",
    "edge_colors = [\"green\" if (u, v) in opt_sensors or (v, u) in opt_sensors else \"lightgray\" for u, v in G.edges()]\n",
    "nx.draw(G, pos=positions, node_size=1, node_color=\"white\", edge_color=edge_colors)"
   ]
  },
  {
   "cell_type": "code",
   "execution_count": 126,
   "id": "c8dd3d98",
   "metadata": {},
   "outputs": [
    {
     "data": {
      "text/plain": [
       "array([13813333.77654539])"
      ]
     },
     "execution_count": 126,
     "metadata": {},
     "output_type": "execute_result"
    }
   ],
   "source": [
    "mse(flow_prediction_nls(G, {s: labeled_flows[s] for s in opt_sensors}), labeled_flows)"
   ]
  },
  {
   "cell_type": "code",
   "execution_count": 127,
   "id": "b32cd675",
   "metadata": {},
   "outputs": [],
   "source": [
    "preds = flow_prediction_nls(G, {s: labeled_flows[s] for s in opt_sensors})"
   ]
  },
  {
   "cell_type": "code",
   "execution_count": 131,
   "id": "068a4c19",
   "metadata": {},
   "outputs": [
    {
     "data": {
      "image/png": "[encoded data removed]",
      "text/plain": [
       "<Figure size 432x288 with 1 Axes>"
      ]
     },
     "metadata": {
      "needs_background": "light"
     },
     "output_type": "display_data"
    }
   ],
   "source": [
    "plt.hist([v[0] for v in errs.values()])\n",
    "plt.show()"
   ]
  },
  {
   "cell_type": "code",
   "execution_count": 175,
   "id": "f9204d7e",
   "metadata": {},
   "outputs": [
    {
     "ename": "KeyError",
     "evalue": "(1614922744, 1614922747)",
     "output_type": "error",
     "traceback": [
      "\u001b[0;31m---------------------------------------------------------------------------\u001b[0m",
      "\u001b[0;31mRemoteTraceback\u001b[0m                           Traceback (most recent call last)",
      "\u001b[0;31mRemoteTraceback\u001b[0m: \n\"\"\"\nTraceback (most recent call last):\n  File \"/home/ab141/.conda/envs/sensor/lib/python3.10/site-packages/multiprocess/pool.py\", line 125, in worker\n    result = (True, func(*args, **kwds))\n  File \"/home/ab141/.conda/envs/sensor/lib/python3.10/site-packages/multiprocess/pool.py\", line 48, in mapstar\n    return list(map(*args))\n  File \"/tmp/ipykernel_2824237/1481136603.py\", line 25, in <lambda>\n    deltas = pool.map(lambda e: (evaluate(predict(G, {e : labeled_edges[e]}), labeled_edges) - current, e),\n  File \"/tmp/ipykernel_2824237/1470122881.py\", line 2, in mse\n    return sum([(v - pred_labels[k]) ** 2 for k, v in labeled_edges.items()]) / len(labeled_edges)\n  File \"/tmp/ipykernel_2824237/1470122881.py\", line 2, in <listcomp>\n    return sum([(v - pred_labels[k]) ** 2 for k, v in labeled_edges.items()]) / len(labeled_edges)\nKeyError: (1614922744, 1614922747)\n\"\"\"",
      "\nThe above exception was the direct cause of the following exception:\n",
      "\u001b[0;31mKeyError\u001b[0m                                  Traceback (most recent call last)",
      "Input \u001b[0;32mIn [175]\u001b[0m, in \u001b[0;36m<cell line: 2>\u001b[0;34m()\u001b[0m\n\u001b[1;32m      1\u001b[0m labeled_speeds \u001b[38;5;241m=\u001b[39m get_labels_from_df(edgelist, \u001b[38;5;241m2\u001b[39m, \u001b[38;5;241m3\u001b[39m, \u001b[38;5;241m-\u001b[39m\u001b[38;5;241m1\u001b[39m)\n\u001b[0;32m----> 2\u001b[0m opt_sensors \u001b[38;5;241m=\u001b[39m \u001b[43mchoose_sensors\u001b[49m\u001b[43m(\u001b[49m\u001b[43mG\u001b[49m\u001b[43m,\u001b[49m\u001b[43m \u001b[49m\u001b[43mlabeled_speeds\u001b[49m\u001b[43m,\u001b[49m\u001b[43m \u001b[49m\u001b[43mspeed_prediction\u001b[49m\u001b[43m,\u001b[49m\u001b[43m \u001b[49m\u001b[43mmse\u001b[49m\u001b[43m,\u001b[49m\u001b[43m \u001b[49m\u001b[43mlazy\u001b[49m\u001b[38;5;241;43m=\u001b[39;49m\u001b[38;5;28;43;01mTrue\u001b[39;49;00m\u001b[43m)\u001b[49m\n",
      "Input \u001b[0;32mIn [86]\u001b[0m, in \u001b[0;36mchoose_sensors\u001b[0;34m(G, labeled_edges, predict, evaluate, k, lazy)\u001b[0m\n\u001b[1;32m     22\u001b[0m     current \u001b[38;5;241m=\u001b[39m evaluate(predict(G, {}), labeled_edges)\n\u001b[1;32m     24\u001b[0m     \u001b[38;5;28;01mwith\u001b[39;00m Pool(\u001b[38;5;241m4\u001b[39m) \u001b[38;5;28;01mas\u001b[39;00m pool:\n\u001b[0;32m---> 25\u001b[0m         deltas \u001b[38;5;241m=\u001b[39m \u001b[43mpool\u001b[49m\u001b[38;5;241;43m.\u001b[39;49m\u001b[43mmap\u001b[49m\u001b[43m(\u001b[49m\u001b[38;5;28;43;01mlambda\u001b[39;49;00m\u001b[43m \u001b[49m\u001b[43me\u001b[49m\u001b[43m:\u001b[49m\u001b[43m \u001b[49m\u001b[43m(\u001b[49m\u001b[43mevaluate\u001b[49m\u001b[43m(\u001b[49m\u001b[43mpredict\u001b[49m\u001b[43m(\u001b[49m\u001b[43mG\u001b[49m\u001b[43m,\u001b[49m\u001b[43m \u001b[49m\u001b[43m{\u001b[49m\u001b[43me\u001b[49m\u001b[43m \u001b[49m\u001b[43m:\u001b[49m\u001b[43m \u001b[49m\u001b[43mlabeled_edges\u001b[49m\u001b[43m[\u001b[49m\u001b[43me\u001b[49m\u001b[43m]\u001b[49m\u001b[43m}\u001b[49m\u001b[43m)\u001b[49m\u001b[43m,\u001b[49m\u001b[43m \u001b[49m\u001b[43mlabeled_edges\u001b[49m\u001b[43m)\u001b[49m\u001b[43m \u001b[49m\u001b[38;5;241;43m-\u001b[39;49m\u001b[43m \u001b[49m\u001b[43mcurrent\u001b[49m\u001b[43m,\u001b[49m\u001b[43m \u001b[49m\u001b[43me\u001b[49m\u001b[43m)\u001b[49m\u001b[43m,\u001b[49m\u001b[43m \u001b[49m\n\u001b[1;32m     26\u001b[0m \u001b[43m                          \u001b[49m\u001b[43mlabeled_edges\u001b[49m\u001b[43m)\u001b[49m\n\u001b[1;32m     28\u001b[0m \u001b[38;5;66;03m#     deltas = []\u001b[39;00m\n\u001b[1;32m     29\u001b[0m \u001b[38;5;66;03m#     current = evaluate(predict(G, {}), labeled_edges)\u001b[39;00m\n\u001b[1;32m     30\u001b[0m \u001b[38;5;66;03m#     print(\"baseline (no sensors) mse {}\".format(current))\u001b[39;00m\n\u001b[1;32m     31\u001b[0m \u001b[38;5;66;03m#     for e in tqdm(labeled_edges):\u001b[39;00m\n\u001b[1;32m     32\u001b[0m \u001b[38;5;66;03m#         delta = (evaluate(predict(G, {e : labeled_edges[e]}), labeled_edges) - current, e)\u001b[39;00m\n\u001b[1;32m     33\u001b[0m \u001b[38;5;66;03m#         deltas.append(delta)\u001b[39;00m\n\u001b[1;32m     34\u001b[0m     heapq\u001b[38;5;241m.\u001b[39mheapify(deltas)\n",
      "File \u001b[0;32m~/.conda/envs/sensor/lib/python3.10/site-packages/multiprocess/pool.py:367\u001b[0m, in \u001b[0;36mPool.map\u001b[0;34m(self, func, iterable, chunksize)\u001b[0m\n\u001b[1;32m    362\u001b[0m \u001b[38;5;28;01mdef\u001b[39;00m \u001b[38;5;21mmap\u001b[39m(\u001b[38;5;28mself\u001b[39m, func, iterable, chunksize\u001b[38;5;241m=\u001b[39m\u001b[38;5;28;01mNone\u001b[39;00m):\n\u001b[1;32m    363\u001b[0m     \u001b[38;5;124;03m'''\u001b[39;00m\n\u001b[1;32m    364\u001b[0m \u001b[38;5;124;03m    Apply `func` to each element in `iterable`, collecting the results\u001b[39;00m\n\u001b[1;32m    365\u001b[0m \u001b[38;5;124;03m    in a list that is returned.\u001b[39;00m\n\u001b[1;32m    366\u001b[0m \u001b[38;5;124;03m    '''\u001b[39;00m\n\u001b[0;32m--> 367\u001b[0m     \u001b[38;5;28;01mreturn\u001b[39;00m \u001b[38;5;28;43mself\u001b[39;49m\u001b[38;5;241;43m.\u001b[39;49m\u001b[43m_map_async\u001b[49m\u001b[43m(\u001b[49m\u001b[43mfunc\u001b[49m\u001b[43m,\u001b[49m\u001b[43m \u001b[49m\u001b[43miterable\u001b[49m\u001b[43m,\u001b[49m\u001b[43m \u001b[49m\u001b[43mmapstar\u001b[49m\u001b[43m,\u001b[49m\u001b[43m \u001b[49m\u001b[43mchunksize\u001b[49m\u001b[43m)\u001b[49m\u001b[38;5;241;43m.\u001b[39;49m\u001b[43mget\u001b[49m\u001b[43m(\u001b[49m\u001b[43m)\u001b[49m\n",
      "File \u001b[0;32m~/.conda/envs/sensor/lib/python3.10/site-packages/multiprocess/pool.py:774\u001b[0m, in \u001b[0;36mApplyResult.get\u001b[0;34m(self, timeout)\u001b[0m\n\u001b[1;32m    772\u001b[0m     \u001b[38;5;28;01mreturn\u001b[39;00m \u001b[38;5;28mself\u001b[39m\u001b[38;5;241m.\u001b[39m_value\n\u001b[1;32m    773\u001b[0m \u001b[38;5;28;01melse\u001b[39;00m:\n\u001b[0;32m--> 774\u001b[0m     \u001b[38;5;28;01mraise\u001b[39;00m \u001b[38;5;28mself\u001b[39m\u001b[38;5;241m.\u001b[39m_value\n",
      "\u001b[0;31mKeyError\u001b[0m: (1614922744, 1614922747)"
     ]
    }
   ],
   "source": [
    "labeled_speeds = get_labels_from_df(edgelist, 2, 3, -1)\n",
    "opt_sensors = choose_sensors(G, labeled_speeds, speed_prediction, mse, lazy=True)"
   ]
  },
  {
   "cell_type": "markdown",
   "id": "04bf6742",
   "metadata": {},
   "source": [
    "## Benchmarks"
   ]
  },
  {
   "cell_type": "code",
   "execution_count": 167,
   "id": "9c96c8f9",
   "metadata": {},
   "outputs": [],
   "source": [
    "\"\"\"\n",
    "Randomly select k edges from the graph.\n",
    "\"\"\"\n",
    "def choose_sensors_random(G, k=None):\n",
    "    if k == None:\n",
    "        k = int(G.number_of_edges() / 50)\n",
    "        \n",
    "    choice = np.random.choice(G.number_of_edges(), k)\n",
    "    selected = []\n",
    "    for i, e in enumerate(G.edges):\n",
    "        if i in choice:\n",
    "            selected.append(e)\n",
    "        \n",
    "    return selected"
   ]
  },
  {
   "cell_type": "code",
   "execution_count": 168,
   "id": "7cf63625",
   "metadata": {},
   "outputs": [
    {
     "data": {
      "text/plain": [
       "[(0, 8), (1, 5)]"
      ]
     },
     "execution_count": 168,
     "metadata": {},
     "output_type": "execute_result"
    }
   ],
   "source": [
    "choose_sensors_random(J, 2)"
   ]
  },
  {
   "cell_type": "code",
   "execution_count": 171,
   "id": "ad330ac3",
   "metadata": {},
   "outputs": [
    {
     "data": {
      "text/plain": [
       "array([16167713.52777613])"
      ]
     },
     "execution_count": 171,
     "metadata": {},
     "output_type": "execute_result"
    }
   ],
   "source": [
    "random_sensors = choose_sensors_random(G)\n",
    "preds = flow_prediction_nls(G, {s: labeled_flows[s] for s in random_sensors})\n",
    "mse(labeled_flows, preds)"
   ]
  },
  {
   "cell_type": "markdown",
   "id": "888942da",
   "metadata": {},
   "source": [
    "### TODO\n",
    "\n",
    "Get benchmarks from active learning paper"
   ]
  },
  {
   "cell_type": "markdown",
   "id": "ee774a64",
   "metadata": {},
   "source": [
    "## Error Metrics"
   ]
  },
  {
   "cell_type": "code",
   "execution_count": 152,
   "id": "669863da",
   "metadata": {},
   "outputs": [],
   "source": [
    "def geh(pred, actual):\n",
    "    if pred == actual == 0:\n",
    "        return np.array([0])\n",
    "    return np.sqrt((2 * (pred - actual) ** 2) / (pred + actual))"
   ]
  },
  {
   "cell_type": "code",
   "execution_count": 134,
   "id": "b7eeb5cf",
   "metadata": {},
   "outputs": [],
   "source": [
    "def mape(pred_labels, labeled_edges):\n",
    "    return 100 * sum([abs((v - pred_labels[k]) / v) for k, v in labeled_edges.items()]) / len(labeled_edges) "
   ]
  }
 ],
 "metadata": {
  "kernelspec": {
   "display_name": "Python 3 (ipykernel)",
   "language": "python",
   "name": "python3"
  },
  "language_info": {
   "codemirror_mode": {
    "name": "ipython",
    "version": 3
   },
   "file_extension": ".py",
   "mimetype": "text/x-python",
   "name": "python",
   "nbconvert_exporter": "python",
   "pygments_lexer": "ipython3",
   "version": "3.10.8"
  }
 },
 "nbformat": 4,
 "nbformat_minor": 5
}
