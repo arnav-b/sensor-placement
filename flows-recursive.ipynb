{
 "cells": [
  {
   "cell_type": "code",
   "execution_count": 2,
   "id": "a250fffa",
   "metadata": {},
   "outputs": [],
   "source": [
    "import networkx as nx\n",
    "import scipy.linalg as linalg\n",
    "import numpy as np\n",
    "from sensors import utils, flows\n",
    "import scipy.sparse as sparse\n",
    "from tqdm.notebook import tqdm\n",
    "import heapq"
   ]
  },
  {
   "cell_type": "code",
   "execution_count": 91,
   "id": "9f8c0f8b",
   "metadata": {},
   "outputs": [],
   "source": [
    "class RLSEvaluator(flows.lazy.LazyEvaluator):\n",
    "    \n",
    "    def evaluate(self, s):\n",
    "        \"\"\"\n",
    "        Evaluate the benefit of adding sensor to current set (this.sensors).\n",
    "        \"\"\"\n",
    "        j = self.T.index(s)\n",
    "        \n",
    "        S_j = sparse.identity(len(self.T), format=\"csr\")\n",
    "        idxs = list(set(range(S_j.shape[0])) - set([j]))\n",
    "        S_j = S_j[idxs]\n",
    "        S_j = sparse.csc_matrix(S_j)\n",
    "\n",
    "        H_T = self.H_T @ S_j.T\n",
    "        \n",
    "        # Create trivial solution\n",
    "        f0 = np.copy(self.f)\n",
    "        np.put(f0, self.T, 0)\n",
    "        f0[j] = self.f[s]\n",
    "        \n",
    "        # Create update matrices\n",
    "        U = np.zeros((len(self.T), 2))\n",
    "        U[j][0] = -1\n",
    "        U[:, 1] = self.XTX[:, j].toarray().T[0]\n",
    "        U[j][1] = 0\n",
    "        \n",
    "        V_T = np.zeros((2, len(self.T)))\n",
    "        V_T[1][j] = -1\n",
    "        V_T[0] = self.XTX[j].toarray()\n",
    "        V_T[0][j] = 0\n",
    "                \n",
    "        Y = self.decomposition.solve(U)\n",
    "        \n",
    "        z = S_j.T @ (self.B @ H_T).T @ self.B @ f0.T\n",
    "        z = self.decomposition.solve(z)\n",
    "        \n",
    "        V_T = sparse.csc_matrix(V_T)\n",
    "        Y = sparse.csc_matrix(Y)\n",
    "        f_hat = S_j @ (z - Y @ sparse.linalg.inv(sparse.identity(2) + V_T @ Y) @ V_T @ z)\n",
    "#         f_hat = f_hat[:, 0]\n",
    "        \n",
    "#         f_hat_lsmr = sparse.linalg.lsmr(self.B @ H_T, (self.B @ f0.T).toarray(), damp=self.lam)[0]\n",
    "#         print(np.linalg.norm(f_hat_lsmr - f_hat))\n",
    "\n",
    "        f_T = self.f[np.ix_(self.T)]\n",
    "        f_T = np.delete(f_T, self.T.index(s), 0)\n",
    "        \n",
    "        return np.linalg.norm(f_hat - f_T)\n",
    "    \n",
    "    def pop(self):\n",
    "        # Current top \n",
    "        _, s = heapq.heappop(self.deltas)\n",
    "        delta = self.evaluate(s) - self.current\n",
    "            \n",
    "        if len(self.deltas) == 0:\n",
    "            self.sensors.append(s)\n",
    "            return s, delta\n",
    "\n",
    "        # Next top\n",
    "        delta_next, s_next = heapq.heappop(self.deltas)\n",
    "            \n",
    "        # If the change drops it below the next best, recalculate the next best and continue\n",
    "        while delta > delta_next:\n",
    "            delta_next = self.evaluate(s_next) - self.current\n",
    "\n",
    "            if delta_next <= delta:\n",
    "                heapq.heappush(self.deltas, (delta, s))\n",
    "                delta, s = delta_next, s_next\n",
    "            else:\n",
    "                heapq.heappush(self.deltas, (delta_next, s_next))\n",
    "                \n",
    "            delta_next, s_next = heapq.heappop(self.deltas)\n",
    "            \n",
    "        heapq.heappush(self.deltas, (delta_next, s_next))\n",
    "        self.sensors.append(s)\n",
    "           \n",
    "        j = self.T.index(s)\n",
    "        self.T.remove(s)\n",
    "        \n",
    "        idxs = list(set(range(self.H_T.shape[1])) - set([j]))\n",
    "        self.H_T = self.H_T[:, idxs]\n",
    "        \n",
    "        self.XTX = sparse.csc_matrix(self.H_T.T @ self.B.T @ self.B @ self.H_T)\n",
    "        self.decomposition = sparse.linalg.splu(self.XTX + self.lam * sparse.identity(len(self.T)))\n",
    "        self.current += delta\n",
    "                \n",
    "        return s, delta\n",
    "    \n",
    "    def al_flows_greedy(self, ratio):\n",
    "        k = int(ratio * len(self.labeled_edges))\n",
    "        self.lam = 1e-6\n",
    "        \n",
    "        if k <= len(self.sensors):\n",
    "            return self.sensors[:k]\n",
    "        \n",
    "        self.debug_print(\"calculating initial errors\")\n",
    "        \n",
    "        # Create initial LU decomposition\n",
    "        self.B = sparse.csc_matrix(nx.incidence_matrix(self.G, oriented=True))\n",
    "        self.H_T = sparse.identity(self.G.number_of_edges(), format=\"csc\")\n",
    "        X = self.B @ self.H_T\n",
    "        self.XTX = sparse.csc_matrix(X.T @ X)\n",
    "        reg = sparse.csc_matrix(self.lam * np.identity(self.G.number_of_edges()))\n",
    "        \n",
    "        self.decomposition = sparse.linalg.splu(self.XTX + reg)\n",
    "        \n",
    "        # Initialize vector representations\n",
    "        self.f = utils.metrics.dict2vect(self.G, self.labeled_edges)\n",
    "        self.T = list(range(self.G.number_of_edges()))\n",
    "        \n",
    "        # Initial guess is 0, compute its error\n",
    "        self.current = np.linalg.norm(np.zeros(self.G.number_of_edges()) - self.f)\n",
    "        \n",
    "        for e in tqdm(range(len(self.labeled_edges))):\n",
    "            self.deltas.append((self.evaluate(e) - self.current, e))\n",
    "            \n",
    "        heapq.heapify(self.deltas)\n",
    "        \n",
    "        self.debug_print(\"choosing sensors\")\n",
    "\n",
    "        for i in tqdm(range(len(self.sensors), k)):\n",
    "            s, delta = self.pop()\n",
    "            self.debug_print(\"selected {} of {}, delta {}\".format(i+1, k, delta))\n",
    "\n",
    "        edges = list(self.G.edges())\n",
    "        return [edges[i] for i in self.sensors]"
   ]
  },
  {
   "cell_type": "code",
   "execution_count": 32,
   "id": "c8c0c09a",
   "metadata": {},
   "outputs": [
    {
     "name": "stdout",
     "output_type": "stream",
     "text": [
      "The line_profiler extension is already loaded. To reload it, use:\n",
      "  %reload_ext line_profiler\n"
     ]
    }
   ],
   "source": [
    "%load_ext line_profiler"
   ]
  },
  {
   "cell_type": "code",
   "execution_count": 93,
   "id": "25f99fe9",
   "metadata": {},
   "outputs": [
    {
     "data": {
      "application/vnd.jupyter.widget-view+json": {
       "model_id": "49ece189edca4dbeae0f63868c1fe14c",
       "version_major": 2,
       "version_minor": 0
      },
      "text/plain": [
       "  0%|          | 0/2522 [00:00<?, ?it/s]"
      ]
     },
     "metadata": {},
     "output_type": "display_data"
    },
    {
     "name": "stderr",
     "output_type": "stream",
     "text": [
      "/home/ab141/.conda/envs/sensor/lib/python3.10/site-packages/scipy/sparse/linalg/_dsolve/linsolve.py:347: SparseEfficiencyWarning: splu converted its input to CSC format\n",
      "  warn('splu converted its input to CSC format', SparseEfficiencyWarning)\n",
      "/home/ab141/.conda/envs/sensor/lib/python3.10/site-packages/scipy/sparse/linalg/_dsolve/linsolve.py:239: SparseEfficiencyWarning: spsolve is more efficient when sparse b is in the CSC matrix format\n",
      "  warn('spsolve is more efficient when sparse b '\n"
     ]
    },
    {
     "data": {
      "application/vnd.jupyter.widget-view+json": {
       "model_id": "56f3277be068470dbbcc8e4c6b041e1f",
       "version_major": 2,
       "version_minor": 0
      },
      "text/plain": [
       "  0%|          | 0/25 [00:00<?, ?it/s]"
      ]
     },
     "metadata": {},
     "output_type": "display_data"
    }
   ],
   "source": [
    "evaluator = RLSEvaluator(*utils.data.read_tntp_graph(\"data/Barcelona/Barcelona_flow.tntp\"))\n",
    "\n",
    "%lprun -f evaluator.evaluate evaluator.al_flows_greedy(.01)"
   ]
  },
  {
   "cell_type": "code",
   "execution_count": 100,
   "id": "c472c850",
   "metadata": {},
   "outputs": [
    {
     "name": "stderr",
     "output_type": "stream",
     "text": [
      "100%|██████████████████████████████████████████████████████████████| 914/914 [00:08<00:00, 106.87it/s]\n",
      "100%|█████████████████████████████████████████████████████████████████| 91/91 [00:08<00:00, 11.26it/s]\n"
     ]
    },
    {
     "data": {
      "application/vnd.jupyter.widget-view+json": {
       "model_id": "08c1e3210af34126a14b9ab3757aca8a",
       "version_major": 2,
       "version_minor": 0
      },
      "text/plain": [
       "  0%|          | 0/914 [00:00<?, ?it/s]"
      ]
     },
     "metadata": {},
     "output_type": "display_data"
    },
    {
     "name": "stderr",
     "output_type": "stream",
     "text": [
      "/home/ab141/.conda/envs/sensor/lib/python3.10/site-packages/scipy/sparse/linalg/_dsolve/linsolve.py:347: SparseEfficiencyWarning: splu converted its input to CSC format\n",
      "  warn('splu converted its input to CSC format', SparseEfficiencyWarning)\n",
      "/home/ab141/.conda/envs/sensor/lib/python3.10/site-packages/scipy/sparse/linalg/_dsolve/linsolve.py:239: SparseEfficiencyWarning: spsolve is more efficient when sparse b is in the CSC matrix format\n",
      "  warn('spsolve is more efficient when sparse b '\n"
     ]
    },
    {
     "data": {
      "application/vnd.jupyter.widget-view+json": {
       "model_id": "13dece1f806d4832908bb9bee3fe8542",
       "version_major": 2,
       "version_minor": 0
      },
      "text/plain": [
       "  0%|          | 0/91 [00:00<?, ?it/s]"
      ]
     },
     "metadata": {},
     "output_type": "display_data"
    },
    {
     "name": "stderr",
     "output_type": "stream",
     "text": [
      "100%|█████████████████████████████████████████████████████████████| 2522/2522 [00:49<00:00, 51.22it/s]\n",
      "100%|███████████████████████████████████████████████████████████████| 252/252 [00:26<00:00,  9.43it/s]\n"
     ]
    },
    {
     "data": {
      "application/vnd.jupyter.widget-view+json": {
       "model_id": "009dd5d334644d11b6b620f8a80c4be2",
       "version_major": 2,
       "version_minor": 0
      },
      "text/plain": [
       "  0%|          | 0/2522 [00:00<?, ?it/s]"
      ]
     },
     "metadata": {},
     "output_type": "display_data"
    },
    {
     "name": "stderr",
     "output_type": "stream",
     "text": [
      "/home/ab141/.conda/envs/sensor/lib/python3.10/site-packages/scipy/sparse/linalg/_dsolve/linsolve.py:347: SparseEfficiencyWarning: splu converted its input to CSC format\n",
      "  warn('splu converted its input to CSC format', SparseEfficiencyWarning)\n",
      "/home/ab141/.conda/envs/sensor/lib/python3.10/site-packages/scipy/sparse/linalg/_dsolve/linsolve.py:239: SparseEfficiencyWarning: spsolve is more efficient when sparse b is in the CSC matrix format\n",
      "  warn('spsolve is more efficient when sparse b '\n"
     ]
    },
    {
     "data": {
      "application/vnd.jupyter.widget-view+json": {
       "model_id": "f0ab23444be148e09bd515006cbc31fe",
       "version_major": 2,
       "version_minor": 0
      },
      "text/plain": [
       "  0%|          | 0/252 [00:00<?, ?it/s]"
      ]
     },
     "metadata": {},
     "output_type": "display_data"
    },
    {
     "name": "stderr",
     "output_type": "stream",
     "text": [
      "100%|█████████████████████████████████████████████████████████████| 2950/2950 [01:13<00:00, 40.02it/s]\n",
      "100%|███████████████████████████████████████████████████████████████| 295/295 [00:27<00:00, 10.89it/s]\n"
     ]
    },
    {
     "data": {
      "application/vnd.jupyter.widget-view+json": {
       "model_id": "195c086c05d84c449f4d09056049055a",
       "version_major": 2,
       "version_minor": 0
      },
      "text/plain": [
       "  0%|          | 0/2950 [00:00<?, ?it/s]"
      ]
     },
     "metadata": {},
     "output_type": "display_data"
    },
    {
     "name": "stderr",
     "output_type": "stream",
     "text": [
      "/home/ab141/.conda/envs/sensor/lib/python3.10/site-packages/scipy/sparse/linalg/_dsolve/linsolve.py:347: SparseEfficiencyWarning: splu converted its input to CSC format\n",
      "  warn('splu converted its input to CSC format', SparseEfficiencyWarning)\n",
      "/home/ab141/.conda/envs/sensor/lib/python3.10/site-packages/scipy/sparse/linalg/_dsolve/linsolve.py:239: SparseEfficiencyWarning: spsolve is more efficient when sparse b is in the CSC matrix format\n",
      "  warn('spsolve is more efficient when sparse b '\n"
     ]
    },
    {
     "data": {
      "application/vnd.jupyter.widget-view+json": {
       "model_id": "1be27cefb431457ab5be614f03ba1b05",
       "version_major": 2,
       "version_minor": 0
      },
      "text/plain": [
       "  0%|          | 0/295 [00:00<?, ?it/s]"
      ]
     },
     "metadata": {},
     "output_type": "display_data"
    },
    {
     "name": "stderr",
     "output_type": "stream",
     "text": [
      "100%|█████████████████████████████████████████████████████████████| 2836/2836 [01:05<00:00, 43.24it/s]\n",
      "100%|███████████████████████████████████████████████████████████████| 283/283 [00:35<00:00,  8.03it/s]\n"
     ]
    },
    {
     "data": {
      "application/vnd.jupyter.widget-view+json": {
       "model_id": "0c7acac4e9354f47bb38f53e9a286ebf",
       "version_major": 2,
       "version_minor": 0
      },
      "text/plain": [
       "  0%|          | 0/2836 [00:00<?, ?it/s]"
      ]
     },
     "metadata": {},
     "output_type": "display_data"
    },
    {
     "name": "stderr",
     "output_type": "stream",
     "text": [
      "/home/ab141/.conda/envs/sensor/lib/python3.10/site-packages/scipy/sparse/linalg/_dsolve/linsolve.py:347: SparseEfficiencyWarning: splu converted its input to CSC format\n",
      "  warn('splu converted its input to CSC format', SparseEfficiencyWarning)\n",
      "/home/ab141/.conda/envs/sensor/lib/python3.10/site-packages/scipy/sparse/linalg/_dsolve/linsolve.py:239: SparseEfficiencyWarning: spsolve is more efficient when sparse b is in the CSC matrix format\n",
      "  warn('spsolve is more efficient when sparse b '\n"
     ]
    },
    {
     "data": {
      "application/vnd.jupyter.widget-view+json": {
       "model_id": "41a48c8538654f9581bdbc187439477b",
       "version_major": 2,
       "version_minor": 0
      },
      "text/plain": [
       "  0%|          | 0/283 [00:00<?, ?it/s]"
      ]
     },
     "metadata": {},
     "output_type": "display_data"
    }
   ],
   "source": [
    "import time\n",
    "\n",
    "datasets = {\"Anaheim\": \"data/Anaheim/Anaheim_flow.tntp\",\n",
    "            \"Barcelona\": \"data/Barcelona/Barcelona_flow.tntp\",\n",
    "            \"Chicago\": \"data/Chicago-Sketch/ChicagoSketch_flow.tntp\",\n",
    "            \"Winnipeg\": \"data/Winnipeg/Winnipeg_flow.tntp\",\n",
    "           }\n",
    "\n",
    "results = {\"Lazy\": [],\n",
    "          \"Lazy + Recursive\": []\n",
    "          }\n",
    "\n",
    "for name, f in datasets.items():    \n",
    "    # Time lazy\n",
    "    t0 = time.time()\n",
    "    evaluator = flows.lazy.LazyEvaluator(*utils.data.read_tntp_graph(f))\n",
    "    evaluator.al_flows_greedy(.1)\n",
    "    results[\"Lazy\"].append(time.time() - t0) \n",
    "    \n",
    "    # Time lazy + recursive\n",
    "    t0 = time.time()\n",
    "    evaluator = RLSEvaluator(*utils.data.read_tntp_graph(f))\n",
    "    evaluator.al_flows_greedy(.1)\n",
    "    results[\"Lazy + Recursive\"].append(time.time() - t0)"
   ]
  },
  {
   "cell_type": "code",
   "execution_count": 117,
   "id": "0a4997f7",
   "metadata": {},
   "outputs": [
    {
     "name": "stderr",
     "output_type": "stream",
     "text": [
      "100%|██████████████████████████████████████████████████████████████| 914/914 [00:08<00:00, 103.23it/s]\n",
      "100%|█████████████████████████████████████████████████████████████████| 91/91 [15:40<00:00, 10.34s/it]\n"
     ]
    },
    {
     "ename": "KeyError",
     "evalue": "'Winnipeg'",
     "output_type": "error",
     "traceback": [
      "\u001b[0;31m---------------------------------------------------------------------------\u001b[0m",
      "\u001b[0;31mKeyError\u001b[0m                                  Traceback (most recent call last)",
      "Input \u001b[0;32mIn [117]\u001b[0m, in \u001b[0;36m<cell line: 5>\u001b[0;34m()\u001b[0m\n\u001b[1;32m      3\u001b[0m evaluator \u001b[38;5;241m=\u001b[39m flows\u001b[38;5;241m.\u001b[39mbruteforce\u001b[38;5;241m.\u001b[39mBruteForceEvaluator(\u001b[38;5;241m*\u001b[39mutils\u001b[38;5;241m.\u001b[39mdata\u001b[38;5;241m.\u001b[39mread_tntp_graph(\u001b[38;5;124m\"\u001b[39m\u001b[38;5;124mdata/Anaheim/Anaheim_flow.tntp\u001b[39m\u001b[38;5;124m\"\u001b[39m))\n\u001b[1;32m      4\u001b[0m evaluator\u001b[38;5;241m.\u001b[39mal_flows_greedy(\u001b[38;5;241m.1\u001b[39m)\n\u001b[0;32m----> 5\u001b[0m \u001b[43mresults\u001b[49m\u001b[43m[\u001b[49m\u001b[43mname\u001b[49m\u001b[43m]\u001b[49m[\u001b[38;5;124m\"\u001b[39m\u001b[38;5;124mBrute Force\u001b[39m\u001b[38;5;124m\"\u001b[39m] \u001b[38;5;241m=\u001b[39m time\u001b[38;5;241m.\u001b[39mtime() \u001b[38;5;241m-\u001b[39m t0\n",
      "\u001b[0;31mKeyError\u001b[0m: 'Winnipeg'"
     ]
    }
   ],
   "source": [
    "#     Time brute force, but only for Anaheim (rest too slow)\n",
    "t0 = time.time()\n",
    "evaluator = flows.bruteforce.BruteForceEvaluator(*utils.data.read_tntp_graph(\"data/Anaheim/Anaheim_flow.tntp\"))\n",
    "evaluator.al_flows_greedy(.1)\n",
    "results[\"Brute Force\"] = (time.time() - t0, 6000, 6000, 6000)"
   ]
  },
  {
   "cell_type": "code",
   "execution_count": 123,
   "id": "098a8bc8",
   "metadata": {},
   "outputs": [],
   "source": [
    "results[\"Brute Force\"] = (15 * 60 + 48, 3600, 3600, 3600)"
   ]
  },
  {
   "cell_type": "code",
   "execution_count": 139,
   "id": "1c190dfc",
   "metadata": {},
   "outputs": [
    {
     "data": {
      "image/png": "[encoded data removed]",
      "text/plain": [
       "<Figure size 432x288 with 1 Axes>"
      ]
     },
     "metadata": {
      "needs_background": "light"
     },
     "output_type": "display_data"
    }
   ],
   "source": [
    "import matplotlib.pyplot as plt\n",
    "\n",
    "x = np.arange(4)  # the label locations\n",
    "width = 0.25  # the width of the bars\n",
    "multiplier = 0\n",
    "\n",
    "fig, ax = plt.subplots()\n",
    "cities = (\"Anaheim\", \"Barcelona\", \"Chicago\", \"Winnipeg\")\n",
    "\n",
    "for alg, measurement in {a : results[a] for a in [\"Brute Force\", \"Lazy\", \"Lazy + Recursive\"]}.items():\n",
    "    offset = width * multiplier\n",
    "    rects = ax.bar(x + offset, measurement, width, label=alg)\n",
    "    multiplier += 1\n",
    "\n",
    "# Add some text for labels, title and custom x-axis tick labels, etc.\n",
    "ax.set_ylabel('Running Time (s)', fontsize=14)\n",
    "ax.set_xlabel('Network', fontsize=14)\n",
    "ax.set_xticks(x + width, cities, fontsize=14)\n",
    "ax.legend(loc='upper right', ncols=1, fontsize=14)\n",
    "# ax.set_ylim(0, 3600)\n",
    "ax.set_yticklabels([])\n",
    "ax.set_yticks([])\n",
    "ax.set_yscale(\"log\")\n",
    "\n",
    "plt.savefig(\"results/speedups.pdf\")"
   ]
  },
  {
   "cell_type": "markdown",
   "id": "0ff433a3",
   "metadata": {},
   "source": [
    "## Correlation Plots"
   ]
  },
  {
   "cell_type": "code",
   "execution_count": 131,
   "id": "9071520e",
   "metadata": {},
   "outputs": [],
   "source": [
    "def normalize(f):\n",
    "    return (1 / (max(f) - min(f))) * (f - np.full(len(f), min(f)))"
   ]
  },
  {
   "cell_type": "code",
   "execution_count": 132,
   "id": "84425ff8",
   "metadata": {},
   "outputs": [
    {
     "name": "stderr",
     "output_type": "stream",
     "text": [
      "100%|███████████████████████████████████████████████████████████████| 914/914 [00:10<00:00, 85.40it/s]\n",
      "100%|█████████████████████████████████████████████████████████████████| 91/91 [00:06<00:00, 14.19it/s]\n"
     ]
    }
   ],
   "source": [
    "evaluator = flows.lazy.LazyEvaluator(*utils.data.read_tntp_graph(\"data/Anaheim/Anaheim_flow.tntp\"))\n",
    "f = utils.metrics.dict2vect(evaluator.G, evaluator.labeled_edges)\n",
    "\n",
    "greedy_sensors = evaluator.al_flows_greedy(.1)\n",
    "f_greedy = utils.metrics.dict2vect(evaluator.G, evaluator.predict(greedy_sensors))"
   ]
  },
  {
   "cell_type": "code",
   "execution_count": 133,
   "id": "b4c8f668",
   "metadata": {},
   "outputs": [],
   "source": [
    "rb_sensors = evaluator.al_flows_rb(.1)\n",
    "f_rb = utils.metrics.dict2vect(evaluator.G, evaluator.predict(rb_sensors))"
   ]
  },
  {
   "cell_type": "code",
   "execution_count": 134,
   "id": "8176529d",
   "metadata": {},
   "outputs": [
    {
     "name": "stdout",
     "output_type": "stream",
     "text": [
      "unweighted rrqr\n"
     ]
    }
   ],
   "source": [
    "rrqr_sensors = evaluator.al_flows_rrqr(.1, weighted=False)\n",
    "f_rrqr = utils.metrics.dict2vect(evaluator.G, evaluator.predict(rrqr_sensors))"
   ]
  },
  {
   "cell_type": "code",
   "execution_count": 135,
   "id": "bb2f2054",
   "metadata": {},
   "outputs": [],
   "source": [
    "max_sensors = evaluator.al_flows_max(.1)\n",
    "f_max = utils.metrics.dict2vect(evaluator.G, evaluator.predict(max_sensors))"
   ]
  },
  {
   "cell_type": "code",
   "execution_count": 137,
   "id": "bad3943c",
   "metadata": {},
   "outputs": [
    {
     "data": {
      "image/png": "[encoded data removed]",
      "text/plain": [
       "<Figure size 720x720 with 4 Axes>"
      ]
     },
     "metadata": {
      "needs_background": "light"
     },
     "output_type": "display_data"
    }
   ],
   "source": [
    "import matplotlib\n",
    "matplotlib.rc('xtick', labelsize=14) \n",
    "matplotlib.rc('ytick', labelsize=14) \n",
    "\n",
    "fig, ax = plt.subplots(2, 2, figsize=(10, 10))\n",
    "\n",
    "ax[0][0].scatter(normalize(f), normalize(f_greedy), c=[\"red\" if e in greedy_sensors else \"black\" for e in evaluator.G.edges()])\n",
    "ax[0][0].set_ylabel(\"Predicted Flow\", fontsize=20)\n",
    "ax[0][0].set_title(\"Greedy\", fontsize=20)\n",
    "ax[0][0].set_xticklabels([])\n",
    "\n",
    "ax[0][1].scatter(normalize(f), normalize(f_max), c=[\"red\" if e in max_sensors else \"black\" for e in evaluator.G.edges()])\n",
    "ax[0][1].set_title(\"Max Flow\", fontsize=20)\n",
    "ax[0][1].set_xticklabels([])\n",
    "ax[0][1].set_yticklabels([])\n",
    "\n",
    "ax[1][0].scatter(normalize(f), normalize(f_rb), c=[\"red\" if e in rb_sensors else \"black\" for e in evaluator.G.edges()])\n",
    "ax[1][0].set_ylabel(\"Predicted Flow\", fontsize=20)\n",
    "ax[1][0].set_xlabel(\"True Flow\", fontsize=20)\n",
    "ax[1][0].set_title(\"RB\", fontsize=20)\n",
    "\n",
    "ax[1][1].scatter(normalize(f), normalize(f_rrqr), c=[\"red\" if e in rrqr_sensors else \"black\" for e in evaluator.G.edges()])\n",
    "ax[1][1].set_xlabel(\"True Flow\", fontsize=20)\n",
    "ax[1][1].set_title(\"RRQR\", fontsize=20)\n",
    "ax[0][1].set_yticklabels([])\n",
    "\n",
    "plt.savefig(\"results/correlation_plots.pdf\")"
   ]
  },
  {
   "cell_type": "markdown",
   "id": "a1cdfade",
   "metadata": {},
   "source": [
    "## Other Metrics"
   ]
  },
  {
   "cell_type": "code",
   "execution_count": 105,
   "id": "26b649b6",
   "metadata": {},
   "outputs": [
    {
     "name": "stderr",
     "output_type": "stream",
     "text": [
      "100%|██████████████████████████████████████████████████████████████| 914/914 [00:08<00:00, 110.20it/s]\n",
      "100%|█████████████████████████████████████████████████████████████████| 91/91 [00:06<00:00, 14.62it/s]\n",
      "100%|█████████████████████████████████████████████████████████████| 2522/2522 [00:51<00:00, 49.40it/s]\n",
      "100%|███████████████████████████████████████████████████████████████| 252/252 [00:25<00:00,  9.86it/s]\n",
      "100%|█████████████████████████████████████████████████████████████| 2950/2950 [01:15<00:00, 38.92it/s]\n",
      "100%|███████████████████████████████████████████████████████████████| 295/295 [00:27<00:00, 10.63it/s]\n",
      "100%|█████████████████████████████████████████████████████████████| 2836/2836 [01:04<00:00, 44.23it/s]\n",
      "100%|███████████████████████████████████████████████████████████████| 283/283 [00:32<00:00,  8.76it/s]\n"
     ]
    }
   ],
   "source": [
    "results = {}\n",
    "\n",
    "for name, file in datasets.items():\n",
    "    G, labeled_edges = utils.data.read_tntp_graph(file)\n",
    "    m = max(labeled_edges.values())\n",
    "    \n",
    "    normalized_edges = {}\n",
    "    for k, v in labeled_edges.items():\n",
    "        normalized_edges[k] = v / m\n",
    "    \n",
    "    evaluator = flows.lazy.LazyEvaluator(G, normalized_edges)\n",
    "    \n",
    "    f = utils.metrics.dict2vect(evaluator.G, evaluator.labeled_edges)\n",
    "    \n",
    "    greedy_sensors = evaluator.al_flows_greedy(.1)\n",
    "    f_greedy = utils.metrics.dict2vect(evaluator.G, evaluator.predict(greedy_sensors))\n",
    "    \n",
    "    rb_sensors = evaluator.al_flows_rb(.1)\n",
    "    f_rb = utils.metrics.dict2vect(evaluator.G, evaluator.predict(rb_sensors))\n",
    "    \n",
    "    rrqr_sensors = evaluator.al_flows_rrqr(.1, weighted=False)\n",
    "    f_rrqr = utils.metrics.dict2vect(evaluator.G, evaluator.predict(rrqr_sensors))\n",
    "    \n",
    "    max_sensors = evaluator.al_flows_max(.1)\n",
    "    f_max = utils.metrics.dict2vect(evaluator.G, evaluator.predict(max_sensors))\n",
    "    \n",
    "    rand_sensors = evaluator.al_flows_random(.1)\n",
    "    f_rand = utils.metrics.dict2vect(evaluator.G, evaluator.predict(rand_sensors))\n",
    "    \n",
    "    dataset = {}\n",
    "    for alg, f_ in zip([\"Greedy\", \"Max\", \"RB\", \"RRQR\", \"Random\"], [f_greedy, f_max, f_rb, f_rrqr, f_rand]):\n",
    "        # Correlation, MSE, MAE, MAPE, Max Error\n",
    "        res = {}\n",
    "        \n",
    "        res[\"Correlation\"] = np.corrcoef(f, f_)[0][1]\n",
    "        res[\"MSE\"] = 1 / len(f) * np.linalg.norm(f - f_) ** 2\n",
    "        res[\"MAE\"] = 1 / len(f) * sum([abs(s - s_) for s, s_ in zip(f, f_)])\n",
    "        res[\"MAPE\"] = 100 / len(f) * sum([abs((s - s_) / s) if s != 0 else 0 for s, s_ in zip(f, f_)])\n",
    "        res[\"Max Error\"] = max(f - f_)\n",
    "        \n",
    "        dataset[alg] = res\n",
    "    \n",
    "    results[name] = dataset"
   ]
  },
  {
   "cell_type": "code",
   "execution_count": 106,
   "id": "b475fa57",
   "metadata": {},
   "outputs": [
    {
     "data": {
      "text/plain": [
       "{'Anaheim': {'Greedy': {'Correlation': 0.9359204480845851,\n",
       "   'MSE': 0.005595586782800234,\n",
       "   'MAE': 0.05122695793680473,\n",
       "   'MAPE': 194.38104864338905,\n",
       "   'Max Error': 0.45230309550480907},\n",
       "  'Max': {'Correlation': 0.8524342911077664,\n",
       "   'MSE': 0.013640178099664037,\n",
       "   'MAE': 0.07550678369262286,\n",
       "   'MAPE': 264.4982431667357,\n",
       "   'Max Error': 0.5765550684276488},\n",
       "  'RB': {'Correlation': 0.40162178853707226,\n",
       "   'MSE': 0.04296783705144059,\n",
       "   'MAE': 0.13001798049546026,\n",
       "   'MAPE': 209.27684583061102,\n",
       "   'Max Error': 0.9633589084924393},\n",
       "  'RRQR': {'Correlation': 0.49265612217631993,\n",
       "   'MSE': 0.038195542926799934,\n",
       "   'MAE': 0.12098093010641553,\n",
       "   'MAPE': 246.38834704286333,\n",
       "   'Max Error': 0.817650517419751},\n",
       "  'Random': {'Correlation': 0.49030153497724127,\n",
       "   'MSE': 0.03888629276930459,\n",
       "   'MAE': 0.12269472433686007,\n",
       "   'MAPE': 310.0327758293605,\n",
       "   'Max Error': 0.9721778946602481}},\n",
       " 'Barcelona': {'Greedy': {'Correlation': 0.8685368283877068,\n",
       "   'MSE': 0.007810414012162315,\n",
       "   'MAE': 0.06216174738567464,\n",
       "   'MAPE': 289.3852791540622,\n",
       "   'Max Error': 0.44976148190901477},\n",
       "  'Max': {'Correlation': 0.8465744711971788,\n",
       "   'MSE': 0.009393302726490601,\n",
       "   'MAE': 0.06592931782411306,\n",
       "   'MAPE': 283.8374239085352,\n",
       "   'Max Error': 0.3930819360414873},\n",
       "  'RB': {'Correlation': 0.4582847540222587,\n",
       "   'MSE': 0.0244966844997515,\n",
       "   'MAE': 0.09557772231753578,\n",
       "   'MAPE': 275.9717606244249,\n",
       "   'Max Error': 0.883774933795807},\n",
       "  'RRQR': {'Correlation': 0.26355890255235903,\n",
       "   'MSE': 0.02897187040745423,\n",
       "   'MAE': 0.10057557333905609,\n",
       "   'MAPE': 181.94768936936217,\n",
       "   'Max Error': 0.9008401309830861},\n",
       "  'Random': {'Correlation': 0.2412260390057132,\n",
       "   'MSE': 0.028937611486672093,\n",
       "   'MAE': 0.09909319614575568,\n",
       "   'MAPE': 169.99965497384747,\n",
       "   'Max Error': 0.922607759053644}},\n",
       " 'Chicago': {'Greedy': {'Correlation': 0.8730268049103362,\n",
       "   'MSE': 0.00696650080242338,\n",
       "   'MAE': 0.059039833582115765,\n",
       "   'MAPE': 102.54422958183446,\n",
       "   'Max Error': 0.32321665691691404},\n",
       "  'Max': {'Correlation': 0.8397880912475864,\n",
       "   'MSE': 0.008986306968217799,\n",
       "   'MAE': 0.06690406070085096,\n",
       "   'MAPE': 111.53983775385358,\n",
       "   'Max Error': 0.31923600895043225},\n",
       "  'RB': {'Correlation': 0.2201027315411817,\n",
       "   'MSE': 0.02320528029395575,\n",
       "   'MAE': 0.09627134817095699,\n",
       "   'MAPE': 103.36201755789513,\n",
       "   'Max Error': 0.992841510226613},\n",
       "  'RRQR': {'Correlation': 0.18394966613987607,\n",
       "   'MSE': 0.023844910894019848,\n",
       "   'MAE': 0.09894687817513402,\n",
       "   'MAPE': 95.76228992611017,\n",
       "   'Max Error': 0.9999822650216245},\n",
       "  'Random': {'Correlation': 0.283425430210328,\n",
       "   'MSE': 0.022051821560122753,\n",
       "   'MAE': 0.0929164995472523,\n",
       "   'MAPE': 92.88929218600427,\n",
       "   'Max Error': 1.0001366749185532}},\n",
       " 'Winnipeg': {'Greedy': {'Correlation': 0.8149463361997625,\n",
       "   'MSE': 0.013081410687232621,\n",
       "   'MAE': 0.08061251616090727,\n",
       "   'MAPE': 217.53412955290008,\n",
       "   'Max Error': 0.5610677869771077},\n",
       "  'Max': {'Correlation': 0.785154621397742,\n",
       "   'MSE': 0.015461786280758023,\n",
       "   'MAE': 0.08728842901333163,\n",
       "   'MAPE': 213.34959537476928,\n",
       "   'Max Error': 0.5911454631161077},\n",
       "  'RB': {'Correlation': 0.46733539009894276,\n",
       "   'MSE': 0.030387815712285184,\n",
       "   'MAE': 0.11046454032410453,\n",
       "   'MAPE': 133.44956989671982,\n",
       "   'Max Error': 0.9315170633143417},\n",
       "  'RRQR': {'Correlation': 0.23517759337368846,\n",
       "   'MSE': 0.03610182761045505,\n",
       "   'MAE': 0.11775943859183727,\n",
       "   'MAPE': 116.71510081098306,\n",
       "   'Max Error': 0.9610820665063868},\n",
       "  'Random': {'Correlation': 0.2417917737346453,\n",
       "   'MSE': 0.035053063341361664,\n",
       "   'MAE': 0.11385843278868447,\n",
       "   'MAPE': 164.53290940950174,\n",
       "   'Max Error': 1.004623607594497}}}"
      ]
     },
     "execution_count": 106,
     "metadata": {},
     "output_type": "execute_result"
    }
   ],
   "source": [
    "results"
   ]
  }
 ],
 "metadata": {
  "kernelspec": {
   "display_name": "Python 3 (ipykernel)",
   "language": "python",
   "name": "python3"
  },
  "language_info": {
   "codemirror_mode": {
    "name": "ipython",
    "version": 3
   },
   "file_extension": ".py",
   "mimetype": "text/x-python",
   "name": "python",
   "nbconvert_exporter": "python",
   "pygments_lexer": "ipython3",
   "version": "3.10.8"
  }
 },
 "nbformat": 4,
 "nbformat_minor": 5
}
