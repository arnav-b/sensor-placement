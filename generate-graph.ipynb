{
 "cells": [
  {
   "cell_type": "code",
   "execution_count": 1,
   "id": "c36f5bce",
   "metadata": {},
   "outputs": [],
   "source": [
    "import os, sys\n",
    "if 'SUMO_HOME' in os.environ:\n",
    "    tools = os.path.join(os.environ['SUMO_HOME'], 'tools')\n",
    "    sys.path.append(tools)\n",
    "else:   \n",
    "    sys.exit(\"please declare environment variable 'SUMO_HOME'\")\n",
    "    \n",
    "import sumolib"
   ]
  },
  {
   "cell_type": "code",
   "execution_count": 2,
   "id": "b67569b1",
   "metadata": {},
   "outputs": [],
   "source": [
    "import pickle\n",
    "\n",
    "with open('data/small_features.pkl', 'rb') as f:\n",
    "    features = pickle.load(f)\n",
    "\n",
    "with open('data/small_speeds.pkl', 'rb') as f:\n",
    "    speeds = pickle.load(f)\n",
    "    \n",
    "with open('data/small_coords.pkl', 'rb') as f:\n",
    "    coords = pickle.load(f) "
   ]
  },
  {
   "cell_type": "code",
   "execution_count": 3,
   "id": "ac418a22",
   "metadata": {},
   "outputs": [
    {
     "data": {
      "text/html": [
       "<div>\n",
       "<style scoped>\n",
       "    .dataframe tbody tr th:only-of-type {\n",
       "        vertical-align: middle;\n",
       "    }\n",
       "\n",
       "    .dataframe tbody tr th {\n",
       "        vertical-align: top;\n",
       "    }\n",
       "\n",
       "    .dataframe thead th {\n",
       "        text-align: right;\n",
       "    }\n",
       "</style>\n",
       "<table border=\"1\" class=\"dataframe\">\n",
       "  <thead>\n",
       "    <tr style=\"text-align: right;\">\n",
       "      <th></th>\n",
       "      <th>source</th>\n",
       "      <th>dest</th>\n",
       "    </tr>\n",
       "  </thead>\n",
       "  <tbody>\n",
       "    <tr>\n",
       "      <th>0</th>\n",
       "      <td>1614922744</td>\n",
       "      <td>1614922747</td>\n",
       "    </tr>\n",
       "    <tr>\n",
       "      <th>1</th>\n",
       "      <td>269459339</td>\n",
       "      <td>269459341</td>\n",
       "    </tr>\n",
       "    <tr>\n",
       "      <th>2</th>\n",
       "      <td>1621320618</td>\n",
       "      <td>1621320622</td>\n",
       "    </tr>\n",
       "    <tr>\n",
       "      <th>3</th>\n",
       "      <td>269459229</td>\n",
       "      <td>269459230</td>\n",
       "    </tr>\n",
       "    <tr>\n",
       "      <th>4</th>\n",
       "      <td>607954833</td>\n",
       "      <td>1613371666</td>\n",
       "    </tr>\n",
       "  </tbody>\n",
       "</table>\n",
       "</div>"
      ],
      "text/plain": [
       "       source        dest\n",
       "0  1614922744  1614922747\n",
       "1   269459339   269459341\n",
       "2  1621320618  1621320622\n",
       "3   269459229   269459230\n",
       "4   607954833  1613371666"
      ]
     },
     "execution_count": 3,
     "metadata": {},
     "output_type": "execute_result"
    }
   ],
   "source": [
    "import pandas as pd\n",
    "\n",
    "edges = pd.read_csv(\"data/small.csv\", names=[\"source\", \"dest\"])\n",
    "edges.head()"
   ]
  },
  {
   "cell_type": "code",
   "execution_count": 4,
   "id": "b5b4803e",
   "metadata": {},
   "outputs": [],
   "source": [
    "# Create node XML\n",
    "import xml.etree.cElementTree as ET\n",
    "\n",
    "nodes = ET.Element(\"nodes\")\n",
    "for n in set(edges[\"source\"]).union(set(edges[\"dest\"])):\n",
    "    v = str(n)\n",
    "    long, lat = coords[v]\n",
    "    node = ET.SubElement(nodes, \"node\", id=v, x=str(long), y=str(lat))\n",
    "    \n",
    "tree = ET.ElementTree(nodes)\n",
    "tree.write(\"out/small.nodes.xml\")"
   ]
  },
  {
   "cell_type": "code",
   "execution_count": 5,
   "id": "e646528a",
   "metadata": {},
   "outputs": [],
   "source": [
    "# Create edge XML\n",
    "\n",
    "edgeXML = ET.Element(\"edges\")\n",
    "i = 0\n",
    "for i, e in enumerate(edges.itertuples()):\n",
    "    feat = features[tuple([str(v) for v in e[1:3]])]\n",
    "    numLanes = str(int(feat[2]))\n",
    "    ET.SubElement(edgeXML, \"edge\", {\"id\": str(i), \"from\": str(e[1]), \"to\": str(e[2]), \n",
    "                                    \"numLanes\": str(int(feat[2])), \"speed\": str(feat[3] * 0.44704), \"length\": str(feat[4])})\n",
    "    \n",
    "tree = ET.ElementTree(edgeXML)\n",
    "tree.write(\"out/small.edges.xml\")"
   ]
  },
  {
   "cell_type": "code",
   "execution_count": 17,
   "id": "ddf39cbe",
   "metadata": {},
   "outputs": [
    {
     "data": {
      "application/vnd.jupyter.widget-view+json": {
       "model_id": "f154d17887ff4d708821fb35e9ae2280",
       "version_major": 2,
       "version_minor": 0
      },
      "text/plain": [
       "0it [00:00, ?it/s]"
      ]
     },
     "metadata": {},
     "output_type": "display_data"
    },
    {
     "data": {
      "text/html": [
       "<div>\n",
       "<style scoped>\n",
       "    .dataframe tbody tr th:only-of-type {\n",
       "        vertical-align: middle;\n",
       "    }\n",
       "\n",
       "    .dataframe tbody tr th {\n",
       "        vertical-align: top;\n",
       "    }\n",
       "\n",
       "    .dataframe thead th {\n",
       "        text-align: right;\n",
       "    }\n",
       "</style>\n",
       "<table border=\"1\" class=\"dataframe\">\n",
       "  <thead>\n",
       "    <tr style=\"text-align: right;\">\n",
       "      <th></th>\n",
       "      <th>Detector</th>\n",
       "      <th>Time</th>\n",
       "      <th>qPKW</th>\n",
       "      <th>vPKW</th>\n",
       "    </tr>\n",
       "  </thead>\n",
       "  <tbody>\n",
       "    <tr>\n",
       "      <th>0</th>\n",
       "      <td>det1046_0</td>\n",
       "      <td>60.0</td>\n",
       "      <td>833.0</td>\n",
       "      <td>29.307504</td>\n",
       "    </tr>\n",
       "    <tr>\n",
       "      <th>1</th>\n",
       "      <td>det1046_1</td>\n",
       "      <td>60.0</td>\n",
       "      <td>833.0</td>\n",
       "      <td>29.307504</td>\n",
       "    </tr>\n",
       "    <tr>\n",
       "      <th>2</th>\n",
       "      <td>det1046_2</td>\n",
       "      <td>60.0</td>\n",
       "      <td>833.0</td>\n",
       "      <td>29.307504</td>\n",
       "    </tr>\n",
       "    <tr>\n",
       "      <th>3</th>\n",
       "      <td>det1046_3</td>\n",
       "      <td>60.0</td>\n",
       "      <td>833.0</td>\n",
       "      <td>29.307504</td>\n",
       "    </tr>\n",
       "    <tr>\n",
       "      <th>4</th>\n",
       "      <td>det1046_4</td>\n",
       "      <td>60.0</td>\n",
       "      <td>833.0</td>\n",
       "      <td>29.307504</td>\n",
       "    </tr>\n",
       "  </tbody>\n",
       "</table>\n",
       "</div>"
      ],
      "text/plain": [
       "    Detector  Time   qPKW       vPKW\n",
       "0  det1046_0  60.0  833.0  29.307504\n",
       "1  det1046_1  60.0  833.0  29.307504\n",
       "2  det1046_2  60.0  833.0  29.307504\n",
       "3  det1046_3  60.0  833.0  29.307504\n",
       "4  det1046_4  60.0  833.0  29.307504"
      ]
     },
     "execution_count": 17,
     "metadata": {},
     "output_type": "execute_result"
    }
   ],
   "source": [
    "# Run netconvert first\n",
    "\n",
    "import numpy as np\n",
    "from tqdm.notebook import tqdm\n",
    "\n",
    "net = sumolib.net.readNet('out/small.net.xml')\n",
    "\n",
    "with open('data/small_flows.pkl', 'rb') as f:\n",
    "    flows = pickle.load(f)\n",
    "\n",
    "readings = pd.DataFrame(\n",
    "    {\n",
    "        \"Detector\": [],\n",
    "        \"Time\": [],\n",
    "        \"qPKW\": [],\n",
    "        \"vPKW\": []\n",
    "    }\n",
    ")\n",
    "\n",
    "detectors = ET.Element(\"detectors\")\n",
    "detector_keys = set(speeds.keys()).intersection(flows.keys())\n",
    "\n",
    "for i, e in tqdm(enumerate(net.getEdges())):\n",
    "    key = (str(e.getFromNode().getID()), str(e.getToNode().getID()))\n",
    "\n",
    "    if key in detector_keys:\n",
    "        # Add detectors to XML\n",
    "        for lane in e.getLanes():\n",
    "            ET.SubElement(detectors, \"detectorDefinition\", id=\"det\" + str(lane.getID()), \n",
    "                          lane=str(lane.getID()), pos=str(lane.getLength() / 2))\n",
    "        \n",
    "            # Add info to csv\n",
    "            avg_speed = speeds[key] * 0.44704 # Convert from mph to m/s\n",
    "            avg_flow = flows[key] / (len(e.getLanes()))\n",
    "            for j in range(1, 2):\n",
    "#                 speed, flow = -1, -1\n",
    "#                 while speed < 0:\n",
    "#                     speed = avg_speed * np.random.default_rng().normal(1, 0.25)\n",
    "#                 while flow < 0:\n",
    "#                     flow = avg_flow * np.random.default_rng().normal(1, 0.25)\n",
    "                \n",
    "                readings.loc[len(readings.index)] = [\"det\" + str(lane.getID()), 60 * j, int(avg_flow), avg_speed] \n",
    "        \n",
    "tree = ET.ElementTree(detectors)\n",
    "tree.write(\"out/small.detectors.xml\")\n",
    "readings.to_csv(\"out/small.readings.csv\", sep=\";\", index=False)\n",
    "\n",
    "readings.head()"
   ]
  },
  {
   "cell_type": "code",
   "execution_count": 7,
   "id": "6aa0bfaf",
   "metadata": {},
   "outputs": [
    {
     "data": {
      "text/plain": [
       "833.0"
      ]
     },
     "execution_count": 7,
     "metadata": {},
     "output_type": "execute_result"
    }
   ],
   "source": [
    "readings[readings[\"Detector\"] == \"det1046_0\"][\"qPKW\"].mean()"
   ]
  },
  {
   "cell_type": "code",
   "execution_count": 18,
   "id": "042c3108",
   "metadata": {},
   "outputs": [
    {
     "ename": "KeyError",
     "evalue": "('1614922929', '268539761')",
     "output_type": "error",
     "traceback": [
      "\u001b[0;31m---------------------------------------------------------------------------\u001b[0m",
      "\u001b[0;31mKeyError\u001b[0m                                  Traceback (most recent call last)",
      "\u001b[0;32m/var/folders/nj/6dlvf2v539n137yvsl2k_v5r0000gn/T/ipykernel_20202/1007447231.py\u001b[0m in \u001b[0;36m<module>\u001b[0;34m\u001b[0m\n\u001b[1;32m     16\u001b[0m         \u001b[0;32mif\u001b[0m \u001b[0mkey\u001b[0m \u001b[0;32min\u001b[0m \u001b[0mflows\u001b[0m\u001b[0;34m.\u001b[0m\u001b[0mkeys\u001b[0m\u001b[0;34m(\u001b[0m\u001b[0;34m)\u001b[0m\u001b[0;34m:\u001b[0m\u001b[0;34m\u001b[0m\u001b[0;34m\u001b[0m\u001b[0m\n\u001b[1;32m     17\u001b[0m             \u001b[0mflow\u001b[0m \u001b[0;34m=\u001b[0m \u001b[0mstr\u001b[0m\u001b[0;34m(\u001b[0m\u001b[0mint\u001b[0m\u001b[0;34m(\u001b[0m\u001b[0mflows\u001b[0m\u001b[0;34m[\u001b[0m\u001b[0mkey\u001b[0m\u001b[0;34m]\u001b[0m\u001b[0;34m)\u001b[0m\u001b[0;34m)\u001b[0m\u001b[0;34m\u001b[0m\u001b[0;34m\u001b[0m\u001b[0m\n\u001b[0;32m---> 18\u001b[0;31m             \u001b[0mspeed\u001b[0m \u001b[0;34m=\u001b[0m \u001b[0mspeeds\u001b[0m\u001b[0;34m[\u001b[0m\u001b[0mkey\u001b[0m\u001b[0;34m]\u001b[0m \u001b[0;34m*\u001b[0m \u001b[0;36m0.44704\u001b[0m \u001b[0;31m# Convert from mph to m/s\u001b[0m\u001b[0;34m\u001b[0m\u001b[0;34m\u001b[0m\u001b[0m\n\u001b[0m\u001b[1;32m     19\u001b[0m             \u001b[0mET\u001b[0m\u001b[0;34m.\u001b[0m\u001b[0mSubElement\u001b[0m\u001b[0;34m(\u001b[0m\u001b[0minterval\u001b[0m\u001b[0;34m,\u001b[0m \u001b[0;34m\"edge\"\u001b[0m\u001b[0;34m,\u001b[0m \u001b[0mid\u001b[0m\u001b[0;34m=\u001b[0m\u001b[0mstr\u001b[0m\u001b[0;34m(\u001b[0m\u001b[0me\u001b[0m\u001b[0;34m.\u001b[0m\u001b[0mgetID\u001b[0m\u001b[0;34m(\u001b[0m\u001b[0;34m)\u001b[0m\u001b[0;34m)\u001b[0m\u001b[0;34m,\u001b[0m \u001b[0mentered\u001b[0m\u001b[0;34m=\u001b[0m\u001b[0mflow\u001b[0m\u001b[0;34m,\u001b[0m \u001b[0mspeed\u001b[0m\u001b[0;34m=\u001b[0m\u001b[0mspeed\u001b[0m\u001b[0;34m)\u001b[0m\u001b[0;34m\u001b[0m\u001b[0;34m\u001b[0m\u001b[0m\n\u001b[1;32m     20\u001b[0m \u001b[0;34m\u001b[0m\u001b[0m\n",
      "\u001b[0;31mKeyError\u001b[0m: ('1614922929', '268539761')"
     ]
    }
   ],
   "source": [
    "import xml.etree.cElementTree as ET\n",
    "import numpy as np\n",
    "\n",
    "net = sumolib.net.readNet('out/small.net.xml')\n",
    "\n",
    "with open('data/small_flows.pkl', 'rb') as f:\n",
    "    flows = pickle.load(f)\n",
    "    \n",
    "data = ET.Element(\"data\")\n",
    "\n",
    "for t in range(3):\n",
    "    interval = ET.SubElement(data, \"interval\", id=str(t), begin=str(3600 * t), end=str(3600 * (t + 1)))\n",
    "    \n",
    "    for i, e in enumerate(net.getEdges()):\n",
    "        key = (str(e.getFromNode().getID()), str(e.getToNode().getID()))\n",
    "        if key in flows.keys():\n",
    "            flow = str(int(flows[key]))\n",
    "            speed = speeds[key] * 0.44704 # Convert from mph to m/s\n",
    "            ET.SubElement(interval, \"edge\", id=str(e.getID()), entered=flow, speed=speed)\n",
    "            \n",
    "            \n",
    "tree = ET.ElementTree(data)\n",
    "tree.write(\"out/routeSampler/small.edgeData.xml\")"
   ]
  },
  {
   "cell_type": "code",
   "execution_count": 15,
   "id": "bab21468",
   "metadata": {},
   "outputs": [],
   "source": [
    "out_detectors = ET.Element(\"additional\")\n",
    "\n",
    "for e in net.getEdges():\n",
    "    lane=np.random.choice(e.getLanes())\n",
    "    det = ET.SubElement(out_detectors, \"inductionLoop\", id=\"out\" + str(e.getID()), \n",
    "                        lane=str(lane.getID()),\n",
    "                        pos=str(lane.getLength() / 2),\n",
    "                        period=str(60 * 60 * 24),\n",
    "                        file=\"small.detectors.out.xml\")\n",
    "\n",
    "tree = ET.ElementTree(out_detectors)\n",
    "tree.write(\"out/small.detectors.additional.xml\")"
   ]
  }
 ],
 "metadata": {
  "kernelspec": {
   "display_name": "Python 3 (ipykernel)",
   "language": "python",
   "name": "python3"
  },
  "language_info": {
   "codemirror_mode": {
    "name": "ipython",
    "version": 3
   },
   "file_extension": ".py",
   "mimetype": "text/x-python",
   "name": "python",
   "nbconvert_exporter": "python",
   "pygments_lexer": "ipython3",
   "version": "3.8.8"
  }
 },
 "nbformat": 4,
 "nbformat_minor": 5
}
