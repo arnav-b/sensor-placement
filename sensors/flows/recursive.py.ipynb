{
 "cells": [
  {
   "cell_type": "code",
   "execution_count": null,
   "id": "cb1fd6f8",
   "metadata": {},
   "outputs": [],
   "source": [
    "class RecursiveEvaluator(flows.lazy.LazyEvaluator):\n",
    "    def __init__(self, G, labeled_edges):\n",
    "        super().__init__(G, labeled_edges)\n",
    "        idx2edge = dict(zip(range(G.number_of_edges()), G.edges()))\n",
    "        B = nx.incidence_matrix(self.G, oriented=True)\n",
    "        self.Q, self.R = linalg.qr(B.T @ B + lam * np.identity(G.number_of_edges()))\n",
    "        \n",
    "    def evaluate(self, s):\n",
    "        Q_prime, R_prime =  "
   ]
  }
 ],
 "metadata": {
  "kernelspec": {
   "display_name": "Python 3 (ipykernel)",
   "language": "python",
   "name": "python3"
  },
  "language_info": {
   "codemirror_mode": {
    "name": "ipython",
    "version": 3
   },
   "file_extension": ".py",
   "mimetype": "text/x-python",
   "name": "python",
   "nbconvert_exporter": "python",
   "pygments_lexer": "ipython3",
   "version": "3.10.8"
  }
 },
 "nbformat": 4,
 "nbformat_minor": 5
}
