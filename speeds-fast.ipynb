{
 "cells": [
  {
   "cell_type": "code",
   "execution_count": 1,
   "id": "0adf4868",
   "metadata": {},
   "outputs": [],
   "source": [
    "import numpy as np\n",
    "import pandas as pd\n",
    "import networkx as nx\n",
    "import matplotlib.pyplot as plt\n",
    "from sensors import mse, dict2vect, vect2dict\n",
    "import scipy\n",
    "from scipy.sparse import linalg\n",
    "from multiprocess import Pool \n",
    "import heapq\n",
    "from tqdm.notebook import tqdm"
   ]
  },
  {
   "cell_type": "code",
   "execution_count": 123,
   "id": "afeb44ba",
   "metadata": {},
   "outputs": [
    {
     "data": {
      "image/png": "[encoded data removed]",
      "text/plain": [
       "<Figure size 432x288 with 1 Axes>"
      ]
     },
     "metadata": {},
     "output_type": "display_data"
    }
   ],
   "source": [
    "G = nx.path_graph(10)\n",
    "eigs = np.linalg.eig(nx.laplacian_matrix(G, nodelist=G.nodes()).toarray())\n",
    "x = eigs[1][:,-1]\n",
    "nx.draw(G, with_labels=True, node_color=x)"
   ]
  },
  {
   "cell_type": "code",
   "execution_count": 353,
   "id": "9ff0781d",
   "metadata": {},
   "outputs": [
    {
     "data": {
      "text/plain": [
       "array([[ 0. ,  0.5,  0. ,  0. ,  0. ,  0. ,  0. ,  0. ,  0. ,  0. ],\n",
       "       [-0.5,  0. ,  0. ,  0. ,  0. ,  0. ,  0. ,  0. ,  0. ,  0. ],\n",
       "       [ 0. ,  0. ,  0. ,  0. ,  0. ,  0. ,  0. ,  0. ,  0. ,  0. ],\n",
       "       [ 0. ,  0. ,  0. ,  0. ,  0. ,  0. ,  0. ,  0. ,  0. ,  0. ],\n",
       "       [ 0. ,  0. ,  0. ,  0. ,  0. ,  0. ,  0. ,  0. ,  0. ,  0. ],\n",
       "       [ 0. ,  0. ,  0. ,  0. ,  0. ,  0. ,  0. ,  0. ,  0. ,  0. ],\n",
       "       [ 0. ,  0. ,  0. ,  0. ,  0. ,  0. ,  0. ,  0. ,  0. ,  0. ],\n",
       "       [ 0. ,  0. ,  0. ,  0. ,  0. ,  0. ,  0. ,  0. ,  0. ,  0. ],\n",
       "       [ 0. ,  0. ,  0. ,  0. ,  0. ,  0. ,  0. ,  0. ,  0. , -0.5],\n",
       "       [ 0. ,  0. ,  0. ,  0. ,  0. ,  0. ,  0. ,  0. ,  0.5,  0. ]])"
      ]
     },
     "execution_count": 353,
     "metadata": {},
     "output_type": "execute_result"
    }
   ],
   "source": [
    "def transition_matrix(G):\n",
    "    A = np.array(nx.adjacency_matrix(G).todense())\n",
    "    D_inv = np.diag([1 / x for x in np.sum(A, axis=0)])\n",
    "    return np.dot(D_inv, A)\n",
    "\n",
    "P = transition_matrix(G)\n",
    "P - P.transpose()"
   ]
  },
  {
   "cell_type": "code",
   "execution_count": 264,
   "id": "602cad2b",
   "metadata": {},
   "outputs": [
    {
     "data": {
      "text/plain": [
       "array([-0.4253254, -0.4253254, -0.4253254, -0.4253254, -0.4253254])"
      ]
     },
     "execution_count": 264,
     "metadata": {},
     "output_type": "execute_result"
    }
   ],
   "source": [
    "from scipy.linalg import lu_factor, lu_solve\n",
    "\n",
    "m = G.number_of_nodes()\n",
    "k = 5\n",
    "S = np.array(sorted(list(sensors)))\n",
    "T = np.array(sorted(list(set(range(m)) - sensors)))\n",
    "\n",
    "P_TT = P[np.ix_(T, T)]\n",
    "P_TS = P[np.ix_(T, S)]\n",
    "\n",
    "lu, piv = lu_factor(np.identity(m-k) - P_TT)\n",
    "\n",
    "x_S = x[np.ix_(S)]\n",
    "x_T = lu_solve((lu, piv), P_TS @ x_S)\n",
    "x_T"
   ]
  },
  {
   "cell_type": "code",
   "execution_count": 211,
   "id": "3d13b549",
   "metadata": {},
   "outputs": [
    {
     "data": {
      "text/plain": [
       "True"
      ]
     },
     "execution_count": 211,
     "metadata": {},
     "output_type": "execute_result"
    }
   ],
   "source": [
    "# Correct solution?\n",
    "np.allclose((np.identity(m-k) - P_TT) @ x_T, P_TS @ x_S)"
   ]
  },
  {
   "cell_type": "code",
   "execution_count": 212,
   "id": "5017dae1",
   "metadata": {},
   "outputs": [
    {
     "data": {
      "text/plain": [
       "True"
      ]
     },
     "execution_count": 212,
     "metadata": {},
     "output_type": "execute_result"
    }
   ],
   "source": [
    "# Equivalent to LSMR solution?\n",
    "x_T_lsmr = linalg.lsmr((np.identity(m-k) - P_TT), \n",
    "                             P_TS @ x_S, damp=0)[0]\n",
    "np.allclose(x_T, x_T_lsmr)"
   ]
  },
  {
   "cell_type": "code",
   "execution_count": 174,
   "id": "b6a4d3c0",
   "metadata": {},
   "outputs": [
    {
     "data": {
      "text/plain": [
       "array([[ 0. , -0.5,  0. ,  0. ,  0. ],\n",
       "       [-0.5,  0. ,  0. ,  0. ,  0. ],\n",
       "       [ 0. ,  0. ,  0. ,  0. ,  0. ],\n",
       "       [ 0. ,  0. ,  0. ,  0. ,  0. ],\n",
       "       [ 0. ,  0. ,  0. ,  0. ,  0. ]])"
      ]
     },
     "execution_count": 174,
     "metadata": {},
     "output_type": "execute_result"
    }
   ],
   "source": [
    "S_prime = np.array([5] + list(S[1:]))\n",
    "T_prime = np.array([0, 6, 7, 8, 9])\n",
    "\n",
    "P_TT_prime = P[np.ix_(T_prime, T_prime)]\n",
    "P_TS_prime = P[np.ix_(T_prime, S_prime)]\n",
    "x_S_prime = x[np.ix_(S_prime)]\n",
    "\n",
    "P_TT_prime - P_TT"
   ]
  },
  {
   "cell_type": "code",
   "execution_count": 198,
   "id": "27a19afd",
   "metadata": {},
   "outputs": [
    {
     "data": {
      "text/plain": [
       "True"
      ]
     },
     "execution_count": 198,
     "metadata": {},
     "output_type": "execute_result"
    }
   ],
   "source": [
    "swap = 0\n",
    "V = np.zeros((m-k, 2))\n",
    "for i in range(m-k):\n",
    "    if i == swap:\n",
    "        V[i][0] = 1\n",
    "    else:\n",
    "        V[i][1] = P_TT[swap][i] - P_TT_prime[swap][i]\n",
    "        \n",
    "perm = np.array([[0, 1],\n",
    "               [1, 0]])\n",
    "\n",
    "np.allclose(P_TT_prime, P_TT - V @ perm @ V.transpose())"
   ]
  },
  {
   "cell_type": "code",
   "execution_count": 200,
   "id": "63bc7605",
   "metadata": {},
   "outputs": [
    {
     "data": {
      "text/plain": [
       "True"
      ]
     },
     "execution_count": 200,
     "metadata": {},
     "output_type": "execute_result"
    }
   ],
   "source": [
    "x_intermediate = scipy.linalg.lu_solve((lu, piv), P_TS_prime @ x_S_prime)\n",
    "np.allclose((np.identity(m-k) - P_TT) @ x_intermediate, P_TS_prime @ x_S_prime)"
   ]
  },
  {
   "cell_type": "code",
   "execution_count": 201,
   "id": "5794ff87",
   "metadata": {},
   "outputs": [
    {
     "data": {
      "text/plain": [
       "True"
      ]
     },
     "execution_count": 201,
     "metadata": {},
     "output_type": "execute_result"
    }
   ],
   "source": [
    "y = scipy.linalg.lu_solve((lu, piv), V)\n",
    "np.allclose((np.identity(m-k) - P_TT) @ y, V)"
   ]
  },
  {
   "cell_type": "code",
   "execution_count": 214,
   "id": "82a54530",
   "metadata": {},
   "outputs": [
    {
     "data": {
      "text/plain": [
       "array([ 0.26286556, -0.4253254 , -0.4253254 , -0.4253254 , -0.4253254 ])"
      ]
     },
     "execution_count": 214,
     "metadata": {},
     "output_type": "execute_result"
    }
   ],
   "source": [
    "x_T_prime = x_intermediate - y @ np.linalg.inv(perm + V.transpose() @ y) @ V.transpose() @ x_intermediate\n",
    "\n",
    "x_T_prime"
   ]
  },
  {
   "cell_type": "code",
   "execution_count": 215,
   "id": "545c3dfe",
   "metadata": {},
   "outputs": [
    {
     "data": {
      "text/plain": [
       "True"
      ]
     },
     "execution_count": 215,
     "metadata": {},
     "output_type": "execute_result"
    }
   ],
   "source": [
    "np.allclose((np.identity(m-k) - P_TT_prime) @ x_T_prime, \n",
    "            P_TS_prime @ x_S_prime)"
   ]
  },
  {
   "cell_type": "code",
   "execution_count": 216,
   "id": "c806502d",
   "metadata": {},
   "outputs": [
    {
     "data": {
      "text/plain": [
       "True"
      ]
     },
     "execution_count": 216,
     "metadata": {},
     "output_type": "execute_result"
    }
   ],
   "source": [
    "lsmr_x_T_prime = linalg.lsmr((np.identity(m-k) - P_TT_prime), \n",
    "                             P_TS_prime @ x_S_prime, damp=0)[0]\n",
    "np.allclose((np.identity(m-k) - P_TT_prime) @ lsmr_x_T_prime, \n",
    "            P_TS_prime @ x_S_prime)"
   ]
  },
  {
   "cell_type": "code",
   "execution_count": 220,
   "id": "27b38981",
   "metadata": {},
   "outputs": [
    {
     "data": {
      "image/png": "[encoded data removed]",
      "text/plain": [
       "<Figure size 432x288 with 1 Axes>"
      ]
     },
     "metadata": {},
     "output_type": "display_data"
    }
   ],
   "source": [
    "est = [x[i] if i in S_prime else x_T_prime[np.where(T_prime == i)][0] for i in range(m)]\n",
    "nx.draw(G, with_labels=True, node_color = est)"
   ]
  },
  {
   "cell_type": "code",
   "execution_count": 222,
   "id": "db3518b2",
   "metadata": {},
   "outputs": [],
   "source": [
    "def synthetic_speeds(G):\n",
    "    eigs = np.linalg.eig(nx.laplacian_matrix(nx.line_graph(G).to_undirected(), nodelist=nx.line_graph(G).nodes()).toarray())\n",
    "    order = np.argsort(eigs[0])\n",
    "    \n",
    "    vals = 1e8 * eigs[1][:,-1]\n",
    "    speeds = {}\n",
    "    for i, v in enumerate(nx.line_graph(G).nodes()):\n",
    "        speeds[v] = vals[i]\n",
    "    return speeds"
   ]
  },
  {
   "cell_type": "code",
   "execution_count": null,
   "id": "61aa73f2",
   "metadata": {},
   "outputs": [],
   "source": [
    "def speed_prediction_lu(P, T, lu, piv, x_T):\n",
    "    x_intermediate = lu_solve((lu, piv), P_TS_prime @ x_S_prime)\n"
   ]
  },
  {
   "cell_type": "code",
   "execution_count": 481,
   "id": "2ac49a3e",
   "metadata": {},
   "outputs": [
    {
     "name": "stdout",
     "output_type": "stream",
     "text": [
      "iteration 0 current error 8.863686e+15\n",
      "end of iteration 0 improvement 6.548606e+15\n",
      "iteration 1 current error 2.315080e+15\n",
      "end of iteration 1 improvement 1.934542e+15\n",
      "iteration 2 current error 3.805387e+14\n",
      "end of iteration 2 improvement 0.000000e+00\n"
     ]
    },
    {
     "data": {
      "text/plain": [
       "[(0, 1), (8, 9), (4, 5)]"
      ]
     },
     "execution_count": 481,
     "metadata": {},
     "output_type": "execute_result"
    }
   ],
   "source": [
    "import random\n",
    "\n",
    "random.seed(3)\n",
    "\n",
    "def weightedL2(a, b, w):\n",
    "    q = a-b\n",
    "    return (w*q*q).sum()\n",
    "\n",
    "def choose_sensors_lu(G, labeled_edges, weights, k=None, debug=False):\n",
    "    if k == None:\n",
    "        k = int(G.number_of_edges() / 10)\n",
    "        \n",
    "    m = G.number_of_edges()\n",
    "    \n",
    "    line_G = nx.line_graph(G)\n",
    "    mapping = dict(zip(line_G.nodes(), range(m)))\n",
    "    reverse = dict(zip(range(m), line_G.nodes()))\n",
    "    nx.relabel_nodes(line_G, mapping, copy=False)\n",
    "    x = np.array([labeled_edges[reverse[v]] for v in range(m)])\n",
    "    w = np.array([weights[reverse[v]] for v in range(m)])\n",
    "    \n",
    "    # Choose random sensors\n",
    "    C = [mapping[k] for k in labeled_edges]\n",
    "    S = C[:k]\n",
    "    T = sorted(list(set(C) - set(S)))\n",
    "    \n",
    "    # Initial prediction\n",
    "    P = transition_matrix(line_G)\n",
    "    P_TT = P[np.ix_(T, T)]\n",
    "    P_TS = P[np.ix_(T, S)]\n",
    "\n",
    "    lu, piv = lu_factor(np.identity(m-k) - P_TT)\n",
    "\n",
    "    x_S = x[np.ix_(S)]\n",
    "    x_T_hat = lu_solve((lu, piv), P_TS @ x_S)\n",
    "    \n",
    "    current_err = weightedL2(x_T_hat, x[np.ix_(T)], w[np.ix_(T)])\n",
    "    old_err = float(\"inf\")\n",
    "    iteration = 0\n",
    "    \n",
    "    while old_err - current_err > 1e-5:\n",
    "        old_err = current_err\n",
    "        \n",
    "        if debug:\n",
    "            print(\"iteration {} current error {:e}\".format(iteration, current_err))\n",
    "        \n",
    "        for i in range(k):\n",
    "            # Move sensor i to a more optimal placement\n",
    "            subgraph = nx.ego_graph(line_G, S[i], 1)\n",
    "            nbrs = list(set(subgraph.nodes()).intersection(set(C)).difference(set(S)))\n",
    "            candidates = random.sample(nbrs, min(10, len(nbrs)))\n",
    "            \n",
    "            for v in candidates:\n",
    "                S_prime = S[:i] + [v] + S[i+1:]\n",
    "                swap = np.where(np.array(T) == v)[0][0]\n",
    "                T_prime = T[:swap] + [S[i]] + T[swap+1:]\n",
    "                \n",
    "                P_TT_prime = P[np.ix_(T_prime, T_prime)]\n",
    "                P_TS_prime = P[np.ix_(T_prime, S_prime)]\n",
    "                x_S_prime = x[np.ix_(S_prime)]\n",
    "                \n",
    "                U = np.zeros((m-k, 2))\n",
    "                V = np.zeros((2, m-k))\n",
    "                for j in range(m-k):\n",
    "                    if j == swap:\n",
    "                        U[j][0] = 1\n",
    "                        V[0][j] = 1\n",
    "                    else:\n",
    "                        U[j][1] = P_TT[j][swap] - P_TT_prime[j][swap]\n",
    "                        V[1][j] = P_TT[swap][j] - P_TT_prime[swap][j]\n",
    "                        \n",
    "                perm = np.array([[0, 1],\n",
    "                                [1, 0]])\n",
    "                \n",
    "#                 if not np.allclose(P_TT_prime, P_TT - U @ perm @ V):\n",
    "#                     print(\"Rank 2 update invalid\")\n",
    "#                     print(P_TT, \"\\n\", P_TT_prime)\n",
    "#                     print(T, T_prime, swap)\n",
    "#                     print(P_TT - P_TT_prime)\n",
    "#                     print(U @ perm @ V)\n",
    "#                     return\n",
    "                \n",
    "                x_int = lu_solve((lu, piv), P_TS_prime @ x_S_prime)\n",
    "                Y = scipy.linalg.lu_solve((lu, piv), U)\n",
    "                x_T_prime = x_int - Y @ np.linalg.inv(perm + V @ Y) @ V @ x_int\n",
    "                \n",
    "                # Check correctness\n",
    "#                 if not np.allclose((np.identity(m-k) - P_TT_prime) @ x_T_prime, P_TS_prime @ x_S_prime):\n",
    "#                     print(\"Update error: invalid least squares solution. SSE: \")\n",
    "#                     print(np.linalg.norm((np.identity(m-k) - P_TT_prime) @ x_T_prime - P_TS_prime @ x_S_prime))\n",
    "#                     return\n",
    "                \n",
    "                # If error decreased, keep the swap\n",
    "                new_err = weightedL2(x_T_prime, x[np.ix_(T_prime)], w[np.ix_(T_prime)])\n",
    "                if new_err < current_err:\n",
    "                    # New sensor and target sets\n",
    "                    current_err = new_err\n",
    "                    S = S_prime\n",
    "                    T = T_prime\n",
    "                    P_TT = P_TT_prime\n",
    "                    \n",
    "                    # Recompute LU decomposition\n",
    "                    lu, piv = lu_factor(np.identity(m-k) - P_TT)\n",
    "                        \n",
    "        if debug:\n",
    "            print(\"end of iteration {} improvement {:e}\".format(iteration, old_err - current_err))\n",
    "        iteration += 1\n",
    "    return [reverse[s] for s in S]\n",
    "\n",
    "choose_sensors_lu(G, synthetic_speeds(G), {e: 1 for e in G.edges()}, k=3, debug=True)"
   ]
  },
  {
   "cell_type": "code",
   "execution_count": 475,
   "id": "27871997",
   "metadata": {},
   "outputs": [
    {
     "name": "stdout",
     "output_type": "stream",
     "text": [
      "iteration 0 current error 8.863686e+15\n",
      "end of iteration 0 improvement 6.843756e+15\n",
      "iteration 1 current error 2.019930e+15\n",
      "end of iteration 1 improvement 3.454903e+14\n",
      "iteration 2 current error 1.674440e+15\n",
      "end of iteration 2 improvement 4.276008e+14\n",
      "iteration 3 current error 1.246839e+15\n",
      "end of iteration 3 improvement 0.000000e+00\n"
     ]
    },
    {
     "data": {
      "text/plain": [
       "[(0, 1), (8, 9), (5, 6)]"
      ]
     },
     "execution_count": 475,
     "metadata": {},
     "output_type": "execute_result"
    }
   ],
   "source": [
    "import random\n",
    "\n",
    "random.seed(3)\n",
    "\n",
    "def choose_sensors_lsmr(G, labeled_edges, weights, k=None, debug=False):        \n",
    "    m = G.number_of_edges()\n",
    "    \n",
    "    if k == None:\n",
    "        k = int(m / 10)\n",
    "    \n",
    "    line_G = nx.line_graph(G)\n",
    "    mapping = dict(zip(line_G.nodes(), range(m)))\n",
    "    reverse = dict(zip(range(m), line_G.nodes()))\n",
    "    nx.relabel_nodes(line_G, mapping, copy=False)\n",
    "    x = np.array([labeled_edges[reverse[v]] for v in line_G.nodes()])\n",
    "    w = np.array([weights[reverse[v]] for v in line_G.nodes()])\n",
    "    \n",
    "    # Choose random sensors\n",
    "    C = [mapping[k] for k in labeled_edges]\n",
    "    S = C[:k]\n",
    "    T = sorted(list(set(C) - set(S)))\n",
    "    \n",
    "    # Initial prediction\n",
    "    P = transition_matrix(line_G)\n",
    "    P_TT = P[np.ix_(T, T)]\n",
    "    P_TS = P[np.ix_(T, S)]\n",
    "\n",
    "    x_S = x[np.ix_(S)]\n",
    "    x_T_hat = linalg.lsmr(np.identity(m-k) - P_TT, P_TS @ x_S)[0]\n",
    "    \n",
    "    current_err = weightedL2(x_T_hat, x[np.ix_(T)], w[np.ix_(T)])\n",
    "    old_err = float(\"inf\")\n",
    "    iteration = 0\n",
    "    \n",
    "    while old_err - current_err > 1e-5:\n",
    "        old_err = current_err\n",
    "        \n",
    "        if debug:\n",
    "            print(\"iteration {} current error {:e}\".format(iteration, current_err))\n",
    "        \n",
    "        for i in range(k):\n",
    "            # Move sensor i to a more optimal placement\n",
    "            subgraph = nx.ego_graph(line_G, S[i], 1)\n",
    "            nbrs = list(set(subgraph.nodes()).intersection(set(C)).difference(set(S)))\n",
    "            candidates = random.sample(nbrs, min(10, len(nbrs)))\n",
    "            \n",
    "            for v in candidates:\n",
    "                S_prime = S[:i] + [v] + S[i+1:]\n",
    "                T_prime = T[:swap] + [S[i]] + T[swap+1:]\n",
    "                \n",
    "                P_TT_prime = P[np.ix_(T_prime, T_prime)]\n",
    "                P_TS_prime = P[np.ix_(T_prime, S_prime)]\n",
    "                x_S_prime = x[np.ix_(S_prime)]\n",
    "                \n",
    "                x_T_prime = linalg.lsmr(np.identity(m-k) - P_TT_prime, P_TS_prime @ x_S_prime)[0]\n",
    "                \n",
    "                # Check correctness\n",
    "#                 if not np.allclose((np.identity(m-k) - P_TT_prime) @ x_T_prime, P_TS_prime @ x_S_prime):\n",
    "#                     print(\"Update error: invalid least squares solution. SSE: \")\n",
    "#                     print(np.linalg.norm((np.identity(m-k) - P_TT_prime) @ x_T_prime - P_TS_prime @ x_S_prime))\n",
    "#                     return\n",
    "                \n",
    "                # If error decreased, keep the swap\n",
    "                new_err = weightedL2(x_T_prime, x[np.ix_(T_prime)], w[np.ix_(T_prime)])\n",
    "                if new_err < current_err:\n",
    "                    # New sensor and target sets\n",
    "                    current_err = new_err\n",
    "                    S = S_prime\n",
    "                    T = T_prime\n",
    "                    P_TT = P_TT_prime\n",
    "                    \n",
    "                    # Recompute LU decomposition\n",
    "                    lu, piv = lu_factor(np.identity(m-k) - P_TT)\n",
    "                        \n",
    "        if debug:\n",
    "            print(\"end of iteration {} improvement {:e}\".format(iteration, old_err - current_err))\n",
    "        iteration += 1\n",
    "    return [reverse[s] for s in S]\n",
    "\n",
    "choose_sensors_lsmr(G, synthetic_speeds(G), {e: 1 for e in G.edges()}, k=3, debug=True)"
   ]
  },
  {
   "cell_type": "markdown",
   "id": "ceef4473",
   "metadata": {},
   "source": [
    "## Traffic Networks"
   ]
  },
  {
   "cell_type": "code",
   "execution_count": 439,
   "id": "d120353f",
   "metadata": {},
   "outputs": [],
   "source": [
    "def read_tntp_graph(filename):\n",
    "    edgelist = pd.read_csv(filename, sep=\"\\t\")\n",
    "    G = nx.from_pandas_edgelist(edgelist, source=\"From \", target=\"To \", edge_attr=\"Volume \")\n",
    "    flows = {(u,v) : d[\"Volume \"] for u,v,d in G.edges(data=True)}\n",
    "    speeds = synthetic_speeds(G)\n",
    "    return G, flows, speeds"
   ]
  },
  {
   "cell_type": "code",
   "execution_count": 445,
   "id": "0c69adc8",
   "metadata": {},
   "outputs": [],
   "source": [
    "Berlin = nx.from_pandas_edgelist(pd.read_csv(\"data/Berlin-Tiergarten/berlin-tiergarten_net.tntp\", sep=\"\\t\", skiprows=8), \n",
    "                            source=\"init_node\", target=\"term_node\")\n",
    "EMA = nx.from_pandas_edgelist(pd.read_csv(\"data/Eastern-Massachusetts/EMA_net.tntp\", sep=\"\\t\", skiprows=8), \n",
    "                            source=\"init_node\", target=\"term_node\")\n",
    "LA = nx.from_pandas_edgelist(pd.read_csv(\"out/small.results.csv\"), source=\"edge_from\", target=\"edge_to\")"
   ]
  },
  {
   "cell_type": "code",
   "execution_count": 517,
   "id": "cd35f662",
   "metadata": {},
   "outputs": [
    {
     "name": "stdout",
     "output_type": "stream",
     "text": [
      " "
     ]
    }
   ],
   "source": [
    "speeds = synthetic_speeds(Berlin)\n",
    "weights = {e: 1 for e in Berlin.edges()}\n",
    "%prun -s cumulative choose_sensors_lu(Berlin, speeds, weights, k=20)"
   ]
  },
  {
   "cell_type": "code",
   "execution_count": 515,
   "id": "f9fe6834",
   "metadata": {},
   "outputs": [
    {
     "name": "stdout",
     "output_type": "stream",
     "text": [
      " "
     ]
    }
   ],
   "source": [
    "%prun -s cumulative choose_sensors_lsmr(Berlin, synthetic_speeds(Berlin), {e: 1 for e in Berlin.edges()}, k=20)"
   ]
  },
  {
   "cell_type": "code",
   "execution_count": 484,
   "id": "1313a482",
   "metadata": {},
   "outputs": [],
   "source": [
    "from sklearn.cluster import SpectralClustering\n",
    "\n",
    "def spectral_clustering_speeds(G, k):\n",
    "    '''\n",
    "        Graph should be undirected.\n",
    "        Node ids should be integers starting from 0.\n",
    "    '''\n",
    "    line_graph = nx.line_graph(G.to_undirected(), create_using=nx.Graph())\n",
    "    \n",
    "    A = nx.to_numpy_array(line_graph)\n",
    "    sc = SpectralClustering(n_clusters=k, assign_labels='discretize', affinity='precomputed', random_state=0).fit(A)\n",
    "    membership = sc.labels_\n",
    "    nodes = list(line_graph.nodes())\n",
    "    selected = []\n",
    "    \n",
    "    for i in range(k):\n",
    "        part = np.argwhere(np.array(membership) == i).ravel()\n",
    "\n",
    "        #selecting a random node in the partition\n",
    "        if len(part) > 0:\n",
    "            selected.append(np.random.choice(part))\n",
    "        else:\n",
    "            selected.append(np.random.choice(list(set(range(len(membership))) - set(selected))))\n",
    "                \n",
    "    return [nodes[u] for u in selected]"
   ]
  },
  {
   "cell_type": "code",
   "execution_count": 485,
   "id": "8b81fc93",
   "metadata": {},
   "outputs": [],
   "source": [
    "def flow_weighted_error(flows):\n",
    "    def evaluate(pred, labels):\n",
    "        err = 0\n",
    "        for k, v in labels.items():\n",
    "            err += (flows[k] * (v - pred[k])) ** 2\n",
    "        return err\n",
    "    \n",
    "    return evaluate"
   ]
  },
  {
   "cell_type": "code",
   "execution_count": 498,
   "id": "ebdd6a43",
   "metadata": {},
   "outputs": [],
   "source": [
    "def err(G, sensors, labels, i, error=mse):\n",
    "    preds = speed_prediction(G, {s: labels[s] for s in sensors[:i]})\n",
    "    return error(preds, labels)"
   ]
  },
  {
   "cell_type": "code",
   "execution_count": 487,
   "id": "58338a8f",
   "metadata": {},
   "outputs": [],
   "source": [
    "def cov(x, y, w):\n",
    "    \"\"\"Weighted Covariance\"\"\"\n",
    "    return np.sum(w * (x - np.average(x, weights=w)) * (y - np.average(y, weights=w))) / np.sum(w)\n",
    "\n",
    "def corr(x, y, w):\n",
    "    \"\"\"Weighted Correlation\"\"\"\n",
    "    return cov(x, y, w) / np.sqrt(cov(x, x, w) * cov(y, y, w))\n",
    "\n",
    "def flow_weighted_corr(G, flows):\n",
    "    return lambda preds, labels: corr(dict2vect(G, preds), dict2vect(G, labels), dict2vect(G, flows))"
   ]
  },
  {
   "cell_type": "code",
   "execution_count": 510,
   "id": "0e6c02d0",
   "metadata": {},
   "outputs": [],
   "source": [
    "def get_speed_results(G, flows, speeds, ratio, samples=50, debug=False):\n",
    "    k = int(G.number_of_edges() * ratio)\n",
    "    fwe = flow_weighted_error(flows)\n",
    "    fwcorr = flow_weighted_corr(G, flows)\n",
    "    \n",
    "    random_sensors = choose_sensors_random(G, k)\n",
    "    random_corr, greedy_corr, cluster_corr = {0: 0}, {0: 0}, {0: 0}\n",
    "        \n",
    "    for j in tqdm(range(1, samples + 1)):\n",
    "        i = int(k * j / samples)\n",
    "        \n",
    "        cluster_sensors = spectral_clustering_speeds(G, i)\n",
    "        greedy_sensors = choose_sensors_lu(G, speeds, weights=flows, k=i, debug=debug)\n",
    "        \n",
    "        random_corr[i / G.number_of_edges()] = max(err(G, random_sensors, speeds, i, error=fwcorr), 0)\n",
    "        greedy_corr[i / G.number_of_edges()] = max(err(G, greedy_sensors, speeds, i, error=fwcorr), 0)\n",
    "        cluster_corr[i / G.number_of_edges()] = max(err(G, cluster_sensors, speeds, i, error=fwcorr), 0)\n",
    "        \n",
    "    return {\n",
    "        \"random\": random_corr,\n",
    "        \"greedy\": greedy_corr,\n",
    "        \"spectral\": cluster_corr\n",
    "    }"
   ]
  },
  {
   "cell_type": "code",
   "execution_count": 511,
   "id": "255d1a1f",
   "metadata": {},
   "outputs": [],
   "source": [
    "sensors = {}"
   ]
  },
  {
   "cell_type": "code",
   "execution_count": 514,
   "id": "13a0a2de",
   "metadata": {},
   "outputs": [
    {
     "name": "stdout",
     "output_type": "stream",
     "text": [
      " "
     ]
    }
   ],
   "source": [
    "%prun -s cumulative choose_sensors_lu(*read_tntp_graph(\"data/Anaheim/Anaheim_flow.tntp\"), k=300)"
   ]
  },
  {
   "cell_type": "code",
   "execution_count": 512,
   "id": "d8396fdb",
   "metadata": {},
   "outputs": [
    {
     "data": {
      "application/vnd.jupyter.widget-view+json": {
       "model_id": "56b0bb0e2c27417a806ca7a9ded6e748",
       "version_major": 2,
       "version_minor": 0
      },
      "text/plain": [
       "  0%|          | 0/50 [00:00<?, ?it/s]"
      ]
     },
     "metadata": {},
     "output_type": "display_data"
    },
    {
     "ename": "KeyboardInterrupt",
     "evalue": "",
     "output_type": "error",
     "traceback": [
      "\u001b[0;31m---------------------------------------------------------------------------\u001b[0m",
      "\u001b[0;31mKeyboardInterrupt\u001b[0m                         Traceback (most recent call last)",
      "Input \u001b[0;32mIn [512]\u001b[0m, in \u001b[0;36m<cell line: 1>\u001b[0;34m()\u001b[0m\n\u001b[0;32m----> 1\u001b[0m sensors[\u001b[38;5;124m\"\u001b[39m\u001b[38;5;124mAnaheim\u001b[39m\u001b[38;5;124m\"\u001b[39m] \u001b[38;5;241m=\u001b[39m \u001b[43mget_speed_results\u001b[49m\u001b[43m(\u001b[49m\u001b[38;5;241;43m*\u001b[39;49m\u001b[43mread_tntp_graph\u001b[49m\u001b[43m(\u001b[49m\u001b[38;5;124;43m\"\u001b[39;49m\u001b[38;5;124;43mdata/Anaheim/Anaheim_flow.tntp\u001b[39;49m\u001b[38;5;124;43m\"\u001b[39;49m\u001b[43m)\u001b[49m\u001b[43m,\u001b[49m\u001b[43m \u001b[49m\u001b[38;5;241;43m1\u001b[39;49m\u001b[43m)\u001b[49m\n",
      "Input \u001b[0;32mIn [510]\u001b[0m, in \u001b[0;36mget_speed_results\u001b[0;34m(G, flows, speeds, ratio, samples, debug)\u001b[0m\n\u001b[1;32m     10\u001b[0m i \u001b[38;5;241m=\u001b[39m \u001b[38;5;28mint\u001b[39m(k \u001b[38;5;241m*\u001b[39m j \u001b[38;5;241m/\u001b[39m samples)\n\u001b[1;32m     12\u001b[0m cluster_sensors \u001b[38;5;241m=\u001b[39m spectral_clustering_speeds(G, i)\n\u001b[0;32m---> 13\u001b[0m greedy_sensors \u001b[38;5;241m=\u001b[39m \u001b[43mchoose_sensors_lu\u001b[49m\u001b[43m(\u001b[49m\u001b[43mG\u001b[49m\u001b[43m,\u001b[49m\u001b[43m \u001b[49m\u001b[43mspeeds\u001b[49m\u001b[43m,\u001b[49m\u001b[43m \u001b[49m\u001b[43mweights\u001b[49m\u001b[38;5;241;43m=\u001b[39;49m\u001b[43mflows\u001b[49m\u001b[43m,\u001b[49m\u001b[43m \u001b[49m\u001b[43mk\u001b[49m\u001b[38;5;241;43m=\u001b[39;49m\u001b[43mi\u001b[49m\u001b[43m,\u001b[49m\u001b[43m \u001b[49m\u001b[43mdebug\u001b[49m\u001b[38;5;241;43m=\u001b[39;49m\u001b[43mdebug\u001b[49m\u001b[43m)\u001b[49m\n\u001b[1;32m     15\u001b[0m random_corr[i \u001b[38;5;241m/\u001b[39m G\u001b[38;5;241m.\u001b[39mnumber_of_edges()] \u001b[38;5;241m=\u001b[39m \u001b[38;5;28mmax\u001b[39m(err(G, random_sensors, speeds, i, error\u001b[38;5;241m=\u001b[39mfwcorr), \u001b[38;5;241m0\u001b[39m)\n\u001b[1;32m     16\u001b[0m greedy_corr[i \u001b[38;5;241m/\u001b[39m G\u001b[38;5;241m.\u001b[39mnumber_of_edges()] \u001b[38;5;241m=\u001b[39m \u001b[38;5;28mmax\u001b[39m(err(G, greedy_sensors, speeds, i, error\u001b[38;5;241m=\u001b[39mfwcorr), \u001b[38;5;241m0\u001b[39m)\n",
      "Input \u001b[0;32mIn [481]\u001b[0m, in \u001b[0;36mchoose_sensors_lu\u001b[0;34m(G, labeled_edges, weights, k, debug)\u001b[0m\n\u001b[1;32m     72\u001b[0m                 perm \u001b[38;5;241m=\u001b[39m np\u001b[38;5;241m.\u001b[39marray([[\u001b[38;5;241m0\u001b[39m, \u001b[38;5;241m1\u001b[39m],\n\u001b[1;32m     73\u001b[0m                                 [\u001b[38;5;241m1\u001b[39m, \u001b[38;5;241m0\u001b[39m]])\n\u001b[1;32m     75\u001b[0m \u001b[38;5;66;03m#                 if not np.allclose(P_TT_prime, P_TT - U @ perm @ V):\u001b[39;00m\n\u001b[1;32m     76\u001b[0m \u001b[38;5;66;03m#                     print(\"Rank 2 update invalid\")\u001b[39;00m\n\u001b[1;32m     77\u001b[0m \u001b[38;5;66;03m#                     print(P_TT, \"\\n\", P_TT_prime)\u001b[39;00m\n\u001b[0;32m   (...)\u001b[0m\n\u001b[1;32m     80\u001b[0m \u001b[38;5;66;03m#                     print(U @ perm @ V)\u001b[39;00m\n\u001b[1;32m     81\u001b[0m \u001b[38;5;66;03m#                     return\u001b[39;00m\n\u001b[0;32m---> 83\u001b[0m                 x_int \u001b[38;5;241m=\u001b[39m \u001b[43mlu_solve\u001b[49m\u001b[43m(\u001b[49m\u001b[43m(\u001b[49m\u001b[43mlu\u001b[49m\u001b[43m,\u001b[49m\u001b[43m \u001b[49m\u001b[43mpiv\u001b[49m\u001b[43m)\u001b[49m\u001b[43m,\u001b[49m\u001b[43m \u001b[49m\u001b[43mP_TS_prime\u001b[49m\u001b[43m \u001b[49m\u001b[38;5;241;43m@\u001b[39;49m\u001b[43m \u001b[49m\u001b[43mx_S_prime\u001b[49m\u001b[43m)\u001b[49m\n\u001b[1;32m     84\u001b[0m                 Y \u001b[38;5;241m=\u001b[39m scipy\u001b[38;5;241m.\u001b[39mlinalg\u001b[38;5;241m.\u001b[39mlu_solve((lu, piv), U)\n\u001b[1;32m     85\u001b[0m                 x_T_prime \u001b[38;5;241m=\u001b[39m x_int \u001b[38;5;241m-\u001b[39m Y \u001b[38;5;241m@\u001b[39m np\u001b[38;5;241m.\u001b[39mlinalg\u001b[38;5;241m.\u001b[39minv(perm \u001b[38;5;241m+\u001b[39m V \u001b[38;5;241m@\u001b[39m Y) \u001b[38;5;241m@\u001b[39m V \u001b[38;5;241m@\u001b[39m x_int\n",
      "File \u001b[0;32m~/.conda/envs/sensor/lib/python3.10/site-packages/scipy/linalg/_decomp_lu.py:87\u001b[0m, in \u001b[0;36mlu_solve\u001b[0;34m(lu_and_piv, b, trans, overwrite_b, check_finite)\u001b[0m\n\u001b[1;32m     82\u001b[0m         warn(\u001b[38;5;124m\"\u001b[39m\u001b[38;5;124mDiagonal number \u001b[39m\u001b[38;5;132;01m%d\u001b[39;00m\u001b[38;5;124m is exactly zero. Singular matrix.\u001b[39m\u001b[38;5;124m\"\u001b[39m \u001b[38;5;241m%\u001b[39m info,\n\u001b[1;32m     83\u001b[0m              LinAlgWarning, stacklevel\u001b[38;5;241m=\u001b[39m\u001b[38;5;241m2\u001b[39m)\n\u001b[1;32m     84\u001b[0m     \u001b[38;5;28;01mreturn\u001b[39;00m lu, piv\n\u001b[0;32m---> 87\u001b[0m \u001b[38;5;28;01mdef\u001b[39;00m \u001b[38;5;21mlu_solve\u001b[39m(lu_and_piv, b, trans\u001b[38;5;241m=\u001b[39m\u001b[38;5;241m0\u001b[39m, overwrite_b\u001b[38;5;241m=\u001b[39m\u001b[38;5;28;01mFalse\u001b[39;00m, check_finite\u001b[38;5;241m=\u001b[39m\u001b[38;5;28;01mTrue\u001b[39;00m):\n\u001b[1;32m     88\u001b[0m     \u001b[38;5;124;03m\"\"\"Solve an equation system, a x = b, given the LU factorization of a\u001b[39;00m\n\u001b[1;32m     89\u001b[0m \n\u001b[1;32m     90\u001b[0m \u001b[38;5;124;03m    Parameters\u001b[39;00m\n\u001b[0;32m   (...)\u001b[0m\n\u001b[1;32m    131\u001b[0m \n\u001b[1;32m    132\u001b[0m \u001b[38;5;124;03m    \"\"\"\u001b[39;00m\n\u001b[1;32m    133\u001b[0m     (lu, piv) \u001b[38;5;241m=\u001b[39m lu_and_piv\n",
      "\u001b[0;31mKeyboardInterrupt\u001b[0m: "
     ]
    }
   ],
   "source": [
    "sensors[\"Anaheim\"] = get_speed_results(*read_tntp_graph(\"data/Anaheim/Anaheim_flow.tntp\"), 1)"
   ]
  },
  {
   "cell_type": "code",
   "execution_count": 499,
   "id": "c6626579",
   "metadata": {},
   "outputs": [],
   "source": [
    "from sensors import choose_sensors_random\n",
    "\n",
    "def plot_speed_results(results, ax, title=\"\", xlabel=False, ylabel=False, legend=False):\n",
    "    ax.plot(results[\"greedy\"].keys(), results[\"greedy\"].values(), \"b\", label=\"Greedy\",\n",
    "           linewidth=3)\n",
    "    ax.plot(results[\"random\"].keys(), results[\"random\"].values(), \"black\", label=\"Random\",\n",
    "           linewidth=3, linestyle=\"dashed\")\n",
    "    ax.plot(results[\"spectral\"].keys(), results[\"spectral\"].values(), \"darkgreen\", label=\"Spectral Clustering\",\n",
    "           linewidth=3)\n",
    "    \n",
    "    if legend:\n",
    "        ax.legend(fontsize=14)\n",
    "    ax.set_xlim(0, 1)\n",
    "    ax.set_ylim(0, 1)\n",
    "    if xlabel:\n",
    "        ax.set_xlabel(\"Number of Sensors (%)\", fontsize=20)\n",
    "    else:\n",
    "        ax.set_xticklabels([])\n",
    "    if ylabel:\n",
    "        ax.set_ylabel(\"Correlation\", fontsize=20)\n",
    "    else:\n",
    "        ax.set_yticklabels([])\n",
    "    ax.grid(\"on\")\n",
    "    ax.set_title(title)\n",
    "    \n",
    "    return overall_sensors"
   ]
  },
  {
   "cell_type": "code",
   "execution_count": 501,
   "id": "3975fb30",
   "metadata": {},
   "outputs": [
    {
     "data": {
      "application/vnd.jupyter.widget-view+json": {
       "model_id": "2343a6f6f43143039e10e65f4d4e91b4",
       "version_major": 2,
       "version_minor": 0
      },
      "text/plain": [
       "  0%|          | 0/50 [00:00<?, ?it/s]"
      ]
     },
     "metadata": {},
     "output_type": "display_data"
    },
    {
     "ename": "KeyboardInterrupt",
     "evalue": "",
     "output_type": "error",
     "traceback": [
      "\u001b[0;31m---------------------------------------------------------------------------\u001b[0m",
      "\u001b[0;31mKeyboardInterrupt\u001b[0m                         Traceback (most recent call last)",
      "Input \u001b[0;32mIn [501]\u001b[0m, in \u001b[0;36m<cell line: 6>\u001b[0;34m()\u001b[0m\n\u001b[1;32m      3\u001b[0m matplotlib\u001b[38;5;241m.\u001b[39mrcParams\u001b[38;5;241m.\u001b[39mupdate({\u001b[38;5;124m'\u001b[39m\u001b[38;5;124mfont.size\u001b[39m\u001b[38;5;124m'\u001b[39m: \u001b[38;5;241m16\u001b[39m})\n\u001b[1;32m      4\u001b[0m fig, ax \u001b[38;5;241m=\u001b[39m plt\u001b[38;5;241m.\u001b[39msubplots(\u001b[38;5;241m2\u001b[39m, \u001b[38;5;241m2\u001b[39m, figsize\u001b[38;5;241m=\u001b[39m(\u001b[38;5;241m10\u001b[39m, \u001b[38;5;241m10\u001b[39m))\n\u001b[0;32m----> 6\u001b[0m sensors[\u001b[38;5;124m\"\u001b[39m\u001b[38;5;124mAnaheim\u001b[39m\u001b[38;5;124m\"\u001b[39m] \u001b[38;5;241m=\u001b[39m \u001b[43mplot_speed_results\u001b[49m\u001b[43m(\u001b[49m\u001b[38;5;241;43m*\u001b[39;49m\u001b[43mread_tntp_graph\u001b[49m\u001b[43m(\u001b[49m\u001b[38;5;124;43m\"\u001b[39;49m\u001b[38;5;124;43mdata/Anaheim/Anaheim_flow.tntp\u001b[39;49m\u001b[38;5;124;43m\"\u001b[39;49m\u001b[43m)\u001b[49m\u001b[43m,\u001b[49m\u001b[43m \u001b[49m\u001b[38;5;241;43m1\u001b[39;49m\u001b[43m,\u001b[49m\u001b[43m \u001b[49m\u001b[43max\u001b[49m\u001b[43m[\u001b[49m\u001b[38;5;241;43m0\u001b[39;49m\u001b[43m]\u001b[49m\u001b[43m[\u001b[49m\u001b[38;5;241;43m0\u001b[39;49m\u001b[43m]\u001b[49m\u001b[43m,\u001b[49m\u001b[43m \u001b[49m\u001b[43msamples\u001b[49m\u001b[38;5;241;43m=\u001b[39;49m\u001b[38;5;241;43m50\u001b[39;49m\u001b[43m,\u001b[49m\u001b[43m \u001b[49m\n\u001b[1;32m      7\u001b[0m \u001b[43m                                        \u001b[49m\u001b[43mylabel\u001b[49m\u001b[38;5;241;43m=\u001b[39;49m\u001b[38;5;28;43;01mTrue\u001b[39;49;00m\u001b[43m,\u001b[49m\u001b[43m \u001b[49m\u001b[43mlegend\u001b[49m\u001b[38;5;241;43m=\u001b[39;49m\u001b[38;5;28;43;01mTrue\u001b[39;49;00m\u001b[43m,\u001b[49m\u001b[43m \u001b[49m\u001b[43mtitle\u001b[49m\u001b[38;5;241;43m=\u001b[39;49m\u001b[38;5;124;43m\"\u001b[39;49m\u001b[38;5;124;43mAnaheim\u001b[39;49m\u001b[38;5;124;43m\"\u001b[39;49m\u001b[43m,\u001b[49m\u001b[43m \u001b[49m\u001b[43moverall_sensors\u001b[49m\u001b[38;5;241;43m=\u001b[39;49m\u001b[43msensors\u001b[49m\u001b[43m[\u001b[49m\u001b[38;5;124;43m\"\u001b[39;49m\u001b[38;5;124;43mAnaheim\u001b[39;49m\u001b[38;5;124;43m\"\u001b[39;49m\u001b[43m]\u001b[49m\u001b[43m)\u001b[49m\n\u001b[1;32m      8\u001b[0m sensors[\u001b[38;5;124m\"\u001b[39m\u001b[38;5;124mBerlin\u001b[39m\u001b[38;5;124m\"\u001b[39m] \u001b[38;5;241m=\u001b[39m plot_speed_results(Berlin, {e: \u001b[38;5;241m1\u001b[39m \u001b[38;5;28;01mfor\u001b[39;00m e \u001b[38;5;129;01min\u001b[39;00m Berlin\u001b[38;5;241m.\u001b[39medges()}, synthetic_speeds(Berlin), \u001b[38;5;241m1\u001b[39m, ax[\u001b[38;5;241m0\u001b[39m][\u001b[38;5;241m1\u001b[39m], samples\u001b[38;5;241m=\u001b[39m\u001b[38;5;241m50\u001b[39m, \n\u001b[1;32m      9\u001b[0m                                         title\u001b[38;5;241m=\u001b[39m\u001b[38;5;124m\"\u001b[39m\u001b[38;5;124mBerlin\u001b[39m\u001b[38;5;124m\"\u001b[39m, overall_sensors \u001b[38;5;241m=\u001b[39m sensors[\u001b[38;5;124m\"\u001b[39m\u001b[38;5;124mBerlin\u001b[39m\u001b[38;5;124m\"\u001b[39m])\n\u001b[1;32m     10\u001b[0m sensors[\u001b[38;5;124m\"\u001b[39m\u001b[38;5;124mEMA\u001b[39m\u001b[38;5;124m\"\u001b[39m] \u001b[38;5;241m=\u001b[39m plot_speed_results(EMA, {e: \u001b[38;5;241m1\u001b[39m \u001b[38;5;28;01mfor\u001b[39;00m e \u001b[38;5;129;01min\u001b[39;00m EMA\u001b[38;5;241m.\u001b[39medges()}, synthetic_speeds(EMA), \u001b[38;5;241m1\u001b[39m, ax[\u001b[38;5;241m1\u001b[39m][\u001b[38;5;241m0\u001b[39m], samples\u001b[38;5;241m=\u001b[39m\u001b[38;5;241m50\u001b[39m, \n\u001b[1;32m     11\u001b[0m                                         xlabel\u001b[38;5;241m=\u001b[39m\u001b[38;5;28;01mTrue\u001b[39;00m, ylabel\u001b[38;5;241m=\u001b[39m\u001b[38;5;28;01mTrue\u001b[39;00m, title\u001b[38;5;241m=\u001b[39m\u001b[38;5;124m\"\u001b[39m\u001b[38;5;124mMassachusetts\u001b[39m\u001b[38;5;124m\"\u001b[39m, overall_sensors\u001b[38;5;241m=\u001b[39msensors[\u001b[38;5;124m\"\u001b[39m\u001b[38;5;124mEMA\u001b[39m\u001b[38;5;124m\"\u001b[39m])\n",
      "Input \u001b[0;32mIn [499]\u001b[0m, in \u001b[0;36mplot_speed_results\u001b[0;34m(G, flows, speeds, ratio, ax, title, xlabel, ylabel, legend, samples, overall_sensors, debug)\u001b[0m\n\u001b[1;32m     17\u001b[0m cluster_sensors \u001b[38;5;241m=\u001b[39m spectral_clustering_speeds(G, i)\n\u001b[1;32m     18\u001b[0m \u001b[38;5;28;01mif\u001b[39;00m i \u001b[38;5;129;01mnot\u001b[39;00m \u001b[38;5;129;01min\u001b[39;00m overall_sensors\u001b[38;5;241m.\u001b[39mkeys():\n\u001b[0;32m---> 19\u001b[0m     greedy_sensors \u001b[38;5;241m=\u001b[39m \u001b[43mchoose_sensors_lu\u001b[49m\u001b[43m(\u001b[49m\u001b[43mG\u001b[49m\u001b[43m,\u001b[49m\u001b[43m \u001b[49m\u001b[43mspeeds\u001b[49m\u001b[43m,\u001b[49m\u001b[43m \u001b[49m\u001b[43mweights\u001b[49m\u001b[38;5;241;43m=\u001b[39;49m\u001b[43mflows\u001b[49m\u001b[43m,\u001b[49m\u001b[43m \u001b[49m\u001b[43mk\u001b[49m\u001b[38;5;241;43m=\u001b[39;49m\u001b[43mi\u001b[49m\u001b[43m,\u001b[49m\u001b[43m \u001b[49m\u001b[43mdebug\u001b[49m\u001b[38;5;241;43m=\u001b[39;49m\u001b[43mdebug\u001b[49m\u001b[43m)\u001b[49m\n\u001b[1;32m     20\u001b[0m     overall_sensors[i] \u001b[38;5;241m=\u001b[39m greedy_sensors\n\u001b[1;32m     21\u001b[0m \u001b[38;5;28;01melse\u001b[39;00m:\n",
      "Input \u001b[0;32mIn [481]\u001b[0m, in \u001b[0;36mchoose_sensors_lu\u001b[0;34m(G, labeled_edges, weights, k, debug)\u001b[0m\n\u001b[1;32m     68\u001b[0m                     \u001b[38;5;28;01melse\u001b[39;00m:\n\u001b[1;32m     69\u001b[0m                         U[j][\u001b[38;5;241m1\u001b[39m] \u001b[38;5;241m=\u001b[39m P_TT[j][swap] \u001b[38;5;241m-\u001b[39m P_TT_prime[j][swap]\n\u001b[0;32m---> 70\u001b[0m                         V[\u001b[38;5;241m1\u001b[39m][j] \u001b[38;5;241m=\u001b[39m P_TT[swap][j] \u001b[38;5;241m-\u001b[39m P_TT_prime[swap][j]\n\u001b[1;32m     72\u001b[0m                 perm \u001b[38;5;241m=\u001b[39m np\u001b[38;5;241m.\u001b[39marray([[\u001b[38;5;241m0\u001b[39m, \u001b[38;5;241m1\u001b[39m],\n\u001b[1;32m     73\u001b[0m                                 [\u001b[38;5;241m1\u001b[39m, \u001b[38;5;241m0\u001b[39m]])\n\u001b[1;32m     75\u001b[0m \u001b[38;5;66;03m#                 if not np.allclose(P_TT_prime, P_TT - U @ perm @ V):\u001b[39;00m\n\u001b[1;32m     76\u001b[0m \u001b[38;5;66;03m#                     print(\"Rank 2 update invalid\")\u001b[39;00m\n\u001b[1;32m     77\u001b[0m \u001b[38;5;66;03m#                     print(P_TT, \"\\n\", P_TT_prime)\u001b[39;00m\n\u001b[0;32m   (...)\u001b[0m\n\u001b[1;32m     80\u001b[0m \u001b[38;5;66;03m#                     print(U @ perm @ V)\u001b[39;00m\n\u001b[1;32m     81\u001b[0m \u001b[38;5;66;03m#                     return\u001b[39;00m\n",
      "\u001b[0;31mKeyboardInterrupt\u001b[0m: "
     ]
    },
    {
     "data": {
      "image/png": "[encoded data removed]",
      "text/plain": [
       "<Figure size 720x720 with 4 Axes>"
      ]
     },
     "metadata": {
      "needs_background": "light"
     },
     "output_type": "display_data"
    }
   ],
   "source": [
    "import matplotlib\n",
    "\n",
    "matplotlib.rcParams.update({'font.size': 16})\n",
    "fig, ax = plt.subplots(2, 2, figsize=(10, 10))\n",
    "\n",
    "sensors[\"Anaheim\"] = plot_speed_results(ax[0][0], title=\"Anaheim\", ylabel=True, legend=True)\n",
    "\n",
    "plt.savefig(\"results/synthetic_speeds.pdf\")"
   ]
  },
  {
   "cell_type": "code",
   "execution_count": null,
   "id": "8d92ea97",
   "metadata": {},
   "outputs": [],
   "source": [
    "import json\n",
    "\n",
    "with open(\"data/Anaheim/anaheim_nodes.geojson\") as f:\n",
    "    features = json.loads(f.read())[\"features\"]\n",
    "\n",
    "coords = {}\n",
    "for feat in features:\n",
    "    coords[feat[\"properties\"][\"id\"]] = feat[\"geometry\"][\"coordinates\"]\n",
    "\n",
    "plt.figure(figsize=[3 * x for x in [6.4, 4.8]])\n",
    "nx.draw(G, coords, node_size=2, edge_color = [\"green\" if e in greedy_sensors[:50] else \"black\" for e in G.edges()],\n",
    "       width = [5 if e in greedy_sensors[:50] else 1 for e in G.edges()])"
   ]
  },
  {
   "cell_type": "code",
   "execution_count": null,
   "id": "f566cfc9",
   "metadata": {},
   "outputs": [],
   "source": [
    "plt.figure(figsize=[3 * x for x in [6.4, 4.8]])\n",
    "nx.draw(G, coords, node_size=2, edge_color = [flows[e] for e in G.edges()])"
   ]
  },
  {
   "cell_type": "code",
   "execution_count": null,
   "id": "4363431f",
   "metadata": {},
   "outputs": [],
   "source": [
    "preds = speed_prediction(G, {s: speeds[s] for s in greedy_sensors[:50]})\n",
    "fwcorr(preds, speeds)"
   ]
  }
 ],
 "metadata": {
  "kernelspec": {
   "display_name": "Python 3 (ipykernel)",
   "language": "python",
   "name": "python3"
  },
  "language_info": {
   "codemirror_mode": {
    "name": "ipython",
    "version": 3
   },
   "file_extension": ".py",
   "mimetype": "text/x-python",
   "name": "python",
   "nbconvert_exporter": "python",
   "pygments_lexer": "ipython3",
   "version": "3.10.8"
  }
 },
 "nbformat": 4,
 "nbformat_minor": 5
}
