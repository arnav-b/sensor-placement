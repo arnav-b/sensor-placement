{
 "cells": [
  {
   "cell_type": "code",
   "execution_count": 29,
   "id": "c85c033e",
   "metadata": {},
   "outputs": [
    {
     "data": {
      "text/html": [
       "<div>\n",
       "<style scoped>\n",
       "    .dataframe tbody tr th:only-of-type {\n",
       "        vertical-align: middle;\n",
       "    }\n",
       "\n",
       "    .dataframe tbody tr th {\n",
       "        vertical-align: top;\n",
       "    }\n",
       "\n",
       "    .dataframe thead th {\n",
       "        text-align: right;\n",
       "    }\n",
       "</style>\n",
       "<table border=\"1\" class=\"dataframe\">\n",
       "  <thead>\n",
       "    <tr style=\"text-align: right;\">\n",
       "      <th></th>\n",
       "      <th>timestep_time</th>\n",
       "      <th>edge_id</th>\n",
       "      <th>lane_id</th>\n",
       "      <th>vehicle_id</th>\n",
       "      <th>vehicle_pos</th>\n",
       "      <th>vehicle_speed</th>\n",
       "    </tr>\n",
       "  </thead>\n",
       "  <tbody>\n",
       "    <tr>\n",
       "      <th>0</th>\n",
       "      <td>0.0</td>\n",
       "      <td>102</td>\n",
       "      <td>102_0</td>\n",
       "      <td>102_1060.qPKW.0</td>\n",
       "      <td>12.62</td>\n",
       "      <td>24.27</td>\n",
       "    </tr>\n",
       "    <tr>\n",
       "      <th>1</th>\n",
       "      <td>0.0</td>\n",
       "      <td>11</td>\n",
       "      <td>11_0</td>\n",
       "      <td>11_377.qPKW.0</td>\n",
       "      <td>21.28</td>\n",
       "      <td>29.06</td>\n",
       "    </tr>\n",
       "    <tr>\n",
       "      <th>2</th>\n",
       "      <td>0.0</td>\n",
       "      <td>11</td>\n",
       "      <td>11_0</td>\n",
       "      <td>11_879.qPKW.0</td>\n",
       "      <td>57.94</td>\n",
       "      <td>29.06</td>\n",
       "    </tr>\n",
       "    <tr>\n",
       "      <th>3</th>\n",
       "      <td>0.0</td>\n",
       "      <td>1148</td>\n",
       "      <td>1148_0</td>\n",
       "      <td>1148_857.qPKW.0</td>\n",
       "      <td>12.79</td>\n",
       "      <td>29.06</td>\n",
       "    </tr>\n",
       "    <tr>\n",
       "      <th>4</th>\n",
       "      <td>0.0</td>\n",
       "      <td>188</td>\n",
       "      <td>188_0</td>\n",
       "      <td>188_920.qPKW.0</td>\n",
       "      <td>18.87</td>\n",
       "      <td>29.06</td>\n",
       "    </tr>\n",
       "  </tbody>\n",
       "</table>\n",
       "</div>"
      ],
      "text/plain": [
       "   timestep_time edge_id lane_id       vehicle_id  vehicle_pos  vehicle_speed\n",
       "0            0.0     102   102_0  102_1060.qPKW.0        12.62          24.27\n",
       "1            0.0      11    11_0    11_377.qPKW.0        21.28          29.06\n",
       "2            0.0      11    11_0    11_879.qPKW.0        57.94          29.06\n",
       "3            0.0    1148  1148_0  1148_857.qPKW.0        12.79          29.06\n",
       "4            0.0     188   188_0   188_920.qPKW.0        18.87          29.06"
      ]
     },
     "execution_count": 29,
     "metadata": {},
     "output_type": "execute_result"
    }
   ],
   "source": [
    "import pandas as pd\n",
    "\n",
    "data = pd.read_csv(\"out/small.dump.csv\", sep=\";\")\n",
    "data.head()"
   ]
  },
  {
   "cell_type": "code",
   "execution_count": 30,
   "id": "a828aa03",
   "metadata": {},
   "outputs": [],
   "source": [
    "data = data.drop(data[data[\"edge_id\"].isna()].index.values)"
   ]
  },
  {
   "cell_type": "code",
   "execution_count": 31,
   "id": "9648348a",
   "metadata": {},
   "outputs": [],
   "source": [
    "data = data.drop(data[data.edge_id.str.startswith(':')].index.values)\n",
    "data[\"vehicle_speed\"] = data[\"vehicle_speed\"].fillna(0)\n",
    "data[\"vehicle_id\"] = data[\"vehicle_id\"].fillna(0).apply(lambda x: 1 if x != 0 else 0)"
   ]
  },
  {
   "cell_type": "code",
   "execution_count": 32,
   "id": "485a553c",
   "metadata": {},
   "outputs": [
    {
     "data": {
      "text/html": [
       "<div>\n",
       "<style scoped>\n",
       "    .dataframe tbody tr th:only-of-type {\n",
       "        vertical-align: middle;\n",
       "    }\n",
       "\n",
       "    .dataframe tbody tr th {\n",
       "        vertical-align: top;\n",
       "    }\n",
       "\n",
       "    .dataframe thead th {\n",
       "        text-align: right;\n",
       "    }\n",
       "</style>\n",
       "<table border=\"1\" class=\"dataframe\">\n",
       "  <thead>\n",
       "    <tr style=\"text-align: right;\">\n",
       "      <th></th>\n",
       "      <th>timestep_time</th>\n",
       "      <th>edge_id</th>\n",
       "      <th>lane_id</th>\n",
       "      <th>vehicle_id</th>\n",
       "      <th>vehicle_pos</th>\n",
       "      <th>vehicle_speed</th>\n",
       "    </tr>\n",
       "  </thead>\n",
       "  <tbody>\n",
       "    <tr>\n",
       "      <th>0</th>\n",
       "      <td>0.0</td>\n",
       "      <td>102</td>\n",
       "      <td>102_0</td>\n",
       "      <td>1</td>\n",
       "      <td>12.62</td>\n",
       "      <td>24.27</td>\n",
       "    </tr>\n",
       "    <tr>\n",
       "      <th>1</th>\n",
       "      <td>0.0</td>\n",
       "      <td>11</td>\n",
       "      <td>11_0</td>\n",
       "      <td>1</td>\n",
       "      <td>21.28</td>\n",
       "      <td>29.06</td>\n",
       "    </tr>\n",
       "    <tr>\n",
       "      <th>2</th>\n",
       "      <td>0.0</td>\n",
       "      <td>11</td>\n",
       "      <td>11_0</td>\n",
       "      <td>1</td>\n",
       "      <td>57.94</td>\n",
       "      <td>29.06</td>\n",
       "    </tr>\n",
       "    <tr>\n",
       "      <th>3</th>\n",
       "      <td>0.0</td>\n",
       "      <td>1148</td>\n",
       "      <td>1148_0</td>\n",
       "      <td>1</td>\n",
       "      <td>12.79</td>\n",
       "      <td>29.06</td>\n",
       "    </tr>\n",
       "    <tr>\n",
       "      <th>4</th>\n",
       "      <td>0.0</td>\n",
       "      <td>188</td>\n",
       "      <td>188_0</td>\n",
       "      <td>1</td>\n",
       "      <td>18.87</td>\n",
       "      <td>29.06</td>\n",
       "    </tr>\n",
       "  </tbody>\n",
       "</table>\n",
       "</div>"
      ],
      "text/plain": [
       "   timestep_time edge_id lane_id  vehicle_id  vehicle_pos  vehicle_speed\n",
       "0            0.0     102   102_0           1        12.62          24.27\n",
       "1            0.0      11    11_0           1        21.28          29.06\n",
       "2            0.0      11    11_0           1        57.94          29.06\n",
       "3            0.0    1148  1148_0           1        12.79          29.06\n",
       "4            0.0     188   188_0           1        18.87          29.06"
      ]
     },
     "execution_count": 32,
     "metadata": {},
     "output_type": "execute_result"
    }
   ],
   "source": [
    "data.head()"
   ]
  },
  {
   "cell_type": "code",
   "execution_count": 33,
   "id": "57332dc1",
   "metadata": {},
   "outputs": [
    {
     "data": {
      "text/html": [
       "<div>\n",
       "<style scoped>\n",
       "    .dataframe tbody tr th:only-of-type {\n",
       "        vertical-align: middle;\n",
       "    }\n",
       "\n",
       "    .dataframe tbody tr th {\n",
       "        vertical-align: top;\n",
       "    }\n",
       "\n",
       "    .dataframe thead th {\n",
       "        text-align: right;\n",
       "    }\n",
       "</style>\n",
       "<table border=\"1\" class=\"dataframe\">\n",
       "  <thead>\n",
       "    <tr style=\"text-align: right;\">\n",
       "      <th></th>\n",
       "      <th>edge_id</th>\n",
       "      <th>flow</th>\n",
       "      <th>vehicle_speed</th>\n",
       "    </tr>\n",
       "  </thead>\n",
       "  <tbody>\n",
       "    <tr>\n",
       "      <th>0</th>\n",
       "      <td>1</td>\n",
       "      <td>12453</td>\n",
       "      <td>22.324466</td>\n",
       "    </tr>\n",
       "    <tr>\n",
       "      <th>1</th>\n",
       "      <td>10</td>\n",
       "      <td>1073</td>\n",
       "      <td>28.414026</td>\n",
       "    </tr>\n",
       "    <tr>\n",
       "      <th>2</th>\n",
       "      <td>100</td>\n",
       "      <td>3271</td>\n",
       "      <td>28.331626</td>\n",
       "    </tr>\n",
       "    <tr>\n",
       "      <th>3</th>\n",
       "      <td>1000</td>\n",
       "      <td>715</td>\n",
       "      <td>28.420797</td>\n",
       "    </tr>\n",
       "    <tr>\n",
       "      <th>4</th>\n",
       "      <td>1001</td>\n",
       "      <td>1590</td>\n",
       "      <td>28.397321</td>\n",
       "    </tr>\n",
       "  </tbody>\n",
       "</table>\n",
       "</div>"
      ],
      "text/plain": [
       "   edge_id   flow  vehicle_speed\n",
       "0        1  12453      22.324466\n",
       "1       10   1073      28.414026\n",
       "2      100   3271      28.331626\n",
       "3     1000    715      28.420797\n",
       "4     1001   1590      28.397321"
      ]
     },
     "execution_count": 33,
     "metadata": {},
     "output_type": "execute_result"
    }
   ],
   "source": [
    "overall = data.groupby([\"edge_id\"]).agg({'vehicle_id':'sum', 'vehicle_speed':'mean'}).reset_index()\n",
    "overall = overall.rename(columns={\"vehicle_id\": \"flow\"})\n",
    "overall[\"edge_id\"] = pd.to_numeric(overall[\"edge_id\"])\n",
    "overall.head()"
   ]
  },
  {
   "cell_type": "code",
   "execution_count": 34,
   "id": "8ddb3083",
   "metadata": {},
   "outputs": [
    {
     "data": {
      "text/html": [
       "<div>\n",
       "<style scoped>\n",
       "    .dataframe tbody tr th:only-of-type {\n",
       "        vertical-align: middle;\n",
       "    }\n",
       "\n",
       "    .dataframe tbody tr th {\n",
       "        vertical-align: top;\n",
       "    }\n",
       "\n",
       "    .dataframe thead th {\n",
       "        text-align: right;\n",
       "    }\n",
       "</style>\n",
       "<table border=\"1\" class=\"dataframe\">\n",
       "  <thead>\n",
       "    <tr style=\"text-align: right;\">\n",
       "      <th></th>\n",
       "      <th>edge_id</th>\n",
       "      <th>flow</th>\n",
       "      <th>vehicle_speed</th>\n",
       "    </tr>\n",
       "  </thead>\n",
       "  <tbody>\n",
       "    <tr>\n",
       "      <th>37</th>\n",
       "      <td>1046</td>\n",
       "      <td>44938</td>\n",
       "      <td>6.016375</td>\n",
       "    </tr>\n",
       "  </tbody>\n",
       "</table>\n",
       "</div>"
      ],
      "text/plain": [
       "    edge_id   flow  vehicle_speed\n",
       "37     1046  44938       6.016375"
      ]
     },
     "execution_count": 34,
     "metadata": {},
     "output_type": "execute_result"
    }
   ],
   "source": [
    "overall[overall[\"edge_id\"] == 1046]"
   ]
  },
  {
   "cell_type": "code",
   "execution_count": 35,
   "id": "c9a8f2f4",
   "metadata": {},
   "outputs": [
    {
     "data": {
      "text/plain": [
       "1220"
      ]
     },
     "execution_count": 35,
     "metadata": {},
     "output_type": "execute_result"
    }
   ],
   "source": [
    "covered_edges = overall[\"edge_id\"].unique()\n",
    "\n",
    "for i in range(1220):\n",
    "    if i not in covered_edges:\n",
    "        overall.loc[len(overall.index)] = [i, 0, 0.0]\n",
    "        \n",
    "overall[\"edge_id\"].nunique()"
   ]
  },
  {
   "cell_type": "code",
   "execution_count": 37,
   "id": "e64509a7",
   "metadata": {},
   "outputs": [
    {
     "data": {
      "text/html": [
       "<div>\n",
       "<style scoped>\n",
       "    .dataframe tbody tr th:only-of-type {\n",
       "        vertical-align: middle;\n",
       "    }\n",
       "\n",
       "    .dataframe tbody tr th {\n",
       "        vertical-align: top;\n",
       "    }\n",
       "\n",
       "    .dataframe thead th {\n",
       "        text-align: right;\n",
       "    }\n",
       "</style>\n",
       "<table border=\"1\" class=\"dataframe\">\n",
       "  <thead>\n",
       "    <tr style=\"text-align: right;\">\n",
       "      <th></th>\n",
       "      <th>edge_from</th>\n",
       "      <th>edge_id</th>\n",
       "      <th>edge_length</th>\n",
       "      <th>edge_numLanes</th>\n",
       "      <th>edge_speed</th>\n",
       "      <th>edge_to</th>\n",
       "    </tr>\n",
       "  </thead>\n",
       "  <tbody>\n",
       "    <tr>\n",
       "      <th>0</th>\n",
       "      <td>1614922744</td>\n",
       "      <td>0</td>\n",
       "      <td>23.141939</td>\n",
       "      <td>1</td>\n",
       "      <td>29.0576</td>\n",
       "      <td>1614922747</td>\n",
       "    </tr>\n",
       "    <tr>\n",
       "      <th>1</th>\n",
       "      <td>269459339</td>\n",
       "      <td>1</td>\n",
       "      <td>60.826398</td>\n",
       "      <td>1</td>\n",
       "      <td>29.0576</td>\n",
       "      <td>269459341</td>\n",
       "    </tr>\n",
       "    <tr>\n",
       "      <th>2</th>\n",
       "      <td>1621320618</td>\n",
       "      <td>2</td>\n",
       "      <td>109.464966</td>\n",
       "      <td>1</td>\n",
       "      <td>29.0576</td>\n",
       "      <td>1621320622</td>\n",
       "    </tr>\n",
       "    <tr>\n",
       "      <th>3</th>\n",
       "      <td>269459229</td>\n",
       "      <td>3</td>\n",
       "      <td>160.720645</td>\n",
       "      <td>1</td>\n",
       "      <td>29.0576</td>\n",
       "      <td>269459230</td>\n",
       "    </tr>\n",
       "    <tr>\n",
       "      <th>4</th>\n",
       "      <td>607954833</td>\n",
       "      <td>4</td>\n",
       "      <td>173.017706</td>\n",
       "      <td>1</td>\n",
       "      <td>29.0576</td>\n",
       "      <td>1613371666</td>\n",
       "    </tr>\n",
       "  </tbody>\n",
       "</table>\n",
       "</div>"
      ],
      "text/plain": [
       "    edge_from  edge_id  edge_length  edge_numLanes  edge_speed     edge_to\n",
       "0  1614922744        0    23.141939              1     29.0576  1614922747\n",
       "1   269459339        1    60.826398              1     29.0576   269459341\n",
       "2  1621320618        2   109.464966              1     29.0576  1621320622\n",
       "3   269459229        3   160.720645              1     29.0576   269459230\n",
       "4   607954833        4   173.017706              1     29.0576  1613371666"
      ]
     },
     "execution_count": 37,
     "metadata": {},
     "output_type": "execute_result"
    }
   ],
   "source": [
    "edgelist = pd.read_csv(\"out/small.edges.csv\", sep=\";\")\n",
    "edgelist.head()"
   ]
  },
  {
   "cell_type": "code",
   "execution_count": 38,
   "id": "fa33bbf7",
   "metadata": {},
   "outputs": [
    {
     "data": {
      "text/html": [
       "<div>\n",
       "<style scoped>\n",
       "    .dataframe tbody tr th:only-of-type {\n",
       "        vertical-align: middle;\n",
       "    }\n",
       "\n",
       "    .dataframe tbody tr th {\n",
       "        vertical-align: top;\n",
       "    }\n",
       "\n",
       "    .dataframe thead th {\n",
       "        text-align: right;\n",
       "    }\n",
       "</style>\n",
       "<table border=\"1\" class=\"dataframe\">\n",
       "  <thead>\n",
       "    <tr style=\"text-align: right;\">\n",
       "      <th></th>\n",
       "      <th>edge_id</th>\n",
       "      <th>edge_from</th>\n",
       "      <th>edge_to</th>\n",
       "      <th>edge_length</th>\n",
       "      <th>edge_numLanes</th>\n",
       "      <th>edge_speed</th>\n",
       "      <th>flow</th>\n",
       "      <th>vehicle_speed</th>\n",
       "    </tr>\n",
       "  </thead>\n",
       "  <tbody>\n",
       "    <tr>\n",
       "      <th>0</th>\n",
       "      <td>0</td>\n",
       "      <td>1614922744</td>\n",
       "      <td>1614922747</td>\n",
       "      <td>23.141939</td>\n",
       "      <td>1</td>\n",
       "      <td>29.0576</td>\n",
       "      <td>0.0</td>\n",
       "      <td>0.000000</td>\n",
       "    </tr>\n",
       "    <tr>\n",
       "      <th>1</th>\n",
       "      <td>1</td>\n",
       "      <td>269459339</td>\n",
       "      <td>269459341</td>\n",
       "      <td>60.826398</td>\n",
       "      <td>1</td>\n",
       "      <td>29.0576</td>\n",
       "      <td>12453.0</td>\n",
       "      <td>22.324466</td>\n",
       "    </tr>\n",
       "    <tr>\n",
       "      <th>2</th>\n",
       "      <td>2</td>\n",
       "      <td>1621320618</td>\n",
       "      <td>1621320622</td>\n",
       "      <td>109.464966</td>\n",
       "      <td>1</td>\n",
       "      <td>29.0576</td>\n",
       "      <td>752.0</td>\n",
       "      <td>28.399561</td>\n",
       "    </tr>\n",
       "    <tr>\n",
       "      <th>3</th>\n",
       "      <td>3</td>\n",
       "      <td>269459229</td>\n",
       "      <td>269459230</td>\n",
       "      <td>160.720645</td>\n",
       "      <td>1</td>\n",
       "      <td>29.0576</td>\n",
       "      <td>12627.0</td>\n",
       "      <td>28.409249</td>\n",
       "    </tr>\n",
       "    <tr>\n",
       "      <th>4</th>\n",
       "      <td>4</td>\n",
       "      <td>607954833</td>\n",
       "      <td>1613371666</td>\n",
       "      <td>173.017706</td>\n",
       "      <td>1</td>\n",
       "      <td>29.0576</td>\n",
       "      <td>430964.0</td>\n",
       "      <td>1.462613</td>\n",
       "    </tr>\n",
       "  </tbody>\n",
       "</table>\n",
       "</div>"
      ],
      "text/plain": [
       "   edge_id   edge_from     edge_to  edge_length  edge_numLanes  edge_speed  \\\n",
       "0        0  1614922744  1614922747    23.141939              1     29.0576   \n",
       "1        1   269459339   269459341    60.826398              1     29.0576   \n",
       "2        2  1621320618  1621320622   109.464966              1     29.0576   \n",
       "3        3   269459229   269459230   160.720645              1     29.0576   \n",
       "4        4   607954833  1613371666   173.017706              1     29.0576   \n",
       "\n",
       "       flow  vehicle_speed  \n",
       "0       0.0       0.000000  \n",
       "1   12453.0      22.324466  \n",
       "2     752.0      28.399561  \n",
       "3   12627.0      28.409249  \n",
       "4  430964.0       1.462613  "
      ]
     },
     "execution_count": 38,
     "metadata": {},
     "output_type": "execute_result"
    }
   ],
   "source": [
    "edgelist = pd.merge(edgelist, overall, on=\"edge_id\")\n",
    "\n",
    "ordered_cols = [\"edge_id\", \"edge_from\", \"edge_to\", \"edge_length\", \"edge_numLanes\", \"edge_speed\", \"flow\", \"vehicle_speed\"]\n",
    "edgelist = edgelist[ordered_cols]\n",
    "\n",
    "edgelist.head()"
   ]
  },
  {
   "cell_type": "code",
   "execution_count": 39,
   "id": "1e00adfb",
   "metadata": {},
   "outputs": [
    {
     "data": {
      "text/plain": [
       "666"
      ]
     },
     "execution_count": 39,
     "metadata": {},
     "output_type": "execute_result"
    }
   ],
   "source": [
    "edgelist[\"flow\"].nunique()"
   ]
  },
  {
   "cell_type": "code",
   "execution_count": 40,
   "id": "a2a82fcf",
   "metadata": {},
   "outputs": [
    {
     "data": {
      "text/plain": [
       "510"
      ]
     },
     "execution_count": 40,
     "metadata": {},
     "output_type": "execute_result"
    }
   ],
   "source": [
    "(edgelist[\"flow\"] == 0).sum()"
   ]
  },
  {
   "cell_type": "code",
   "execution_count": 41,
   "id": "0a296fd5",
   "metadata": {},
   "outputs": [],
   "source": [
    "edgelist.to_csv(\"out/small.results.csv\", index=False)"
   ]
  },
  {
   "cell_type": "code",
   "execution_count": 43,
   "id": "3814a265",
   "metadata": {},
   "outputs": [
    {
     "data": {
      "text/html": [
       "<div>\n",
       "<style scoped>\n",
       "    .dataframe tbody tr th:only-of-type {\n",
       "        vertical-align: middle;\n",
       "    }\n",
       "\n",
       "    .dataframe tbody tr th {\n",
       "        vertical-align: top;\n",
       "    }\n",
       "\n",
       "    .dataframe thead th {\n",
       "        text-align: right;\n",
       "    }\n",
       "</style>\n",
       "<table border=\"1\" class=\"dataframe\">\n",
       "  <thead>\n",
       "    <tr style=\"text-align: right;\">\n",
       "      <th></th>\n",
       "      <th>node_x</th>\n",
       "      <th>node_y</th>\n",
       "    </tr>\n",
       "    <tr>\n",
       "      <th>node_id</th>\n",
       "      <th></th>\n",
       "      <th></th>\n",
       "    </tr>\n",
       "  </thead>\n",
       "  <tbody>\n",
       "    <tr>\n",
       "      <th>269459457</th>\n",
       "      <td>51630.40</td>\n",
       "      <td>48021.0</td>\n",
       "    </tr>\n",
       "    <tr>\n",
       "      <th>317640716</th>\n",
       "      <td>41265.12</td>\n",
       "      <td>8394.4</td>\n",
       "    </tr>\n",
       "    <tr>\n",
       "      <th>317640717</th>\n",
       "      <td>41278.88</td>\n",
       "      <td>8053.0</td>\n",
       "    </tr>\n",
       "    <tr>\n",
       "      <th>317640718</th>\n",
       "      <td>41306.24</td>\n",
       "      <td>7498.2</td>\n",
       "    </tr>\n",
       "    <tr>\n",
       "      <th>317640719</th>\n",
       "      <td>41361.28</td>\n",
       "      <td>6929.2</td>\n",
       "    </tr>\n",
       "  </tbody>\n",
       "</table>\n",
       "</div>"
      ],
      "text/plain": [
       "             node_x   node_y\n",
       "node_id                     \n",
       "269459457  51630.40  48021.0\n",
       "317640716  41265.12   8394.4\n",
       "317640717  41278.88   8053.0\n",
       "317640718  41306.24   7498.2\n",
       "317640719  41361.28   6929.2"
      ]
     },
     "execution_count": 43,
     "metadata": {},
     "output_type": "execute_result"
    }
   ],
   "source": [
    "nodes = pd.read_csv(\"out/small.nodes.csv\", sep=\";\").set_index(\"node_id\")\n",
    "nodes.head()"
   ]
  },
  {
   "cell_type": "code",
   "execution_count": 44,
   "id": "57275639",
   "metadata": {},
   "outputs": [
    {
     "data": {
      "image/png": "[encoded data removed]",
      "text/plain": [
       "<Figure size 1382.4x1036.8 with 1 Axes>"
      ]
     },
     "metadata": {},
     "output_type": "display_data"
    }
   ],
   "source": [
    "import networkx as nx\n",
    "import matplotlib as mpl\n",
    "import matplotlib.pyplot as plt\n",
    "\n",
    "plt.figure(figsize=[3 * x for x in [6.4, 4.8]])\n",
    "\n",
    "positions = {v: (k[\"node_x\"], k[\"node_y\"]) for v, k in nodes.to_dict(\"index\").items()}\n",
    "cmap = mpl.colormaps[\"viridis\"]\n",
    "\n",
    "G = nx.from_pandas_edgelist(edgelist, source=\"edge_from\", target=\"edge_to\", edge_attr=[\"edge_id\", \"edge_numLanes\", \"edge_speed\",\n",
    "                                                                                      \"flow\", \"vehicle_speed\"])\n",
    "nx.set_node_attributes(G, nodes.to_dict(\"index\"))\n",
    "\n",
    "edge_colors = [\"red\" if G[u][v][\"flow\"] == 0 else \"green\" for u,v in G.edges]\n",
    "nx.draw(G, pos=positions, node_size=1, node_color=\"white\", edge_color=edge_colors)\n",
    "plt.show()"
   ]
  },
  {
   "cell_type": "code",
   "execution_count": 45,
   "id": "681012c0",
   "metadata": {},
   "outputs": [
    {
     "data": {
      "text/plain": [
       "(array([1.111e+03, 5.800e+01, 1.900e+01, 1.500e+01, 2.000e+00, 1.000e+00,\n",
       "        4.000e+00, 0.000e+00, 1.000e+00, 1.000e+00]),\n",
       " array([     0.,  64140., 128280., 192420., 256560., 320700., 384840.,\n",
       "        448980., 513120., 577260., 641400.]),\n",
       " <BarContainer object of 10 artists>)"
      ]
     },
     "execution_count": 45,
     "metadata": {},
     "output_type": "execute_result"
    },
    {
     "data": {
      "image/png": "[encoded data removed]",
      "text/plain": [
       "<Figure size 432x288 with 1 Axes>"
      ]
     },
     "metadata": {
      "needs_background": "light"
     },
     "output_type": "display_data"
    }
   ],
   "source": [
    "plt.hist([G[u][v][\"flow\"] for u,v in G.edges])"
   ]
  },
  {
   "cell_type": "code",
   "execution_count": 47,
   "id": "ce7903b0",
   "metadata": {},
   "outputs": [
    {
     "data": {
      "text/plain": [
       "(array([14269839.,  2608926.,  1326571.,   223273.,   202314.,   204475.,\n",
       "          202537.,   191109.,   195266.,  1929345.]),\n",
       " array([ 0.   ,  2.906,  5.812,  8.718, 11.624, 14.53 , 17.436, 20.342,\n",
       "        23.248, 26.154, 29.06 ]),\n",
       " <BarContainer object of 10 artists>)"
      ]
     },
     "execution_count": 47,
     "metadata": {},
     "output_type": "execute_result"
    },
    {
     "data": {
      "image/png": "[encoded data removed]",
      "text/plain": [
       "<Figure size 432x288 with 1 Axes>"
      ]
     },
     "metadata": {
      "needs_background": "light"
     },
     "output_type": "display_data"
    }
   ],
   "source": [
    "plt.hist(data[\"vehicle_speed\"])"
   ]
  },
  {
   "cell_type": "code",
   "execution_count": 60,
   "id": "d009fae0",
   "metadata": {},
   "outputs": [
    {
     "data": {
      "text/html": [
       "<div>\n",
       "<style scoped>\n",
       "    .dataframe tbody tr th:only-of-type {\n",
       "        vertical-align: middle;\n",
       "    }\n",
       "\n",
       "    .dataframe tbody tr th {\n",
       "        vertical-align: top;\n",
       "    }\n",
       "\n",
       "    .dataframe thead th {\n",
       "        text-align: right;\n",
       "    }\n",
       "</style>\n",
       "<table border=\"1\" class=\"dataframe\">\n",
       "  <thead>\n",
       "    <tr style=\"text-align: right;\">\n",
       "      <th></th>\n",
       "      <th>timestep_time</th>\n",
       "      <th>edge_id</th>\n",
       "      <th>lane_id</th>\n",
       "      <th>vehicle_id</th>\n",
       "      <th>vehicle_pos</th>\n",
       "      <th>vehicle_speed</th>\n",
       "    </tr>\n",
       "  </thead>\n",
       "  <tbody>\n",
       "    <tr>\n",
       "      <th>0</th>\n",
       "      <td>0.0</td>\n",
       "      <td>:1_0</td>\n",
       "      <td>:1_0_0</td>\n",
       "      <td>NaN</td>\n",
       "      <td>NaN</td>\n",
       "      <td>NaN</td>\n",
       "    </tr>\n",
       "    <tr>\n",
       "      <th>1</th>\n",
       "      <td>0.0</td>\n",
       "      <td>:1_2</td>\n",
       "      <td>:1_2_0</td>\n",
       "      <td>NaN</td>\n",
       "      <td>NaN</td>\n",
       "      <td>NaN</td>\n",
       "    </tr>\n",
       "    <tr>\n",
       "      <th>2</th>\n",
       "      <td>0.0</td>\n",
       "      <td>:1_1</td>\n",
       "      <td>:1_1_0</td>\n",
       "      <td>NaN</td>\n",
       "      <td>NaN</td>\n",
       "      <td>NaN</td>\n",
       "    </tr>\n",
       "    <tr>\n",
       "      <th>3</th>\n",
       "      <td>0.0</td>\n",
       "      <td>:2_0</td>\n",
       "      <td>:2_0_0</td>\n",
       "      <td>NaN</td>\n",
       "      <td>NaN</td>\n",
       "      <td>NaN</td>\n",
       "    </tr>\n",
       "    <tr>\n",
       "      <th>4</th>\n",
       "      <td>0.0</td>\n",
       "      <td>:3_0</td>\n",
       "      <td>:3_0_0</td>\n",
       "      <td>NaN</td>\n",
       "      <td>NaN</td>\n",
       "      <td>NaN</td>\n",
       "    </tr>\n",
       "  </tbody>\n",
       "</table>\n",
       "</div>"
      ],
      "text/plain": [
       "   timestep_time edge_id lane_id vehicle_id  vehicle_pos  vehicle_speed\n",
       "0            0.0    :1_0  :1_0_0        NaN          NaN            NaN\n",
       "1            0.0    :1_2  :1_2_0        NaN          NaN            NaN\n",
       "2            0.0    :1_1  :1_1_0        NaN          NaN            NaN\n",
       "3            0.0    :2_0  :2_0_0        NaN          NaN            NaN\n",
       "4            0.0    :3_0  :3_0_0        NaN          NaN            NaN"
      ]
     },
     "execution_count": 60,
     "metadata": {},
     "output_type": "execute_result"
    }
   ],
   "source": [
    "import pandas as pd\n",
    "\n",
    "data = pd.read_csv(\"out/test.simulation.csv\", sep=\";\")\n",
    "data.head()"
   ]
  },
  {
   "cell_type": "code",
   "execution_count": 61,
   "id": "59f09bef",
   "metadata": {},
   "outputs": [
    {
     "data": {
      "text/html": [
       "<div>\n",
       "<style scoped>\n",
       "    .dataframe tbody tr th:only-of-type {\n",
       "        vertical-align: middle;\n",
       "    }\n",
       "\n",
       "    .dataframe tbody tr th {\n",
       "        vertical-align: top;\n",
       "    }\n",
       "\n",
       "    .dataframe thead th {\n",
       "        text-align: right;\n",
       "    }\n",
       "</style>\n",
       "<table border=\"1\" class=\"dataframe\">\n",
       "  <thead>\n",
       "    <tr style=\"text-align: right;\">\n",
       "      <th></th>\n",
       "      <th>timestep_time</th>\n",
       "      <th>edge_id</th>\n",
       "      <th>lane_id</th>\n",
       "      <th>vehicle_id</th>\n",
       "      <th>vehicle_pos</th>\n",
       "      <th>vehicle_speed</th>\n",
       "    </tr>\n",
       "  </thead>\n",
       "  <tbody>\n",
       "    <tr>\n",
       "      <th>7</th>\n",
       "      <td>0.0</td>\n",
       "      <td>0</td>\n",
       "      <td>0_0</td>\n",
       "      <td>1</td>\n",
       "      <td>0.0</td>\n",
       "      <td>0.1</td>\n",
       "    </tr>\n",
       "    <tr>\n",
       "      <th>8</th>\n",
       "      <td>0.0</td>\n",
       "      <td>1</td>\n",
       "      <td>1_0</td>\n",
       "      <td>0</td>\n",
       "      <td>NaN</td>\n",
       "      <td>0.0</td>\n",
       "    </tr>\n",
       "    <tr>\n",
       "      <th>9</th>\n",
       "      <td>0.0</td>\n",
       "      <td>2</td>\n",
       "      <td>2_0</td>\n",
       "      <td>0</td>\n",
       "      <td>NaN</td>\n",
       "      <td>0.0</td>\n",
       "    </tr>\n",
       "    <tr>\n",
       "      <th>10</th>\n",
       "      <td>0.0</td>\n",
       "      <td>3</td>\n",
       "      <td>3_0</td>\n",
       "      <td>0</td>\n",
       "      <td>NaN</td>\n",
       "      <td>0.0</td>\n",
       "    </tr>\n",
       "    <tr>\n",
       "      <th>11</th>\n",
       "      <td>0.0</td>\n",
       "      <td>4</td>\n",
       "      <td>4_0</td>\n",
       "      <td>0</td>\n",
       "      <td>NaN</td>\n",
       "      <td>0.0</td>\n",
       "    </tr>\n",
       "  </tbody>\n",
       "</table>\n",
       "</div>"
      ],
      "text/plain": [
       "    timestep_time edge_id lane_id  vehicle_id  vehicle_pos  vehicle_speed\n",
       "7             0.0       0     0_0           1          0.0            0.1\n",
       "8             0.0       1     1_0           0          NaN            0.0\n",
       "9             0.0       2     2_0           0          NaN            0.0\n",
       "10            0.0       3     3_0           0          NaN            0.0\n",
       "11            0.0       4     4_0           0          NaN            0.0"
      ]
     },
     "execution_count": 61,
     "metadata": {},
     "output_type": "execute_result"
    }
   ],
   "source": [
    "data = data.drop(data[data.edge_id.str.startswith(':')].index.values)\n",
    "data[\"vehicle_speed\"] = data[\"vehicle_speed\"].fillna(0)\n",
    "data[\"vehicle_id\"] = data[\"vehicle_id\"].fillna(0).apply(lambda x: 1 if x != 0 else 0)\n",
    "data.head()"
   ]
  },
  {
   "cell_type": "code",
   "execution_count": 62,
   "id": "5579bcf6",
   "metadata": {},
   "outputs": [
    {
     "data": {
      "text/html": [
       "<div>\n",
       "<style scoped>\n",
       "    .dataframe tbody tr th:only-of-type {\n",
       "        vertical-align: middle;\n",
       "    }\n",
       "\n",
       "    .dataframe tbody tr th {\n",
       "        vertical-align: top;\n",
       "    }\n",
       "\n",
       "    .dataframe thead th {\n",
       "        text-align: right;\n",
       "    }\n",
       "</style>\n",
       "<table border=\"1\" class=\"dataframe\">\n",
       "  <thead>\n",
       "    <tr style=\"text-align: right;\">\n",
       "      <th></th>\n",
       "      <th>timestep_time</th>\n",
       "      <th>edge_id</th>\n",
       "      <th>lane_id</th>\n",
       "      <th>vehicle_id</th>\n",
       "      <th>vehicle_pos</th>\n",
       "      <th>vehicle_speed</th>\n",
       "    </tr>\n",
       "  </thead>\n",
       "  <tbody>\n",
       "    <tr>\n",
       "      <th>7</th>\n",
       "      <td>0.0</td>\n",
       "      <td>0</td>\n",
       "      <td>0_0</td>\n",
       "      <td>1</td>\n",
       "      <td>0.0</td>\n",
       "      <td>0.1</td>\n",
       "    </tr>\n",
       "  </tbody>\n",
       "</table>\n",
       "</div>"
      ],
      "text/plain": [
       "   timestep_time edge_id lane_id  vehicle_id  vehicle_pos  vehicle_speed\n",
       "7            0.0       0     0_0           1          0.0            0.1"
      ]
     },
     "execution_count": 62,
     "metadata": {},
     "output_type": "execute_result"
    }
   ],
   "source": [
    "data[data[\"vehicle_id\"] == 1]"
   ]
  },
  {
   "cell_type": "code",
   "execution_count": 63,
   "id": "8d8805dc",
   "metadata": {},
   "outputs": [
    {
     "data": {
      "text/html": [
       "<div>\n",
       "<style scoped>\n",
       "    .dataframe tbody tr th:only-of-type {\n",
       "        vertical-align: middle;\n",
       "    }\n",
       "\n",
       "    .dataframe tbody tr th {\n",
       "        vertical-align: top;\n",
       "    }\n",
       "\n",
       "    .dataframe thead th {\n",
       "        text-align: right;\n",
       "    }\n",
       "</style>\n",
       "<table border=\"1\" class=\"dataframe\">\n",
       "  <thead>\n",
       "    <tr style=\"text-align: right;\">\n",
       "      <th></th>\n",
       "      <th>edge_id</th>\n",
       "      <th>flow</th>\n",
       "      <th>vehicle_speed</th>\n",
       "    </tr>\n",
       "  </thead>\n",
       "  <tbody>\n",
       "    <tr>\n",
       "      <th>0</th>\n",
       "      <td>0</td>\n",
       "      <td>1</td>\n",
       "      <td>0.016667</td>\n",
       "    </tr>\n",
       "    <tr>\n",
       "      <th>1</th>\n",
       "      <td>1</td>\n",
       "      <td>0</td>\n",
       "      <td>0.000000</td>\n",
       "    </tr>\n",
       "    <tr>\n",
       "      <th>2</th>\n",
       "      <td>2</td>\n",
       "      <td>0</td>\n",
       "      <td>0.000000</td>\n",
       "    </tr>\n",
       "    <tr>\n",
       "      <th>3</th>\n",
       "      <td>3</td>\n",
       "      <td>0</td>\n",
       "      <td>0.000000</td>\n",
       "    </tr>\n",
       "    <tr>\n",
       "      <th>4</th>\n",
       "      <td>4</td>\n",
       "      <td>0</td>\n",
       "      <td>0.000000</td>\n",
       "    </tr>\n",
       "  </tbody>\n",
       "</table>\n",
       "</div>"
      ],
      "text/plain": [
       "   edge_id  flow  vehicle_speed\n",
       "0        0     1       0.016667\n",
       "1        1     0       0.000000\n",
       "2        2     0       0.000000\n",
       "3        3     0       0.000000\n",
       "4        4     0       0.000000"
      ]
     },
     "execution_count": 63,
     "metadata": {},
     "output_type": "execute_result"
    }
   ],
   "source": [
    "overall = data.groupby([\"edge_id\"]).agg({'vehicle_id':'sum', 'vehicle_speed':'mean'}).reset_index()\n",
    "overall = overall.rename(columns={\"vehicle_id\": \"flow\"})\n",
    "overall[\"edge_id\"] = pd.to_numeric(overall[\"edge_id\"])\n",
    "overall.head()"
   ]
  }
 ],
 "metadata": {
  "kernelspec": {
   "display_name": "Python 3 (ipykernel)",
   "language": "python",
   "name": "python3"
  },
  "language_info": {
   "codemirror_mode": {
    "name": "ipython",
    "version": 3
   },
   "file_extension": ".py",
   "mimetype": "text/x-python",
   "name": "python",
   "nbconvert_exporter": "python",
   "pygments_lexer": "ipython3",
   "version": "3.8.8"
  }
 },
 "nbformat": 4,
 "nbformat_minor": 5
}
