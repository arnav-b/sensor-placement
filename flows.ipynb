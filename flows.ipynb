{
 "cells": [
  {
   "cell_type": "code",
   "execution_count": 164,
   "id": "5ba55544",
   "metadata": {},
   "outputs": [],
   "source": [
    "import networkx as nx\n",
    "import csv\n",
    "import matplotlib.pyplot as plt\n",
    "import numpy as np\n",
    "import scipy\n",
    "import random\n",
    "from scipy.sparse import coo_matrix, linalg\n",
    "from sklearn.manifold import SpectralEmbedding\n",
    "from sklearn.cluster import KMeans"
   ]
  },
  {
   "cell_type": "code",
   "execution_count": 2,
   "id": "9a12b6a0",
   "metadata": {},
   "outputs": [],
   "source": [
    "G = nx.Graph()\n",
    "\n",
    "G.add_edge(0,1)\n",
    "G.add_edge(1,2)\n",
    "G.add_edge(0,2)\n",
    "G.add_edge(2,3)\n",
    "G.add_edge(3,4)\n",
    "G.add_edge(3,5)\n",
    "G.add_edge(4,6)\n",
    "G.add_edge(5,6)\n",
    "\n",
    "flows = {}\n",
    "\n",
    "flows[(0,1)] = 10.\n",
    "flows[(1,2)] = 10\n",
    "flows[(0,2)] = -10.\n",
    "flows[(2,3)] = 0.\n",
    "flows[(3,4)] = -10.\n",
    "flows[(3,5)] = 10.\n",
    "flows[(4,6)] = -10.\n",
    "flows[(5,6)] = 10.\n",
    "\n",
    "labelled_flows = {(1,2):10., (2,3):0., (3,5):10.}"
   ]
  },
  {
   "cell_type": "code",
   "execution_count": 3,
   "id": "f0871b83",
   "metadata": {},
   "outputs": [
    {
     "data": {
      "image/png": "[encoded data removed]",
      "text/plain": [
       "<Figure size 432x288 with 1 Axes>"
      ]
     },
     "metadata": {},
     "output_type": "display_data"
    }
   ],
   "source": [
    "nx.draw(G, with_labels=True)"
   ]
  },
  {
   "cell_type": "code",
   "execution_count": 119,
   "id": "93a00f45",
   "metadata": {},
   "outputs": [],
   "source": [
    "def flow_prediction(G, labelled_flows, lamb=1e-6):\n",
    "    '''\n",
    "        Flow prediction.\n",
    "    '''\n",
    "    n_labelled_edges = len(labelled_flows)\n",
    "    b = np.zeros(n_labelled_edges)\n",
    "    B = nx.incidence_matrix(G, oriented=True)\n",
    "    f0 = np.zeros(G.number_of_edges())\n",
    "\n",
    "    i = 0\n",
    "    for e in G.edges():\n",
    "        if e in labelled_flows:\n",
    "            f0[i] = labelled_flows[e]\n",
    "        i = i + 1\n",
    "\n",
    "    b = -B.dot(f0)\n",
    "\n",
    "    row = []\n",
    "    col = []\n",
    "    data = []\n",
    "\n",
    "    index = {}\n",
    "    \n",
    "    i = 0\n",
    "    for ei in G.edges():\n",
    "        j = 0\n",
    "        for ej in G.edges():\n",
    "            if ej not in labelled_flows:\n",
    "                if ei == ej:\n",
    "                    row.append(i)\n",
    "                    col.append(j)\n",
    "                    data.append(1.)\n",
    "\n",
    "                    index[ej] = j\n",
    "\n",
    "                j = j + 1\n",
    "        i = i + 1\n",
    "\n",
    "    sigma = coo_matrix((data, (row,col)), shape=(G.number_of_edges(), G.number_of_edges()-len(labelled_flows)))\n",
    "\n",
    "    A = B.dot(sigma).tocoo()\n",
    "\n",
    "    res = linalg.lsmr(A, b, damp=lamb)\n",
    "    x = res[0]\n",
    "\n",
    "    pred_flows = {}\n",
    "\n",
    "    for e in index:\n",
    "        pred_flows[e] = x[index[e]]\n",
    "    \n",
    "            \n",
    "    return pred_flows"
   ]
  },
  {
   "cell_type": "code",
   "execution_count": 127,
   "id": "b97279da",
   "metadata": {},
   "outputs": [],
   "source": [
    "def flow_prediction(G, labelled_flows, lamb=1e-6):\n",
    "    '''\n",
    "        Flow prediction.\n",
    "    '''\n",
    "    n_labelled_edges = len(labelled_flows)\n",
    "    b = np.zeros(n_labelled_edges)\n",
    "    B = nx.incidence_matrix(G, oriented=True)\n",
    "    f0 = np.zeros(G.number_of_edges())\n",
    "\n",
    "    i = 0\n",
    "    j = 0\n",
    "    U = []\n",
    "    index = {}\n",
    "    for e in G.edges():\n",
    "        if e in labelled_flows:\n",
    "            f0[i] = labelled_flows[e]\n",
    "        else:\n",
    "            U.append(i)\n",
    "            index[e] = j\n",
    "            j = j + 1\n",
    "        i = i + 1\n",
    "\n",
    "    b = -B.dot(f0)\n",
    " \n",
    "    A = B[np.ix_(np.arange(B.shape[0]), U)]\n",
    "\n",
    "    res = linalg.lsmr(A, b, damp=lamb)\n",
    "    x = res[0]\n",
    "\n",
    "    pred_flows = {}\n",
    "    \n",
    "    for e in index:\n",
    "        pred_flows[e] = x[index[e]]\n",
    "    \n",
    "            \n",
    "    return pred_flows"
   ]
  },
  {
   "cell_type": "code",
   "execution_count": 126,
   "id": "c9a5e828",
   "metadata": {},
   "outputs": [
    {
     "name": "stdout",
     "output_type": "stream",
     "text": [
      "[ 10. -10. -10. -10.  10.]\n",
      "{(0, 1): 0, (0, 2): 1, (3, 4): 2, (4, 6): 3, (5, 6): 4}\n"
     ]
    }
   ],
   "source": [
    "pred = flow_prediction(G, labelled_flows)"
   ]
  },
  {
   "cell_type": "code",
   "execution_count": 121,
   "id": "fb5c7080",
   "metadata": {},
   "outputs": [
    {
     "data": {
      "text/plain": [
       "{(0, 1): 9.99999999999,\n",
       " (0, 2): -9.99999999999,\n",
       " (3, 4): -9.999999999985,\n",
       " (4, 6): -9.999999999980002,\n",
       " (5, 6): 9.999999999985}"
      ]
     },
     "execution_count": 121,
     "metadata": {},
     "output_type": "execute_result"
    }
   ],
   "source": [
    "pred"
   ]
  },
  {
   "cell_type": "code",
   "execution_count": 124,
   "id": "397fd088",
   "metadata": {},
   "outputs": [
    {
     "data": {
      "text/plain": [
       "{(0, 1): 9.99999999999,\n",
       " (0, 2): -9.99999999999,\n",
       " (3, 4): -9.999999999985,\n",
       " (4, 6): -9.999999999980002,\n",
       " (5, 6): 9.999999999985}"
      ]
     },
     "execution_count": 124,
     "metadata": {},
     "output_type": "execute_result"
    }
   ],
   "source": [
    "pred"
   ]
  },
  {
   "cell_type": "code",
   "execution_count": 98,
   "id": "e2c52a08",
   "metadata": {},
   "outputs": [],
   "source": [
    "def speed_prediction(G, labelled_flows, lamb=1e-6):\n",
    "    '''\n",
    "        Speed prediction.\n",
    "    '''\n",
    "    n_labelled_edges = len(labelled_flows)\n",
    "    line_G = nx.line_graph(G)\n",
    "    A = nx.adjacency_matrix(line_G)\n",
    "    f0 = []\n",
    "    \n",
    "    A.data = A.data / np.repeat(np.add.reduceat(A.data, A.indptr[:-1]), np.diff(A.indptr))\n",
    "   \n",
    "    U = []\n",
    "    L = []\n",
    "    i = 0\n",
    "    j = 0\n",
    "    index = {}\n",
    "    for e in line_G.nodes():\n",
    "        if e in labelled_flows:\n",
    "            f0.append(labelled_flows[e])\n",
    "            L.append(i)\n",
    "        else:\n",
    "            U.append(i)\n",
    "            index[e] = j\n",
    "            j = j + 1\n",
    "        i = i + 1\n",
    "\n",
    "    PUL = A[np.ix_(U, L)]\n",
    "    f0 = np.array(f0)\n",
    "    b = PUL.dot(f0)\n",
    "    PUU = A[np.ix_(U, U)]\n",
    "    A = scipy.sparse.identity(PUU.shape[0])-PUU   \n",
    "    res = linalg.lsmr(A, b, damp=lamb)\n",
    "    x = res[0]\n",
    "    \n",
    "    pred_flows = {}\n",
    "\n",
    "    for e in index:\n",
    "        pred_flows[e] = x[index[e]]\n",
    "            \n",
    "    return pred_flows"
   ]
  },
  {
   "cell_type": "code",
   "execution_count": 99,
   "id": "0606fb6e",
   "metadata": {},
   "outputs": [],
   "source": [
    "pred = speed_prediction(G, labelled_flows)"
   ]
  },
  {
   "cell_type": "code",
   "execution_count": 65,
   "id": "55c58eb0",
   "metadata": {},
   "outputs": [
    {
     "data": {
      "text/plain": [
       "{(1, 2): 10.0, (2, 3): 0.0, (3, 5): 10.0}"
      ]
     },
     "execution_count": 65,
     "metadata": {},
     "output_type": "execute_result"
    }
   ],
   "source": [
    "labelled_flows"
   ]
  },
  {
   "cell_type": "code",
   "execution_count": 93,
   "id": "886223ea",
   "metadata": {},
   "outputs": [
    {
     "data": {
      "text/plain": [
       "{(0, 2): 5.999999999980802,\n",
       " (0, 1): 7.999999999978405,\n",
       " (5, 6): 8.571428571373056,\n",
       " (3, 4): 5.714285714244893,\n",
       " (4, 6): 7.142857142786134}"
      ]
     },
     "execution_count": 93,
     "metadata": {},
     "output_type": "execute_result"
    }
   ],
   "source": [
    "pred"
   ]
  },
  {
   "cell_type": "code",
   "execution_count": 49,
   "id": "ebe9a2e6",
   "metadata": {},
   "outputs": [
    {
     "data": {
      "text/plain": [
       "EdgeView([((0, 2), (1, 2)), ((0, 2), (2, 3)), ((0, 2), (0, 1)), ((1, 2), (2, 3)), ((1, 2), (0, 1)), ((2, 3), (3, 4)), ((2, 3), (3, 5)), ((3, 5), (5, 6)), ((3, 5), (3, 4)), ((5, 6), (4, 6)), ((3, 4), (4, 6))])"
      ]
     },
     "execution_count": 49,
     "metadata": {},
     "output_type": "execute_result"
    }
   ],
   "source": [
    "def al_flows_rrqr(G, ratio):\n",
    "    B = nx.incidence_matrix(G, oriented=True).todense()\n",
    "    VC = scipy.linalg.null_space(B)\n",
    "    q, r, p = scipy.linalg.qr(VC.T, pivoting=True)\n",
    "    edges = list(G.edges())\n",
    "    selected = []\n",
    "\n",
    "    for e in list(p[0:int(ratio*G.number_of_edges())]):\n",
    "        selected.append(edges[e])\n",
    "        \n",
    "    return selected"
   ]
  },
  {
   "cell_type": "code",
   "execution_count": 171,
   "id": "084e36e7",
   "metadata": {},
   "outputs": [],
   "source": [
    "def al_flows_rb(G, ratio, n_dim=2):\n",
    "    A = nx.adjacency_matrix(G)\n",
    "    nodes = list(G.nodes())\n",
    "    embedding = SpectralEmbedding(n_components=n_dim, affinity='precomputed')\n",
    "    spec_emb = embedding.fit_transform(A)\n",
    "    selected = []\n",
    "    \n",
    "    clusters = [list(np.arange(0,G.number_of_nodes()))]\n",
    "    \n",
    "    while len(selected) < int(ratio*G.number_of_edges()):\n",
    "        max_cluster = 0\n",
    "        \n",
    "        for i in range(len(clusters)):\n",
    "            if len(clusters[i]) > len(clusters[max_cluster]):\n",
    "                max_cluster = i\n",
    "        \n",
    "        cluster = clusters[max_cluster]\n",
    "        \n",
    "        if len(cluster) <= 2:\n",
    "            break\n",
    "            \n",
    "        X = spec_emb[cluster,:]\n",
    "                \n",
    "        labels = KMeans(n_clusters=2, random_state=0).fit(X).labels_\n",
    "        clusters[max_cluster] = []\n",
    "        clusters.append([])\n",
    "        \n",
    "        for i in range(len(cluster)):\n",
    "            if labels[i] == 0:\n",
    "                clusters[-1].append(cluster[i])\n",
    "            else:\n",
    "                clusters[-2].append(cluster[i])\n",
    "        \n",
    "        for v in clusters[-1]:\n",
    "            for u in clusters[-2]:\n",
    "                if G.has_edge(nodes[v], nodes[u]):\n",
    "                    selected.append((nodes[v], nodes[u]))\n",
    "                \n",
    "                    if len(selected) >= int(ratio*G.number_of_edges()):\n",
    "                        break\n",
    "                        \n",
    "    return selected"
   ]
  },
  {
   "cell_type": "code",
   "execution_count": 172,
   "id": "b74cb59c",
   "metadata": {},
   "outputs": [
    {
     "data": {
      "text/plain": [
       "[(3, 2), (3, 4), (3, 5), (0, 2), (1, 2), (4, 6), (5, 6), (4, 6), (5, 6)]"
      ]
     },
     "execution_count": 172,
     "metadata": {},
     "output_type": "execute_result"
    }
   ],
   "source": [
    "al_flows_rb(G, 1, n_dim=2)"
   ]
  },
  {
   "cell_type": "code",
   "execution_count": 158,
   "id": "a6651a93",
   "metadata": {},
   "outputs": [],
   "source": [
    "l = [[1,2], [3,4]]\n",
    "x = l[-1]"
   ]
  },
  {
   "cell_type": "code",
   "execution_count": 159,
   "id": "58c9d88b",
   "metadata": {},
   "outputs": [],
   "source": [
    "l[-1] = []"
   ]
  },
  {
   "cell_type": "code",
   "execution_count": 160,
   "id": "eb2c262e",
   "metadata": {},
   "outputs": [
    {
     "data": {
      "text/plain": [
       "[3, 4]"
      ]
     },
     "execution_count": 160,
     "metadata": {},
     "output_type": "execute_result"
    }
   ],
   "source": [
    "x"
   ]
  },
  {
   "cell_type": "code",
   "execution_count": 29,
   "id": "9a472f5c",
   "metadata": {},
   "outputs": [
    {
     "data": {
      "text/plain": [
       "2"
      ]
     },
     "execution_count": 29,
     "metadata": {},
     "output_type": "execute_result"
    }
   ],
   "source": [
    "x[2]"
   ]
  },
  {
   "cell_type": "code",
   "execution_count": 39,
   "id": "94dbf32c",
   "metadata": {},
   "outputs": [
    {
     "data": {
      "text/plain": [
       "array([10.,  0., 10.,  0.,  0.,  0.,  0.,  0.])"
      ]
     },
     "execution_count": 39,
     "metadata": {},
     "output_type": "execute_result"
    }
   ],
   "source": [
    "f0"
   ]
  },
  {
   "cell_type": "code",
   "execution_count": 52,
   "id": "7046b8ae",
   "metadata": {},
   "outputs": [
    {
     "data": {
      "text/plain": [
       "matrix([[-1., -1.,  0.,  0.,  0.,  0.,  0.,  0.],\n",
       "        [ 1.,  0., -1.,  0.,  0.,  0.,  0.,  0.],\n",
       "        [ 0.,  1.,  1., -1.,  0.,  0.,  0.,  0.],\n",
       "        [ 0.,  0.,  0.,  1., -1., -1.,  0.,  0.],\n",
       "        [ 0.,  0.,  0.,  0.,  1.,  0., -1.,  0.],\n",
       "        [ 0.,  0.,  0.,  0.,  0.,  1.,  0., -1.],\n",
       "        [ 0.,  0.,  0.,  0.,  0.,  0.,  1.,  1.]])"
      ]
     },
     "execution_count": 52,
     "metadata": {},
     "output_type": "execute_result"
    }
   ],
   "source": [
    "B.todense()"
   ]
  },
  {
   "cell_type": "code",
   "execution_count": 55,
   "id": "3c4eabfd",
   "metadata": {},
   "outputs": [
    {
     "data": {
      "text/plain": [
       "matrix([[ 2.,  1., -1.,  0.,  0.,  0.,  0.,  0.],\n",
       "        [ 1.,  2.,  1., -1.,  0.,  0.,  0.,  0.],\n",
       "        [-1.,  1.,  2., -1.,  0.,  0.,  0.,  0.],\n",
       "        [ 0., -1., -1.,  2., -1., -1.,  0.,  0.],\n",
       "        [ 0.,  0.,  0., -1.,  2.,  1., -1.,  0.],\n",
       "        [ 0.,  0.,  0., -1.,  1.,  2.,  0., -1.],\n",
       "        [ 0.,  0.,  0.,  0., -1.,  0.,  2.,  1.],\n",
       "        [ 0.,  0.,  0.,  0.,  0., -1.,  1.,  2.]])"
      ]
     },
     "execution_count": 55,
     "metadata": {},
     "output_type": "execute_result"
    }
   ],
   "source": [
    "(B.T).dot(B).todense()"
   ]
  },
  {
   "cell_type": "code",
   "execution_count": 56,
   "id": "5ccc43a7",
   "metadata": {},
   "outputs": [
    {
     "data": {
      "text/plain": [
       "EdgeView([(0, 1), (0, 2), (1, 2), (2, 3), (3, 4), (3, 5), (4, 6), (5, 6)])"
      ]
     },
     "execution_count": 56,
     "metadata": {},
     "output_type": "execute_result"
    }
   ],
   "source": [
    "G.edges()"
   ]
  },
  {
   "cell_type": "code",
   "execution_count": 57,
   "id": "122a99b5",
   "metadata": {},
   "outputs": [
    {
     "data": {
      "text/plain": [
       "array([ 0.,  0., 10.,  0.,  0., 10.,  0.,  0.])"
      ]
     },
     "execution_count": 57,
     "metadata": {},
     "output_type": "execute_result"
    }
   ],
   "source": [
    "f0"
   ]
  },
  {
   "cell_type": "raw",
   "id": "f91c34b1",
   "metadata": {},
   "source": [
    "TODOs:\n",
    "    - Think about active learning for speed values (largest eigenvector)\n",
    "    "
   ]
  },
  {
   "cell_type": "code",
   "execution_count": null,
   "id": "a61ccff8",
   "metadata": {},
   "outputs": [],
   "source": []
  }
 ],
 "metadata": {
  "kernelspec": {
   "display_name": "Python 3 (ipykernel)",
   "language": "python",
   "name": "python3"
  },
  "language_info": {
   "codemirror_mode": {
    "name": "ipython",
    "version": 3
   },
   "file_extension": ".py",
   "mimetype": "text/x-python",
   "name": "python",
   "nbconvert_exporter": "python",
   "pygments_lexer": "ipython3",
   "version": "3.9.7"
  }
 },
 "nbformat": 4,
 "nbformat_minor": 5
}
