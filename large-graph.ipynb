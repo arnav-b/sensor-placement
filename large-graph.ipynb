{
 "cells": [
  {
   "cell_type": "code",
   "execution_count": 1,
   "id": "aea8e35c",
   "metadata": {},
   "outputs": [],
   "source": [
    "import os, sys\n",
    "if 'SUMO_HOME' in os.environ:\n",
    "    tools = os.path.join(os.environ['SUMO_HOME'], 'tools')\n",
    "    sys.path.append(tools)\n",
    "else:   \n",
    "    sys.exit(\"please declare environment variable 'SUMO_HOME'\")\n",
    "    \n",
    "import sumolib"
   ]
  },
  {
   "cell_type": "code",
   "execution_count": 19,
   "id": "61621be7",
   "metadata": {},
   "outputs": [],
   "source": [
    "import pickle\n",
    "\n",
    "with open('data/lac_features.pkl', 'rb') as f:\n",
    "    features = pickle.load(f)\n",
    "\n",
    "with open('data/lac_speeds.pkl', 'rb') as f:\n",
    "    speeds = pickle.load(f)\n",
    "    \n",
    "with open('data/lac_coords.pkl', 'rb') as f:\n",
    "    coords = pickle.load(f) "
   ]
  },
  {
   "cell_type": "code",
   "execution_count": 20,
   "id": "64de1417",
   "metadata": {},
   "outputs": [
    {
     "data": {
      "text/plain": [
       "{('2471592474',\n",
       "  '2471592475'): array([  33.77801295, -117.8843958 ,    1.        ,   65.        ,\n",
       "          18.10135382,    0.        ,    1.        ,    0.        ,\n",
       "           0.        ,    0.        ,    0.        ,    0.        ,\n",
       "           0.        ,    0.        ,    0.        ,    0.        ])}"
      ]
     },
     "execution_count": 20,
     "metadata": {},
     "output_type": "execute_result"
    }
   ],
   "source": [
    "features"
   ]
  },
  {
   "cell_type": "code",
   "execution_count": 3,
   "id": "fe23f04c",
   "metadata": {},
   "outputs": [],
   "source": [
    "# Create node XML\n",
    "import xml.etree.cElementTree as ET\n",
    "import functools\n",
    "\n",
    "nodes = ET.Element(\"nodes\")\n",
    "for n in functools.reduce(lambda x, y: x + y, features.keys()):\n",
    "    v = str(n)                           \n",
    "    node = ET.SubElement(nodes, \"node\", id=v, x=str(coords[v][0]), y=str(coords[v][1]))\n",
    "    \n",
    "tree = ET.ElementTree(nodes)\n",
    "tree.write(\"lac/lac.nodes.xml\")"
   ]
  },
  {
   "cell_type": "code",
   "execution_count": 11,
   "id": "7c04184e",
   "metadata": {},
   "outputs": [
    {
     "name": "stdout",
     "output_type": "stream",
     "text": [
      "('2471592474', '2471592475')\n"
     ]
    }
   ],
   "source": []
  }
 ],
 "metadata": {
  "kernelspec": {
   "display_name": "Python 3 (ipykernel)",
   "language": "python",
   "name": "python3"
  },
  "language_info": {
   "codemirror_mode": {
    "name": "ipython",
    "version": 3
   },
   "file_extension": ".py",
   "mimetype": "text/x-python",
   "name": "python",
   "nbconvert_exporter": "python",
   "pygments_lexer": "ipython3",
   "version": "3.8.8"
  }
 },
 "nbformat": 4,
 "nbformat_minor": 5
}
