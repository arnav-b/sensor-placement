{
 "cells": [
  {
   "cell_type": "code",
   "execution_count": 1,
   "id": "aea8e35c",
   "metadata": {},
   "outputs": [],
   "source": [
    "import os, sys\n",
    "if 'SUMO_HOME' in os.environ:\n",
    "    tools = os.path.join(os.environ['SUMO_HOME'], 'tools')\n",
    "    sys.path.append(tools)\n",
    "else:   \n",
    "    sys.exit(\"please declare environment variable 'SUMO_HOME'\")\n",
    "    \n",
    "import sumolib"
   ]
  },
  {
   "cell_type": "code",
   "execution_count": 2,
   "id": "61621be7",
   "metadata": {},
   "outputs": [],
   "source": [
    "import pickle\n",
    "\n",
    "city = \"sfc\"\n",
    "\n",
    "with open('data/' + city + '_features.pkl', 'rb') as f:\n",
    "    features = pickle.load(f)\n",
    "\n",
    "with open('data/' + city + '_speeds.pkl', 'rb') as f:\n",
    "    speeds = pickle.load(f)\n",
    "    \n",
    "with open('data/small_coords.pkl', 'rb') as f:\n",
    "    coords = pickle.load(f) "
   ]
  },
  {
   "cell_type": "code",
   "execution_count": 3,
   "id": "fe23f04c",
   "metadata": {},
   "outputs": [
    {
     "data": {
      "text/html": [
       "<div>\n",
       "<style scoped>\n",
       "    .dataframe tbody tr th:only-of-type {\n",
       "        vertical-align: middle;\n",
       "    }\n",
       "\n",
       "    .dataframe tbody tr th {\n",
       "        vertical-align: top;\n",
       "    }\n",
       "\n",
       "    .dataframe thead th {\n",
       "        text-align: right;\n",
       "    }\n",
       "</style>\n",
       "<table border=\"1\" class=\"dataframe\">\n",
       "  <thead>\n",
       "    <tr style=\"text-align: right;\">\n",
       "      <th></th>\n",
       "      <th>source</th>\n",
       "      <th>dest</th>\n",
       "    </tr>\n",
       "  </thead>\n",
       "  <tbody>\n",
       "    <tr>\n",
       "      <th>0</th>\n",
       "      <td>4020268087</td>\n",
       "      <td>1720047709</td>\n",
       "    </tr>\n",
       "    <tr>\n",
       "      <th>1</th>\n",
       "      <td>317663450</td>\n",
       "      <td>310688433</td>\n",
       "    </tr>\n",
       "    <tr>\n",
       "      <th>2</th>\n",
       "      <td>317663450</td>\n",
       "      <td>317663724</td>\n",
       "    </tr>\n",
       "    <tr>\n",
       "      <th>3</th>\n",
       "      <td>1834922437</td>\n",
       "      <td>1834922447</td>\n",
       "    </tr>\n",
       "    <tr>\n",
       "      <th>4</th>\n",
       "      <td>305273050</td>\n",
       "      <td>305273051</td>\n",
       "    </tr>\n",
       "  </tbody>\n",
       "</table>\n",
       "</div>"
      ],
      "text/plain": [
       "       source        dest\n",
       "0  4020268087  1720047709\n",
       "1   317663450   310688433\n",
       "2   317663450   317663724\n",
       "3  1834922437  1834922447\n",
       "4   305273050   305273051"
      ]
     },
     "execution_count": 3,
     "metadata": {},
     "output_type": "execute_result"
    }
   ],
   "source": [
    "import pandas as pd\n",
    "\n",
    "edges = pd.read_csv('data/' + city + '.csv', names=[\"source\", \"dest\"])\n",
    "edges.head()"
   ]
  },
  {
   "cell_type": "code",
   "execution_count": null,
   "id": "7c04184e",
   "metadata": {},
   "outputs": [],
   "source": [
    "# Create node XML\n",
    "import xml.etree.cElementTree as ET\n",
    "\n",
    "nodes = ET.Element(\"nodes\")\n",
    "for n in set(edges[\"source\"]).union(set(edges[\"dest\"])):\n",
    "    v = str(n)\n",
    "    long, lat = coords[v]\n",
    "    node = ET.SubElement(nodes, \"node\", id=v, x=str(long), y=str(lat))\n",
    "    \n",
    "tree = ET.ElementTree(nodes)\n",
    "tree.write(\"out/\" + city + \".nodes.xml\")"
   ]
  },
  {
   "cell_type": "code",
   "execution_count": null,
   "id": "5f61e06c",
   "metadata": {},
   "outputs": [],
   "source": [
    "# Create edge XML\n",
    "\n",
    "edgeXML = ET.Element(\"edges\")\n",
    "i = 0\n",
    "for i, e in enumerate(edges.itertuples()):\n",
    "    feat = features[tuple([str(v) for v in e[1:3]])]\n",
    "    numLanes = str(int(feat[2]))\n",
    "    ET.SubElement(edgeXML, \"edge\", {\"id\": str(i), \"from\": str(e[1]), \"to\": str(e[2]), \n",
    "                                    \"numLanes\": str(int(feat[2])), \"speed\": str(feat[3] * 0.44704), \"length\": str(feat[4])})\n",
    "    \n",
    "tree = ET.ElementTree(edgeXML)\n",
    "tree.write(\"out/\" + city + \".edges.xml\")"
   ]
  },
  {
   "cell_type": "code",
   "execution_count": 4,
   "id": "ac7019dd",
   "metadata": {},
   "outputs": [],
   "source": [
    "import xml.etree.cElementTree as ET\n",
    "import numpy as np\n",
    "\n",
    "net = sumolib.net.readNet('out/' + city + '.net.xml')\n",
    "\n",
    "with open('data/' + city + '_flows.pkl', 'rb') as f:\n",
    "    flows = pickle.load(f)\n",
    "    \n",
    "data = ET.Element(\"data\")\n",
    "\n",
    "for t in range(1):\n",
    "    interval = ET.SubElement(data, \"interval\", id=str(t), begin=str(3600 * t), end=str(3600 * (t + 1)))\n",
    "    \n",
    "    for i, e in enumerate(net.getEdges()):\n",
    "        key = (str(e.getFromNode().getID()), str(e.getToNode().getID()))\n",
    "        if key in flows.keys():\n",
    "            print(key)\n",
    "            flow = str(int(flows[key]))\n",
    "            try:\n",
    "                speed = speeds[key] * 0.44704 # Convert from mph to m/s\n",
    "                ET.SubElement(interval, \"edge\", id=str(e.getID()), entered=flow, speed=str(speed))\n",
    "            except KeyError:\n",
    "                ET.SubElement(interval, \"edge\", id=str(e.getID()), entered=flow)\n",
    "            "
   ]
  },
  {
   "cell_type": "code",
   "execution_count": null,
   "id": "76dc4e83",
   "metadata": {},
   "outputs": [],
   "source": [
    "tree = ET.ElementTree(data)\n",
    "tree.write(\"out/routeSampler/\" + city + \".edgedata.xml\")"
   ]
  }
 ],
 "metadata": {
  "kernelspec": {
   "display_name": "Python 3 (ipykernel)",
   "language": "python",
   "name": "python3"
  },
  "language_info": {
   "codemirror_mode": {
    "name": "ipython",
    "version": 3
   },
   "file_extension": ".py",
   "mimetype": "text/x-python",
   "name": "python",
   "nbconvert_exporter": "python",
   "pygments_lexer": "ipython3",
   "version": "3.8.8"
  }
 },
 "nbformat": 4,
 "nbformat_minor": 5
}
