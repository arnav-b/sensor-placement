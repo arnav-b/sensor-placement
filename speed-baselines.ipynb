{
 "cells": [
  {
   "cell_type": "code",
   "execution_count": 17,
   "id": "51f0d021",
   "metadata": {},
   "outputs": [],
   "source": [
    "import networkx as nx\n",
    "import numpy as np\n",
    "import pandas as pd\n",
    "import scipy\n",
    "import scipy.sparse.linalg as linalg\n",
    "import pickle\n",
    "from sensors import utils"
   ]
  },
  {
   "cell_type": "code",
   "execution_count": 39,
   "id": "9cce3eb1",
   "metadata": {},
   "outputs": [],
   "source": [
    "G, flows, speeds = utils.data.read_traffic_data(\"sdc\")"
   ]
  },
  {
   "cell_type": "markdown",
   "id": "64a2c2be",
   "metadata": {},
   "source": [
    "## Proposed"
   ]
  },
  {
   "cell_type": "code",
   "execution_count": 40,
   "id": "1e7cf2d2",
   "metadata": {},
   "outputs": [],
   "source": [
    "from sensors.smooth.smoothprediction import speed_prediction"
   ]
  },
  {
   "cell_type": "code",
   "execution_count": 41,
   "id": "675c6dbb",
   "metadata": {},
   "outputs": [],
   "source": [
    "def transition_matrix(G):\n",
    "    A = np.array(nx.adjacency_matrix(G).todense())\n",
    "    D_inv = np.diag([1 / x for x in np.sum(A, axis=0)])\n",
    "    return np.dot(D_inv, A)\n",
    "\n",
    "def weightedL2(a, b, w):\n",
    "    q = a-b\n",
    "    return (w*q*q).sum()"
   ]
  },
  {
   "cell_type": "code",
   "execution_count": null,
   "id": "e63a60cb",
   "metadata": {},
   "outputs": [
    {
     "data": {
      "application/vnd.jupyter.widget-view+json": {
       "model_id": "a52b06917ac84c2a84f0c6cf7e8120c4",
       "version_major": 2,
       "version_minor": 0
      },
      "text/plain": [
       "  0%|          | 0/370 [00:00<?, ?it/s]"
      ]
     },
     "metadata": {},
     "output_type": "display_data"
    },
    {
     "data": {
      "application/vnd.jupyter.widget-view+json": {
       "model_id": "02555ef7a5164e32bb7f24f123434d8d",
       "version_major": 2,
       "version_minor": 0
      },
      "text/plain": [
       "  0%|          | 0/370 [00:00<?, ?it/s]"
      ]
     },
     "metadata": {},
     "output_type": "display_data"
    },
    {
     "data": {
      "application/vnd.jupyter.widget-view+json": {
       "model_id": "38b2df86c2cb49dfa8cb3fec75391964",
       "version_major": 2,
       "version_minor": 0
      },
      "text/plain": [
       "  0%|          | 0/370 [00:00<?, ?it/s]"
      ]
     },
     "metadata": {},
     "output_type": "display_data"
    },
    {
     "data": {
      "application/vnd.jupyter.widget-view+json": {
       "model_id": "58d11867b81140f09687069a0306423e",
       "version_major": 2,
       "version_minor": 0
      },
      "text/plain": [
       "  0%|          | 0/370 [00:00<?, ?it/s]"
      ]
     },
     "metadata": {},
     "output_type": "display_data"
    },
    {
     "data": {
      "application/vnd.jupyter.widget-view+json": {
       "model_id": "dd41b34e671544f1891018ae4bdb0064",
       "version_major": 2,
       "version_minor": 0
      },
      "text/plain": [
       "  0%|          | 0/370 [00:00<?, ?it/s]"
      ]
     },
     "metadata": {},
     "output_type": "display_data"
    },
    {
     "data": {
      "application/vnd.jupyter.widget-view+json": {
       "model_id": "61168f20266841dc93a71b4ff09b5f53",
       "version_major": 2,
       "version_minor": 0
      },
      "text/plain": [
       "  0%|          | 0/370 [00:00<?, ?it/s]"
      ]
     },
     "metadata": {},
     "output_type": "display_data"
    },
    {
     "data": {
      "application/vnd.jupyter.widget-view+json": {
       "model_id": "ed2850b0cc07445bb051176b39d44b19",
       "version_major": 2,
       "version_minor": 0
      },
      "text/plain": [
       "  0%|          | 0/370 [00:00<?, ?it/s]"
      ]
     },
     "metadata": {},
     "output_type": "display_data"
    },
    {
     "data": {
      "application/vnd.jupyter.widget-view+json": {
       "model_id": "352044831d3446cf87e63d3cd779958f",
       "version_major": 2,
       "version_minor": 0
      },
      "text/plain": [
       "  0%|          | 0/370 [00:00<?, ?it/s]"
      ]
     },
     "metadata": {},
     "output_type": "display_data"
    },
    {
     "data": {
      "application/vnd.jupyter.widget-view+json": {
       "model_id": "0ab04e7689684759ae3f9a64fac91792",
       "version_major": 2,
       "version_minor": 0
      },
      "text/plain": [
       "  0%|          | 0/370 [00:00<?, ?it/s]"
      ]
     },
     "metadata": {},
     "output_type": "display_data"
    },
    {
     "data": {
      "application/vnd.jupyter.widget-view+json": {
       "model_id": "26e18fe2b5e64748824b1659c33691d5",
       "version_major": 2,
       "version_minor": 0
      },
      "text/plain": [
       "  0%|          | 0/370 [00:00<?, ?it/s]"
      ]
     },
     "metadata": {},
     "output_type": "display_data"
    }
   ],
   "source": [
    "from scipy import sparse\n",
    "import random\n",
    "from tqdm.notebook import tqdm\n",
    "\n",
    "def choose_sensors_sparse(G, labeled_edges, weights=None, ratio=0.1, debug=False):  \n",
    "    if weights == None:\n",
    "        weights = {e: 1 for e in labeled_edges}\n",
    "    \n",
    "    k = int(ratio * len(labeled_edges))\n",
    "    m = G.number_of_edges()\n",
    "    \n",
    "    # Relabel edges to 1, 2, ..., m\n",
    "    line_G = nx.line_graph(G)\n",
    "    mapping = dict(zip(line_G.nodes(), range(m)))\n",
    "    reverse = dict(zip(range(m), line_G.nodes()))\n",
    "    nx.relabel_nodes(line_G, mapping, copy=False)\n",
    "    \n",
    "    if debug:\n",
    "        print(\"relabeled edges\")\n",
    "    \n",
    "    # Create true signal and weight vectors\n",
    "    x = np.zeros(m)\n",
    "    w = np.zeros(m)\n",
    "    for e, s in labeled_edges.items():\n",
    "        x[mapping[e]] = s \n",
    "        w[mapping[e]] = weights[e]\n",
    "        \n",
    "    if debug:\n",
    "        print(\"created signal and weight vectors\")\n",
    "    \n",
    "    # Choose random sensors\n",
    "    C = [mapping[e] for e in labeled_edges]\n",
    "    S = random.sample(C, k)\n",
    "    T = sorted(list(set(line_G.nodes()) - set(S)))\n",
    "    \n",
    "    # Initial prediction\n",
    "    P = sparse.csc_matrix(transition_matrix(line_G))\n",
    "    P_TT = P[np.ix_(T, T)]\n",
    "    P_TS = P[np.ix_(T, S)]\n",
    "\n",
    "    lu = sparse.linalg.splu(sparse.identity(m-k, format=\"csc\") - P_TT)\n",
    "    \n",
    "    if debug:\n",
    "        print(\"computed LU decomposition\")\n",
    "\n",
    "    x_S = x[np.ix_(S)]\n",
    "    x_T_hat = lu.solve(P_TS @ x_S)\n",
    "    \n",
    "    current_err = weightedL2(x_T_hat, x[np.ix_(T)], w[np.ix_(T)])\n",
    "    old_err = float(\"inf\")\n",
    "    iteration = 0\n",
    "    \n",
    "    if debug:\n",
    "        print(\"beginning search\")\n",
    "    \n",
    "    while old_err - current_err > 1e-5:\n",
    "        old_err = current_err\n",
    "        \n",
    "        if debug:\n",
    "            print(\"iteration {} current error {:e}\".format(iteration, current_err))\n",
    "        \n",
    "        for i in tqdm(range(k)):\n",
    "            # Move sensor i to a more optimal placement\n",
    "            candidates = random.sample(list(set(C).difference(set(S))), min(10, len(C) - len(S)))\n",
    "            \n",
    "            for v in candidates:\n",
    "                S_prime = S[:i] + [v] + S[i+1:]\n",
    "                swap = np.where(np.array(T) == v)[0][0]\n",
    "                T_prime = T[:swap] + [S[i]] + T[swap+1:]\n",
    "                \n",
    "                P_TT_prime = P[np.ix_(T_prime, T_prime)]\n",
    "                \n",
    "                P_TS_prime = P[np.ix_(T_prime, S_prime)]\n",
    "                x_S_prime = x[np.ix_(S_prime)]\n",
    "                \n",
    "                U = np.zeros((m-k, 2))\n",
    "                U[:, 1] = P_TT.toarray()[:, swap] - P_TT_prime.toarray()[:, swap]\n",
    "                U[swap] = [1, 0]\n",
    "                \n",
    "                V = np.zeros((2, m-k))\n",
    "                V[0] = P_TT.toarray()[swap] - P_TT_prime.toarray()[swap]\n",
    "                V[:, swap] = [0, 1]\n",
    "                \n",
    "                x_int = lu.solve(P_TS_prime @ x_S_prime)\n",
    "                Y = lu.solve(U)\n",
    "                \n",
    "                # the sparse version\n",
    "                x_int = sparse.csc_array(x_int).transpose()\n",
    "                Y = sparse.csc_matrix(Y)\n",
    "                V = sparse.csc_matrix(V)\n",
    "                I = sparse.identity(2, format=\"csc\")\n",
    "                x_T_prime_sparse = x_int - Y @ sparse.linalg.inv(I + V @ Y) @ V @ x_int\n",
    "                \n",
    "                # If error decreased, keep the swap\n",
    "                new_err = weightedL2(x_T_prime_sparse.transpose().toarray(), x[np.ix_(T_prime)], w[np.ix_(T_prime)])\n",
    "                if new_err < current_err:\n",
    "                    if debug:\n",
    "                        print(\"swapping nodes, recomputing LU decomposition...\", end=\"\")\n",
    "                        \n",
    "                    # New sensor and target sets\n",
    "                    current_err = new_err\n",
    "                    S = S_prime\n",
    "                    T = T_prime\n",
    "                    P_TT = P_TT_prime\n",
    "                    \n",
    "                    # Recompute LU decomposition\n",
    "                    lu = sparse.linalg.splu(sparse.identity(m-k, format=\"csc\") - P_TT)\n",
    "                    \n",
    "                    if debug:\n",
    "                        print(\"done\")\n",
    "                        \n",
    "        if debug:\n",
    "            print(\"end of iteration {} improvement {:e}\".format(iteration, old_err - current_err))\n",
    "        iteration += 1\n",
    "    return [reverse[s] for s in S]\n",
    "\n",
    "sensors = choose_sensors_sparse(G, speeds, ratio=.5)"
   ]
  },
  {
   "cell_type": "code",
   "execution_count": 34,
   "id": "bfdf46b0",
   "metadata": {},
   "outputs": [
    {
     "data": {
      "text/plain": [
       "<matplotlib.collections.PathCollection at 0x7fba504ff2e0>"
      ]
     },
     "execution_count": 34,
     "metadata": {},
     "output_type": "execute_result"
    },
    {
     "data": {
      "image/png": "[encoded data removed]",
      "text/plain": [
       "<Figure size 432x288 with 1 Axes>"
      ]
     },
     "metadata": {
      "needs_background": "light"
     },
     "output_type": "display_data"
    }
   ],
   "source": [
    "import matplotlib.pyplot as plt\n",
    "\n",
    "pred = speed_prediction(G, {s: speeds[s] for s in sensors})\n",
    "plt.scatter(*list(zip(*[(speeds[e], pred[e]) for e in speeds])), c = [1 if e in sensors else 0 for e in speeds])"
   ]
  },
  {
   "cell_type": "code",
   "execution_count": 35,
   "id": "9c04252a",
   "metadata": {},
   "outputs": [
    {
     "data": {
      "text/plain": [
       "{(1613371752, 31479975): 65.18241808425618,\n",
       " (268537917, 268537918): 65.55901929444,\n",
       " (269459231, 269459232): 66.01933439890398,\n",
       " (4055678331, 363429201): 57.63590592533394,\n",
       " (540985730, 540985718): 64.9146249571869,\n",
       " (269459341, 269459342): 47.91113140769494,\n",
       " (326711425, 38454746): 62.05949309281881,\n",
       " (4055678332, 250056463): 56.59239639228223,\n",
       " (268538960, 268538962): 49.160624999999996,\n",
       " (69004190, 268539659): 56.7015869391483,\n",
       " (68267437, 20972370): 45.82329032994634,\n",
       " (1347515636, 268538952): 54.395833333333336,\n",
       " (2358067017, 2358067025): 67.12648704189976,\n",
       " (269459230, 269459231): 62.171172508277195,\n",
       " (269460920, 353033055): 63.0398504395479}"
      ]
     },
     "execution_count": 35,
     "metadata": {},
     "output_type": "execute_result"
    }
   ],
   "source": [
    "{s: speeds[s] for s in sensors}"
   ]
  },
  {
   "cell_type": "code",
   "execution_count": 36,
   "id": "44350527",
   "metadata": {},
   "outputs": [
    {
     "data": {
      "text/plain": [
       "<matplotlib.collections.PathCollection at 0x7fba50280220>"
      ]
     },
     "execution_count": 36,
     "metadata": {},
     "output_type": "execute_result"
    },
    {
     "data": {
      "image/png": "[encoded data removed]",
      "text/plain": [
       "<Figure size 432x288 with 1 Axes>"
      ]
     },
     "metadata": {
      "needs_background": "light"
     },
     "output_type": "display_data"
    }
   ],
   "source": [
    "plt.scatter(*list(zip(*[(speeds[e], speeds[e]) for e in speeds])))"
   ]
  },
  {
   "cell_type": "code",
   "execution_count": 38,
   "id": "03231606",
   "metadata": {},
   "outputs": [
    {
     "data": {
      "text/plain": [
       "array([[1.        , 0.11090519],\n",
       "       [0.11090519, 1.        ]])"
      ]
     },
     "execution_count": 38,
     "metadata": {},
     "output_type": "execute_result"
    }
   ],
   "source": [
    "np.corrcoef(np.array([pred[e] for e in speeds]), np.array(list(speeds.values())))"
   ]
  },
  {
   "cell_type": "markdown",
   "id": "3991a284",
   "metadata": {},
   "source": [
    "## Error Minimization"
   ]
  },
  {
   "cell_type": "markdown",
   "id": "fc0eea03",
   "metadata": {},
   "source": [
    "Baseline from http://hanj.cs.illinois.edu/pdf/icdm12_qgu.pdf"
   ]
  },
  {
   "cell_type": "code",
   "execution_count": null,
   "id": "93145430",
   "metadata": {},
   "outputs": [],
   "source": [
    "line_G = nx.line_graph(G.to_undirected())"
   ]
  },
  {
   "cell_type": "code",
   "execution_count": null,
   "id": "749a0e0a",
   "metadata": {},
   "outputs": [],
   "source": [
    "from tqdm.notebook import tqdm\n",
    "\n",
    "def choose_errormin_sensors(G, ratio, C=None):    \n",
    "    line_G = nx.line_graph(G.to_undirected())\n",
    "    n = line_G.number_of_nodes()\n",
    "    mu = 0.01\n",
    "\n",
    "    L = nx.normalized_laplacian_matrix(line_G).toarray()\n",
    "    eigenvalues, U = np.linalg.eigh(L)\n",
    "    Lambda_inv = np.diag([1 / max(lam, 1e-6) for lam in eigenvalues])\n",
    "\n",
    "    Gamma_inv = np.zeros((n, n))\n",
    "    for i in range(n):\n",
    "        if eigenvalues[i] > 1e-6: \n",
    "            Gamma_inv[i][i] = 1 / ((mu * eigenvalues[i] + 1) ** 2 - 1) ** 2\n",
    "        else:\n",
    "            Gamma_inv[i][i] = 1 / ((mu * 1e-6 + 1) ** 2 - 1) ** 2\n",
    "            \n",
    "    Gamma = np.zeros((n, n))\n",
    "    for i in range(n):\n",
    "        Gamma[i][i] = 1 / Gamma_inv[i][i]\n",
    "            \n",
    "    l = int(G.number_of_nodes() * ratio)\n",
    "    sensors = []\n",
    "    H_inv = Gamma_inv\n",
    "    for k in tqdm(range(l)):\n",
    "        idx, s, opt = None, None, -1 * float(\"inf\")\n",
    "        for i, e in enumerate(line_G.nodes()):\n",
    "            if e not in sensors and e in C:\n",
    "                u_e = U[i].transpose().reshape(U.shape[0], 1)\n",
    "                val = (u_e.transpose() @ H_inv @ Lambda_inv @ H_inv @ u_e) / (1 + u_e.transpose() @ H_inv @ u_e)\n",
    "                if val > opt:\n",
    "                    idx, s, opt = i, e, val\n",
    "\n",
    "        sensors.append(s)\n",
    "        print(idx, U[idx].T.shape)\n",
    "        u_s = U[idx].transpose().reshape(U.shape[0], 1)    \n",
    "        H_inv = H_inv - (H_inv @ u_s @ u_s.transpose() @ H_inv) / (1 + u_s.transpose() @ H_inv @ u_s)\n",
    "        \n",
    "    return sensors"
   ]
  },
  {
   "cell_type": "code",
   "execution_count": null,
   "id": "a3dd389b",
   "metadata": {},
   "outputs": [],
   "source": [
    "sensors = choose_errormin_sensors(G, 0.1, C=flows.keys())"
   ]
  },
  {
   "cell_type": "code",
   "execution_count": null,
   "id": "09a2b821",
   "metadata": {},
   "outputs": [],
   "source": [
    "pred = speed_prediction(G, {s: flows[s] for s in sensors})\n",
    "np.corrcoef(np.array(list(pred.values())), np.array(list(signal.values())))"
   ]
  },
  {
   "cell_type": "code",
   "execution_count": null,
   "id": "03027480",
   "metadata": {},
   "outputs": [],
   "source": [
    "import matplotlib.pyplot as plt\n",
    "\n",
    "plt.scatter(list(signal.values()), list(pred.values()), c = [1 if e in sensors else 0 for e in signal])"
   ]
  },
  {
   "cell_type": "markdown",
   "id": "1606acf9",
   "metadata": {},
   "source": [
    "## Sampling"
   ]
  },
  {
   "cell_type": "code",
   "execution_count": null,
   "id": "79669926",
   "metadata": {},
   "outputs": [],
   "source": [
    "def choose_sampling_sensors(G, ratio, param=4, C=None):\n",
    "    line_G = nx.line_graph(G.to_undirected())\n",
    "    m = line_G.number_of_nodes()\n",
    "    if C == None:\n",
    "        C = set(line_G.nodes())\n",
    "    \n",
    "    mapping = dict(zip(line_G.nodes(), range(m)))\n",
    "    reverse = dict(zip(range(m), line_G.nodes()))\n",
    "    nx.relabel_nodes(line_G, mapping, copy=False)\n",
    "    \n",
    "    L_k = np.linalg.matrix_power(nx.normalized_laplacian_matrix(line_G).toarray(), param)\n",
    "        \n",
    "    S = []\n",
    "    \n",
    "    for i in range(int(m * ratio)):\n",
    "        S_complement = list(set(line_G.nodes()) - set(S))\n",
    "        eigenvalues, eigenvectors = np.linalg.eigh(L_k[np.ix_(S_complement, S_complement)])\n",
    "        \n",
    "        opt = np.argmax(eigenvectors[:, 0].transpose() * eigenvectors[:, 0])     \n",
    "        S.append(S_complement[opt])\n",
    "             \n",
    "    return [reverse[s] for s in S]\n",
    "\n",
    "sensors = choose_sampling_sensors(G, .1, 4)"
   ]
  },
  {
   "cell_type": "code",
   "execution_count": null,
   "id": "4a57dcd8",
   "metadata": {},
   "outputs": [],
   "source": [
    "pred = speed_prediction(G, {s: signal[s] for s in sensors})\n",
    "plt.scatter(list(signal.values()), list(pred.values()), c = [1 if e in sensors else 0 for e in signal])"
   ]
  },
  {
   "cell_type": "code",
   "execution_count": null,
   "id": "a49e3484",
   "metadata": {},
   "outputs": [],
   "source": [
    "np.corrcoef(np.array(list(pred.values())), np.array(list(signal.values())))"
   ]
  },
  {
   "cell_type": "markdown",
   "id": "a5e4349a",
   "metadata": {},
   "source": [
    "## Spectral Clustering"
   ]
  },
  {
   "cell_type": "code",
   "execution_count": null,
   "id": "9522beb2",
   "metadata": {},
   "outputs": [],
   "source": [
    "from sklearn.cluster import SpectralClustering\n",
    "\n",
    "def choose_spectral_sensors(G, ratio):\n",
    "    line_graph = nx.line_graph(G.to_undirected(), create_using=nx.Graph())\n",
    "    k = int(ratio * line_graph.number_of_nodes())\n",
    "    \n",
    "    A = nx.to_numpy_array(line_graph)\n",
    "    sc = SpectralClustering(n_clusters=k, assign_labels='discretize', affinity='precomputed', random_state=0).fit(A)\n",
    "    membership = sc.labels_\n",
    "    nodes = list(line_graph.nodes())\n",
    "    selected = []\n",
    "    \n",
    "    for i in range(k):\n",
    "        part = np.argwhere(np.array(membership) == i).ravel()\n",
    "\n",
    "        #selecting a random node in the partition\n",
    "        if len(part) > 0:\n",
    "            selected.append(np.random.choice(part))\n",
    "        else:\n",
    "            selected.append(np.random.choice(list(set(range(len(membership))) - set(selected))))\n",
    "                \n",
    "    return [nodes[u] for u in selected]\n",
    "\n",
    "sensors = choose_spectral_sensors(G, 0.1)"
   ]
  },
  {
   "cell_type": "code",
   "execution_count": null,
   "id": "9fc6453b",
   "metadata": {},
   "outputs": [],
   "source": [
    "pred = speed_prediction(G, {s: signal[s] for s in sensors})\n",
    "plt.scatter(list(signal.values()), list(pred.values()), c = [1 if e in sensors else 0 for e in signal])"
   ]
  },
  {
   "cell_type": "code",
   "execution_count": null,
   "id": "bf560dfa",
   "metadata": {},
   "outputs": [],
   "source": [
    "np.corrcoef(np.array(list(pred.values())), np.array(list(signal.values())))"
   ]
  },
  {
   "cell_type": "markdown",
   "id": "b1a572c2",
   "metadata": {},
   "source": [
    "## Experiments"
   ]
  },
  {
   "cell_type": "code",
   "execution_count": null,
   "id": "923b29d9",
   "metadata": {},
   "outputs": [],
   "source": [
    "from sensors import dict2vect\n",
    "\n",
    "def err(G, sensors, labels, i, error):\n",
    "    preds = speed_prediction(G, {s: labels[s] for s in sensors[:i]})\n",
    "    return error(preds, labels)\n",
    "\n",
    "def cov(x, y, w):\n",
    "    \"\"\"Weighted Covariance\"\"\"\n",
    "    return np.sum(w * (x - np.average(x, weights=w)) * (y - np.average(y, weights=w))) / np.sum(w)\n",
    "\n",
    "def corr(x, y, w):\n",
    "    \"\"\"Weighted Correlation\"\"\"\n",
    "    return cov(x, y, w) / np.sqrt(cov(x, x, w) * cov(y, y, w))\n",
    "\n",
    "def flow_weighted_corr(G, flows):\n",
    "    return lambda preds, labels: corr(dict2vect(G, preds), dict2vect(G, labels), dict2vect(G, flows))"
   ]
  },
  {
   "cell_type": "code",
   "execution_count": null,
   "id": "733c69ca",
   "metadata": {},
   "outputs": [],
   "source": [
    "from tqdm.notebook import tqdm\n",
    "\n",
    "def get_speed_results(G, flows, speeds, ratio, samples=10):\n",
    "    fwcorr = flow_weighted_corr(G, flows)\n",
    "    \n",
    "    errormin_sensors = choose_errormin_sensors(G, ratio)\n",
    "    sampling_sensors = choose_sampling_sensors(G, ratio)\n",
    "    spectral_sensors = choose_spectral_sensors(G, ratio)\n",
    "    \n",
    "    errormin_corr, sampling_corr, spectral_corr, proposed_corr = {0: 0}, {0: 0}, {0: 0}, {0: 0}\n",
    "        \n",
    "    for j in tqdm(range(1, samples + 1)):\n",
    "        r = ratio * j / samples\n",
    "        i = int(r * G.to_undirected().number_of_edges())\n",
    "        \n",
    "        proposed_sensors = choose_sensors_sparse(G, speeds, train_weights=flows, ratio=r)\n",
    "        \n",
    "        proposed_corr[r] = max(err(G, proposed_sensors, speeds, i, fwcorr), 0)\n",
    "        sampling_corr[r] = max(err(G, sampling_sensors, speeds, i, fwcorr), 0)\n",
    "        errormin_corr[r] = max(err(G, errormin_sensors, speeds, i, fwcorr), 0)\n",
    "        spectral_corr[r] = max(err(G, spectral_sensors, speeds, i, fwcorr), 0)\n",
    "        \n",
    "    return {\n",
    "        \"proposed\": proposed_corr,\n",
    "        \"sampling\": sampling_corr,\n",
    "        \"errormin\": errormin_corr,\n",
    "        \"spectral\": spectral_corr\n",
    "    }"
   ]
  },
  {
   "cell_type": "code",
   "execution_count": null,
   "id": "8fed7514",
   "metadata": {},
   "outputs": [],
   "source": [
    "Berlin = nx.from_pandas_edgelist(pd.read_csv(\"data/Berlin-Tiergarten/berlin-tiergarten_net.tntp\", sep=\"\\t\", skiprows=8), \n",
    "                            source=\"init_node\", target=\"term_node\")\n",
    "EMA = nx.from_pandas_edgelist(pd.read_csv(\"data/Eastern-Massachusetts/EMA_net.tntp\", sep=\"\\t\", skiprows=8), \n",
    "                            source=\"init_node\", target=\"term_node\")\n",
    "LA = nx.from_pandas_edgelist(pd.read_csv(\"out/small.results.csv\"), source=\"edge_from\", target=\"edge_to\")"
   ]
  },
  {
   "cell_type": "code",
   "execution_count": null,
   "id": "292911f0",
   "metadata": {},
   "outputs": [],
   "source": [
    "results[\"Anaheim\"] = get_speed_results(*read_tntp_graph(\"data/Anaheim/Anaheim_flow.tntp\"), 0.1)"
   ]
  },
  {
   "cell_type": "code",
   "execution_count": null,
   "id": "adf0e4e0",
   "metadata": {},
   "outputs": [],
   "source": [
    "results[\"Berlin\"] = get_speed_results(Berlin, {e: 1 for e in Berlin.edges()}, synthetic_signal(Berlin), 0.1)"
   ]
  },
  {
   "cell_type": "code",
   "execution_count": null,
   "id": "b9ef1da0",
   "metadata": {},
   "outputs": [],
   "source": [
    "results[\"EMA\"] = get_speed_results(EMA, {e: 1 for e in EMA.edges()}, synthetic_signal(EMA), 0.1)"
   ]
  },
  {
   "cell_type": "code",
   "execution_count": null,
   "id": "bad8bedc",
   "metadata": {},
   "outputs": [],
   "source": [
    "results[\"LA\"] = get_speed_results(LA, {e: 1 for e in LA.edges()}, synthetic_signal(LA), 0.1)"
   ]
  },
  {
   "cell_type": "code",
   "execution_count": null,
   "id": "264b4379",
   "metadata": {},
   "outputs": [],
   "source": [
    "import matplotlib\n",
    "\n",
    "def plot_speed_results(results, ax, title=\"\", xlabel=False, ylabel=False, legend=False):\n",
    "    ax.plot(results[\"proposed\"].keys(), results[\"proposed\"].values(), \"b\", label=\"Proposed\",\n",
    "           linewidth=3)\n",
    "    ax.plot(results[\"sampling\"].keys(), results[\"sampling\"].values(), \"black\", label=\"Sampling\",\n",
    "           linewidth=3, linestyle=\"dashed\")\n",
    "    ax.plot(results[\"errormin\"].keys(), results[\"errormin\"].values(), \"darkgreen\", label=\"Error Minimization\",\n",
    "           linewidth=3)\n",
    "    ax.plot(results[\"spectral\"].keys(), results[\"spectral\"].values(), \"red\", label=\"Spectral Clustering\",\n",
    "           linewidth=3)\n",
    "    \n",
    "    if legend:\n",
    "        ax.legend(fontsize=14)\n",
    "    ax.set_xlim(0, .1)\n",
    "    ax.set_ylim(0, 1)\n",
    "    if xlabel:\n",
    "        ax.set_xlabel(\"Number of Sensors (%)\", fontsize=20)\n",
    "    else:\n",
    "        ax.set_xticklabels([])\n",
    "    if ylabel:\n",
    "        ax.set_ylabel(\"Correlation\", fontsize=20)\n",
    "    else:\n",
    "        ax.set_yticklabels([])\n",
    "    ax.grid(\"on\")\n",
    "    ax.set_title(title)\n",
    "    \n",
    "matplotlib.rcParams.update({'font.size': 16})\n",
    "fig, ax = plt.subplots(2, 2, figsize=(10, 10))\n",
    "\n",
    "plot_speed_results(results[\"Anaheim\"], ax[0][0], title=\"Anaheim\", ylabel=True, legend=True)\n",
    "plot_speed_results(results[\"Berlin\"], ax[0][1], title=\"Berlin\")\n",
    "plot_speed_results(results[\"EMA\"], ax[1][0], title=\"Massachusetts\", xlabel=True, ylabel=True)\n",
    "plot_speed_results(results[\"LA\"], ax[1][1], title=\"Los Angeles\", xlabel=True)\n",
    "\n",
    "plt.savefig(\"results/speed_baselines.pdf\")"
   ]
  },
  {
   "cell_type": "code",
   "execution_count": null,
   "id": "96e494fc",
   "metadata": {},
   "outputs": [],
   "source": [
    "def mape(pred, true):\n",
    "    return (100 / len(true)) * sum(map(lambda x: abs(x[1] - pred[x[0]]) / abs(x[1]), enumerate(true)))\n",
    "\n",
    "mape([1, 2, 3], [1, 4, 3])"
   ]
  },
  {
   "cell_type": "code",
   "execution_count": null,
   "id": "d96c0c61",
   "metadata": {},
   "outputs": [],
   "source": [
    "def mae(pred, true):\n",
    "    return (1 / len(true)) * sum(map(lambda x: abs(x[1] - pred[x[0]]), enumerate(true)))\n",
    "\n",
    "mae([1, 2, 3], [1, 4, 3])"
   ]
  },
  {
   "cell_type": "code",
   "execution_count": null,
   "id": "f8a21df2",
   "metadata": {},
   "outputs": [],
   "source": [
    "def mse(pred, true):\n",
    "    return(np.linalg.norm(pred - true))"
   ]
  },
  {
   "cell_type": "code",
   "execution_count": null,
   "id": "b7641396",
   "metadata": {},
   "outputs": [],
   "source": [
    "def get_scores(G, flows, speeds, ratio):\n",
    "    errormin_pred = dict2vect(G, speed_prediction(G, {s: speeds[s] for s in choose_errormin_sensors(G, ratio)}))\n",
    "    sampling_pred = dict2vect(G, speed_prediction(G, {s: speeds[s] for s in choose_sampling_sensors(G, ratio)}))\n",
    "    spectral_pred = dict2vect(G, speed_prediction(G, {s: speeds[s] for s in choose_spectral_sensors(G, ratio)}))\n",
    "    proposed_pred = dict2vect(G, speed_prediction(G, \n",
    "                                     {s: speeds[s] for s in choose_sensors_sparse(G, speeds, flows, ratio=ratio)}))\n",
    "    \n",
    "    unweightedcorr = flow_weighted_corr(G, {e: 1 for e in G.edges()})\n",
    "    fwcorr = flow_weighted_corr(G, flows)\n",
    "    \n",
    "    errfuncs = {\n",
    "                \"mse\": mse, \n",
    "                \"mape\": mape, \n",
    "                \"mae\": mae, \n",
    "                \"corr\": lambda pred, true: np.corrcoef(pred, true)[0][1],\n",
    "                \"fwcorr\": lambda pred, true: corr(pred, true, dict2vect(G, flows))\n",
    "    }\n",
    "    \n",
    "    all_errs = {\n",
    "        \"method\": [\"Proposed\", \"Sampling\", \"Error Minimization\", \"Spectral Clustering\"]\n",
    "    }\n",
    "    \n",
    "    for name, errfunc in errfuncs.items():\n",
    "        errs = []\n",
    "        for pred in [proposed_pred, sampling_pred, errormin_pred, spectral_pred]:\n",
    "            errs.append(errfunc(pred, dict2vect(G, speeds)))\n",
    "        \n",
    "        all_errs[name] = errs\n",
    "        \n",
    "    return all_errs\n",
    "\n",
    "scores = get_scores(*read_tntp_graph(\"data/Anaheim/Anaheim_flow.tntp\"), 0.1)"
   ]
  },
  {
   "cell_type": "code",
   "execution_count": null,
   "id": "6f7e7df7",
   "metadata": {},
   "outputs": [],
   "source": [
    "pd.DataFrame(scores).set_index(\"method\")"
   ]
  },
  {
   "cell_type": "markdown",
   "id": "aaeb67fc",
   "metadata": {},
   "source": [
    "## Real-World Speed Data"
   ]
  },
  {
   "cell_type": "code",
   "execution_count": null,
   "id": "10aa97dd",
   "metadata": {},
   "outputs": [],
   "source": [
    "from sklearn.model_selection import train_test_split\n",
    "\n",
    "fwcorr = flow_weighted_corr(G, flows)\n",
    "r = len(speeds) / G.number_of_edges()\n",
    "    \n",
    "train, test = train_test_split(list(speeds.keys()))\n",
    "train, val = train_test_split(train)\n",
    "\n",
    "proposed_sensors = choose_sensors_sparse(G, {e: speeds[e] for e in train}, \n",
    "                                         {e: speeds[e] for e in val}, train_weights=flows, ratio=r / 10)"
   ]
  },
  {
   "cell_type": "code",
   "execution_count": null,
   "id": "50b517b8",
   "metadata": {},
   "outputs": [],
   "source": [
    "proposed_sensors"
   ]
  }
 ],
 "metadata": {
  "kernelspec": {
   "display_name": "Python 3 (ipykernel)",
   "language": "python",
   "name": "python3"
  },
  "language_info": {
   "codemirror_mode": {
    "name": "ipython",
    "version": 3
   },
   "file_extension": ".py",
   "mimetype": "text/x-python",
   "name": "python",
   "nbconvert_exporter": "python",
   "pygments_lexer": "ipython3",
   "version": "3.10.8"
  }
 },
 "nbformat": 4,
 "nbformat_minor": 5
}
