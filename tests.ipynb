{
 "cells": [
  {
   "cell_type": "code",
   "execution_count": 1,
   "id": "84ba38f4",
   "metadata": {},
   "outputs": [
    {
     "data": {
      "image/png": "[encoded data removed]",
      "text/plain": [
       "<Figure size 432x288 with 1 Axes>"
      ]
     },
     "metadata": {},
     "output_type": "display_data"
    }
   ],
   "source": [
    "import numpy as np\n",
    "import networkx as nx\n",
    "\n",
    "J = nx.DiGraph()\n",
    "\n",
    "J.add_edge(0,1)\n",
    "J.add_edge(1,2)\n",
    "J.add_edge(2,0)\n",
    "J.add_edge(2,3)\n",
    "J.add_edge(3,4)\n",
    "J.add_edge(4,5)\n",
    "J.add_edge(6,3)\n",
    "J.add_edge(5,6)\n",
    "J.add_edge(4,7)\n",
    "J.add_edge(7,8)\n",
    "J.add_edge(8,9)\n",
    "J.add_edge(9,7)\n",
    "\n",
    "flows = {}\n",
    "\n",
    "flows[(0,1)] = 10.\n",
    "flows[(1,2)] = 10\n",
    "flows[(2,0)] = 10.\n",
    "flows[(2,3)] = 0.\n",
    "flows[(3,4)] = 20.\n",
    "flows[(4,5)] = 20.\n",
    "flows[(6,3)] = 20\n",
    "#flows[(6,4)] = 10.\n",
    "flows[(5,6)] = 20.\n",
    "flows[(4,7)] = 0\n",
    "flows[(7,8)] = 30\n",
    "flows[(8,9)] = 30\n",
    "flows[(9,7)] = 30\n",
    "\n",
    "np.random.seed(540)\n",
    "nx.draw(J, with_labels=True)"
   ]
  },
  {
   "cell_type": "code",
   "execution_count": 2,
   "id": "1bd5fa15",
   "metadata": {},
   "outputs": [
    {
     "data": {
      "application/vnd.jupyter.widget-view+json": {
       "model_id": "4dfdca20827f48108e46a183ae4264d5",
       "version_major": 2,
       "version_minor": 0
      },
      "text/plain": [
       "  0%|          | 0/3 [00:00<?, ?it/s]"
      ]
     },
     "metadata": {},
     "output_type": "display_data"
    },
    {
     "data": {
      "text/plain": [
       "[(9, 7), (3, 4), (0, 1)]"
      ]
     },
     "execution_count": 2,
     "metadata": {},
     "output_type": "execute_result"
    }
   ],
   "source": [
    "from sensors import *\n",
    "\n",
    "opt = choose_sensors(J, flows, flow_prediction, mse, 3)\n",
    "opt"
   ]
  },
  {
   "cell_type": "code",
   "execution_count": 3,
   "id": "346596a0",
   "metadata": {},
   "outputs": [
    {
     "data": {
      "text/plain": [
       "2.082821407672434e-21"
      ]
     },
     "execution_count": 3,
     "metadata": {},
     "output_type": "execute_result"
    }
   ],
   "source": [
    "mse(flows, flow_prediction(J, {s : flows[s] for s in opt}))"
   ]
  },
  {
   "cell_type": "code",
   "execution_count": 4,
   "id": "acc1b847",
   "metadata": {},
   "outputs": [
    {
     "data": {
      "application/vnd.jupyter.widget-view+json": {
       "model_id": "3ed4727848b246dcaf424338eef9358e",
       "version_major": 2,
       "version_minor": 0
      },
      "text/plain": [
       "  0%|          | 0/3 [00:00<?, ?it/s]"
      ]
     },
     "metadata": {},
     "output_type": "display_data"
    },
    {
     "data": {
      "text/plain": [
       "[(9, 7), (3, 4), (0, 1)]"
      ]
     },
     "execution_count": 4,
     "metadata": {},
     "output_type": "execute_result"
    }
   ],
   "source": [
    "opt_lazy = choose_sensors(J, flows, flow_prediction, mse, lazy=True, k=3)\n",
    "opt_lazy"
   ]
  },
  {
   "cell_type": "code",
   "execution_count": 5,
   "id": "16317f48",
   "metadata": {},
   "outputs": [
    {
     "data": {
      "text/plain": [
       "2.082821407672434e-21"
      ]
     },
     "execution_count": 5,
     "metadata": {},
     "output_type": "execute_result"
    }
   ],
   "source": [
    "mse(flows, flow_prediction(J, {s : flows[s] for s in opt_lazy}))"
   ]
  },
  {
   "cell_type": "code",
   "execution_count": 6,
   "id": "b44a3a3f",
   "metadata": {},
   "outputs": [
    {
     "data": {
      "text/plain": [
       "{(0, 1): 10.0,\n",
       " (1, 2): 10.000000000011017,\n",
       " (2, 0): 9.999999999968992,\n",
       " (2, 3): 6.298117583014573e-11,\n",
       " (3, 4): 20.0,\n",
       " (4, 5): 19.99999999993401,\n",
       " (4, 7): 2.6997959423624707e-11,\n",
       " (5, 6): 19.99999999991502,\n",
       " (6, 3): 19.99999999991601,\n",
       " (7, 8): 29.999999999988013,\n",
       " (8, 9): 29.999999999979003,\n",
       " (9, 7): 30}"
      ]
     },
     "execution_count": 6,
     "metadata": {},
     "output_type": "execute_result"
    }
   ],
   "source": [
    "flow_prediction(J, {s : flows[s] for s in opt_lazy})"
   ]
  },
  {
   "cell_type": "code",
   "execution_count": 7,
   "id": "28da735a",
   "metadata": {},
   "outputs": [
    {
     "data": {
      "text/plain": [
       "1.70500650635657e-09"
      ]
     },
     "execution_count": 7,
     "metadata": {},
     "output_type": "execute_result"
    }
   ],
   "source": [
    "mape(flows, flow_prediction(J, {s : flows[s] for s in opt_lazy}))"
   ]
  },
  {
   "cell_type": "code",
   "execution_count": null,
   "id": "cb2d8b70",
   "metadata": {},
   "outputs": [],
   "source": [
    "G = nx.path_graph(6)\n",
    "\n",
    "eigs = np.linalg.eig(nx.laplacian_matrix(nx.line_graph(G).to_undirected(), nodelist=nx.line_graph(G).nodes()).toarray())\n",
    "order = np.argsort(eigs[0])\n",
    "\n",
    "speeds = vect2dict(G, eigs[1][:,-1])\n",
    "speeds"
   ]
  },
  {
   "cell_type": "code",
   "execution_count": null,
   "id": "8a05403b",
   "metadata": {},
   "outputs": [],
   "source": [
    "speeds = {\n",
    "    (0, 1): -20,\n",
    "    (1, 2): -10,\n",
    "    (2, 3): 0,\n",
    "    (3, 4): 10,\n",
    "    (4, 5): 20\n",
    "}"
   ]
  },
  {
   "cell_type": "code",
   "execution_count": null,
   "id": "9a044720",
   "metadata": {},
   "outputs": [],
   "source": [
    "nx.draw(G, with_labels=True, edge_color=[speeds[e] for e in G.edges()], node_color=\"white\")"
   ]
  },
  {
   "cell_type": "code",
   "execution_count": null,
   "id": "20371bfd",
   "metadata": {},
   "outputs": [],
   "source": [
    "def synthetic_speeds(G):\n",
    "    eigs = np.linalg.eig(nx.laplacian_matrix(nx.line_graph(G).to_undirected(), nodelist=nx.line_graph(G).nodes()).toarray())\n",
    "    order = np.argsort(eigs[0])\n",
    "    \n",
    "    vals = eigs[1][:,-1]\n",
    "    speeds = {}\n",
    "    for i, v in enumerate(nx.line_graph(G).nodes()):\n",
    "        speeds[v] = vals[i]\n",
    "    return speeds\n",
    "\n",
    "speeds = synthetic_speeds(G)\n",
    "nx.draw(G, with_labels=True, edge_color=[speeds[e] for e in G.edges()], node_color=\"white\")"
   ]
  },
  {
   "cell_type": "code",
   "execution_count": null,
   "id": "768c06fa",
   "metadata": {
    "scrolled": true
   },
   "outputs": [],
   "source": [
    "opt_lazy = choose_sensors(G, speeds, speed_prediction, mse, debug=True, k=5)"
   ]
  },
  {
   "cell_type": "code",
   "execution_count": null,
   "id": "d7292856",
   "metadata": {},
   "outputs": [],
   "source": [
    "mse(speeds, speed_prediction_iterative(G, {s : speeds[s] for s in opt_lazy[:5]}))"
   ]
  },
  {
   "cell_type": "code",
   "execution_count": null,
   "id": "04bc85a8",
   "metadata": {},
   "outputs": [],
   "source": [
    "def speed_prediction_iterative(G, labeled_flows, iters=1000, P=None):\n",
    "    x = dict2vect(G, labeled_flows)\n",
    "    G_line = nx.line_graph(G)\n",
    "    \n",
    "    fixed = []\n",
    "    for i, e in enumerate(G_line.nodes()):\n",
    "        if e in labeled_flows:\n",
    "            fixed.append((i,e))\n",
    "    \n",
    "    if P == None:\n",
    "        A = nx.adjacency_matrix(G_line)\n",
    "\n",
    "        D = np.zeros((G_line.number_of_nodes(), G_line.number_of_nodes()))\n",
    "        for i, e in enumerate(G_line.nodes()):\n",
    "            D[i][i] = G_line.degree[e]\n",
    "    \n",
    "        P = np.linalg.inv(D) @ A\n",
    "    \n",
    "    for i in range(iters):\n",
    "        x = P @ x\n",
    "        for j, e in fixed:\n",
    "            x[j] = labeled_flows[e]\n",
    "    \n",
    "    return vect2dict(G, x)"
   ]
  }
 ],
 "metadata": {
  "kernelspec": {
   "display_name": "Python 3 (ipykernel)",
   "language": "python",
   "name": "python3"
  },
  "language_info": {
   "codemirror_mode": {
    "name": "ipython",
    "version": 3
   },
   "file_extension": ".py",
   "mimetype": "text/x-python",
   "name": "python",
   "nbconvert_exporter": "python",
   "pygments_lexer": "ipython3",
   "version": "3.10.8"
  }
 },
 "nbformat": 4,
 "nbformat_minor": 5
}
