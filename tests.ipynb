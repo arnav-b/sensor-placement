{
 "cells": [
  {
   "cell_type": "code",
   "execution_count": 42,
   "id": "84ba38f4",
   "metadata": {},
   "outputs": [
    {
     "data": {
      "image/png": "[encoded data removed]",
      "text/plain": [
       "<Figure size 432x288 with 1 Axes>"
      ]
     },
     "metadata": {},
     "output_type": "display_data"
    }
   ],
   "source": [
    "import numpy as np\n",
    "import networkx as nx\n",
    "\n",
    "J = nx.DiGraph()\n",
    "\n",
    "J.add_edge(0,1)\n",
    "J.add_edge(1,2)\n",
    "J.add_edge(2,0)\n",
    "J.add_edge(2,3)\n",
    "J.add_edge(3,4)\n",
    "J.add_edge(4,5)\n",
    "J.add_edge(6,3)\n",
    "J.add_edge(5,6)\n",
    "J.add_edge(4,7)\n",
    "J.add_edge(7,8)\n",
    "J.add_edge(8,9)\n",
    "J.add_edge(9,7)\n",
    "\n",
    "flows = {}\n",
    "\n",
    "flows[(0,1)] = 10.\n",
    "flows[(1,2)] = 10\n",
    "flows[(2,0)] = 10.\n",
    "flows[(2,3)] = 0.\n",
    "flows[(3,4)] = 20.\n",
    "flows[(4,5)] = 20.\n",
    "flows[(6,3)] = 20\n",
    "#flows[(6,4)] = 10.\n",
    "flows[(5,6)] = 20.\n",
    "flows[(4,7)] = 0\n",
    "flows[(7,8)] = 30\n",
    "flows[(8,9)] = 30\n",
    "flows[(9,7)] = 30\n",
    "\n",
    "np.random.seed(540)\n",
    "nx.draw(J, with_labels=True)"
   ]
  },
  {
   "cell_type": "code",
   "execution_count": 2,
   "id": "1bd5fa15",
   "metadata": {},
   "outputs": [
    {
     "data": {
      "application/vnd.jupyter.widget-view+json": {
       "model_id": "25c11e2600f9476481dc55dbf3ab1821",
       "version_major": 2,
       "version_minor": 0
      },
      "text/plain": [
       "  0%|          | 0/3 [00:00<?, ?it/s]"
      ]
     },
     "metadata": {},
     "output_type": "display_data"
    },
    {
     "data": {
      "text/plain": [
       "[(9, 7), (3, 4), (0, 1)]"
      ]
     },
     "execution_count": 2,
     "metadata": {},
     "output_type": "execute_result"
    }
   ],
   "source": [
    "from sensors import *\n",
    "\n",
    "opt = choose_sensors(J, flows, flow_prediction, mse, 3)\n",
    "opt"
   ]
  },
  {
   "cell_type": "code",
   "execution_count": 3,
   "id": "346596a0",
   "metadata": {},
   "outputs": [
    {
     "data": {
      "text/plain": [
       "2.082821407672434e-21"
      ]
     },
     "execution_count": 3,
     "metadata": {},
     "output_type": "execute_result"
    }
   ],
   "source": [
    "mse(flows, flow_prediction(J, {s : flows[s] for s in opt}))"
   ]
  },
  {
   "cell_type": "code",
   "execution_count": 4,
   "id": "acc1b847",
   "metadata": {},
   "outputs": [
    {
     "data": {
      "application/vnd.jupyter.widget-view+json": {
       "model_id": "87180bd8e3a847dd93a0580332d31492",
       "version_major": 2,
       "version_minor": 0
      },
      "text/plain": [
       "  0%|          | 0/3 [00:00<?, ?it/s]"
      ]
     },
     "metadata": {},
     "output_type": "display_data"
    },
    {
     "data": {
      "text/plain": [
       "[(9, 7), (3, 4), (0, 1)]"
      ]
     },
     "execution_count": 4,
     "metadata": {},
     "output_type": "execute_result"
    }
   ],
   "source": [
    "opt_lazy = choose_sensors(J, flows, flow_prediction, mse, lazy=True, k=3)\n",
    "opt_lazy"
   ]
  },
  {
   "cell_type": "code",
   "execution_count": 5,
   "id": "16317f48",
   "metadata": {},
   "outputs": [
    {
     "data": {
      "text/plain": [
       "2.082821407672434e-21"
      ]
     },
     "execution_count": 5,
     "metadata": {},
     "output_type": "execute_result"
    }
   ],
   "source": [
    "mse(flows, flow_prediction(J, {s : flows[s] for s in opt_lazy}))"
   ]
  },
  {
   "cell_type": "code",
   "execution_count": 6,
   "id": "b44a3a3f",
   "metadata": {},
   "outputs": [
    {
     "data": {
      "text/plain": [
       "{(0, 1): 10.0,\n",
       " (1, 2): 10.000000000011017,\n",
       " (2, 0): 9.999999999968992,\n",
       " (2, 3): 6.298117583014573e-11,\n",
       " (3, 4): 20.0,\n",
       " (4, 5): 19.99999999993401,\n",
       " (4, 7): 2.6997959423624707e-11,\n",
       " (5, 6): 19.99999999991502,\n",
       " (6, 3): 19.99999999991601,\n",
       " (7, 8): 29.999999999988013,\n",
       " (8, 9): 29.999999999979003,\n",
       " (9, 7): 30}"
      ]
     },
     "execution_count": 6,
     "metadata": {},
     "output_type": "execute_result"
    }
   ],
   "source": [
    "flow_prediction(J, {s : flows[s] for s in opt_lazy})"
   ]
  },
  {
   "cell_type": "code",
   "execution_count": 7,
   "id": "28da735a",
   "metadata": {},
   "outputs": [
    {
     "data": {
      "text/plain": [
       "1.70500650635657e-09"
      ]
     },
     "execution_count": 7,
     "metadata": {},
     "output_type": "execute_result"
    }
   ],
   "source": [
    "mape(flows, flow_prediction(J, {s : flows[s] for s in opt_lazy}))"
   ]
  },
  {
   "cell_type": "code",
   "execution_count": 43,
   "id": "20371bfd",
   "metadata": {},
   "outputs": [],
   "source": [
    "def synthetic_speeds(G):\n",
    "    eigs = np.linalg.eig(nx.laplacian_matrix(nx.line_graph(G).to_undirected(), nodelist=nx.line_graph(G).nodes()).toarray())\n",
    "    order = np.argsort(eigs[0])\n",
    "    \n",
    "    vals = eigs[1][:,-1]\n",
    "    speeds = {}\n",
    "    for i, v in enumerate(nx.line_graph(G).nodes()):\n",
    "        speeds[v] = vals[i]\n",
    "    return speeds"
   ]
  },
  {
   "cell_type": "code",
   "execution_count": null,
   "id": "17b04778",
   "metadata": {},
   "outputs": [],
   "source": [
    "def choose_sensors(G, labeled_edges, predict, evaluate, k=None, lazy=True, cores=8, debug=False):\n",
    "    \"\"\"\n",
    "    Choose `k` sensors greedily to optimize the prediction given by `predict` for ground truth `labels`\n",
    "    based on loss function `evaluate` (lower loss is better). \n",
    "    \n",
    "    Parameters:\n",
    "        -- G: networkx graph\n",
    "        -- labeled_edges: dict {edge : value}\n",
    "        -- predict: function taking G, labeled_edges -> prediction\n",
    "        -- evaluate: prediction, true_values -> loss\n",
    "    \"\"\"\n",
    "    if k == None:\n",
    "        k = int(G.number_of_edges())\n",
    "    \n",
    "    sensors = []\n",
    "    \n",
    "    candidates = list(labeled_edges.keys())\n",
    "    np.random.shuffle(candidates)\n",
    "    sensors += candidates[:int(len(candidates / 100))]\n",
    "        \n",
    "    # Find value of adding each edge not in the set\n",
    "    current = evaluate(predict(G, {}), labeled_edges)\n",
    "\n",
    "    with Pool(cores) as pool:\n",
    "        deltas = pool.map(lambda e: (evaluate(predict(G, {e : labeled_edges[e]}), labeled_edges) - current, e), \n",
    "                          labeled_edges)\n",
    "\n",
    "    heapq.heapify(deltas)\n",
    "    \n",
    "    if debug:\n",
    "        print(\"initial len(deltas):\", len(deltas))\n",
    "    \n",
    "    # Greedily select sensors\n",
    "    if lazy:\n",
    "        for i in tqdm(range(k)):\n",
    "            current = evaluate(predict(G, {e: labeled_edges[e] for e in sensors}), labeled_edges)\n",
    "            if debug:\n",
    "                print(\"iteration {}, current {}\".format(i, current))\n",
    "\n",
    "            # Current top \n",
    "            _, s = heapq.heappop(deltas)\n",
    "            delta = evaluate(predict(G, {e: labeled_edges[e] for e in sensors} | {s : labeled_edges[s]}), \n",
    "                             labeled_edges) - current\n",
    "            \n",
    "            if len(deltas) == 0:\n",
    "                sensors.append(s)\n",
    "                continue\n",
    "\n",
    "            # Next top\n",
    "            delta_next, s_next = heapq.heappop(deltas)\n",
    "            #delta_next -= current\n",
    "            \n",
    "            if debug:\n",
    "                print(\"sensor {} delta {}\".format(s, delta))\n",
    "                print(\"next top sensor {} delta {}\".format(s_next, delta_next))\n",
    "            \n",
    "#             if delta <= delta_next:\n",
    "                \n",
    "                \n",
    "            # If the change drops it below the next best, recalculate the next best and continue\n",
    "            while delta > delta_next:\n",
    "                delta_next = evaluate(predict(G, {e: labeled_edges[e] for e in sensors} | {s_next : labeled_edges[s_next]}), \n",
    "                             labeled_edges) - current\n",
    "                if debug:\n",
    "                    print(\"sensor {} delta {}\".format(s, delta))\n",
    "                    print(\"next top sensor {} delta {}\".format(s_next, delta_next))\n",
    "                    \n",
    "                if delta_next <= delta:\n",
    "                    heapq.heappush(deltas, (delta, s))\n",
    "                    delta, s = delta_next, s_next\n",
    "                    if debug:\n",
    "                        print(\"next < delta, len(deltas)\", len(deltas))\n",
    "                else:\n",
    "                    heapq.heappush(deltas, (delta_next, s_next))\n",
    "                    if debug:\n",
    "                        print(\"nest > delta, len(deltas):\", len(deltas))\n",
    "                \n",
    "                delta_next, s_next = heapq.heappop(deltas)\n",
    "                    \n",
    "#                     if delta <= delta_next:\n",
    "#                         heapq.heappush(deltas, (delta_next, s_next))\n",
    "#                         break\n",
    "            \n",
    "            heapq.heappush(deltas, (delta_next, s_next))\n",
    "        \n",
    "            if len(deltas) != len(labeled_edges) - i - 1:\n",
    "                print(\"error: iteration\", i, \"len(deltas):\", len(deltas))\n",
    "                return sensors\n",
    "            \n",
    "            if debug:    \n",
    "                print(\"iteration\", i, \"len(deltas):\", len(deltas))\n",
    "                print(\"selecting sensor {} delta {}, next sensor {} has delta {}\".format(s, delta, s_next, delta_next))\n",
    "                print()\n",
    "\n",
    "            sensors.append(s)\n",
    "    else:\n",
    "        for i in tqdm(range(k)):\n",
    "            current = evaluate(predict(G, {e: labeled_edges[e] for e in sensors}), labeled_edges)\n",
    "            if debug:\n",
    "                print(\"iteration {}, current {}\".format(i, current))\n",
    "            opt, opt_cost = None, float(\"inf\")\n",
    "            for s in G.edges():\n",
    "                if s not in sensors:\n",
    "                    cost = evaluate(predict(G, {e : labeled_edges[e] for e in sensors} | {s : labeled_edges[s]}),\n",
    "                                   labeled_edges)\n",
    "                    if debug:\n",
    "                        print(\"sensor {} cost {} opt {}\".format(s, cost, opt_cost))\n",
    "                    if cost < opt_cost:\n",
    "                        opt, opt_cost = s, cost\n",
    "            sensors.append(opt)\n",
    "        \n",
    "    return sensors"
   ]
  },
  {
   "cell_type": "code",
   "execution_count": 50,
   "id": "ffcc5f4d",
   "metadata": {},
   "outputs": [
    {
     "data": {
      "text/plain": [
       "{(0, 1): 0.44297534959244966,\n",
       " (8, 9): 0.44297534959244966,\n",
       " (6, 7): -0.08185853597931515,\n",
       " (7, 8): 0.23570226039551587,\n",
       " (1, 2): 0.23570226039551562,\n",
       " (2, 3): -0.0818585359793154,\n",
       " (5, 6): -0.3611168136131347,\n",
       " (3, 4): -0.3611168136131347,\n",
       " (4, 5): -0.47140452079103184}"
      ]
     },
     "execution_count": 50,
     "metadata": {},
     "output_type": "execute_result"
    }
   ],
   "source": [
    "G = nx.path_graph(10)\n",
    "speeds = synthetic_speeds(G)\n",
    "speeds"
   ]
  },
  {
   "cell_type": "code",
   "execution_count": 51,
   "id": "28a35258",
   "metadata": {},
   "outputs": [
    {
     "name": "stdout",
     "output_type": "stream",
     "text": [
      "initial len(deltas): 9\n"
     ]
    },
    {
     "data": {
      "application/vnd.jupyter.widget-view+json": {
       "model_id": "3dd1050f2ed84f1faaa9aa66c273d392",
       "version_major": 2,
       "version_minor": 0
      },
      "text/plain": [
       "  0%|          | 0/9 [00:00<?, ?it/s]"
      ]
     },
     "metadata": {},
     "output_type": "display_data"
    },
    {
     "name": "stdout",
     "output_type": "stream",
     "text": [
      "iteration 0, current 0.1111111111111111\n",
      "sensor (2, 3) delta 0.006700819905388775\n",
      "next top sensor (6, 7) delta 0.006700819905404373\n",
      "iteration 0 len(deltas): 8\n",
      "selecting sensor (2, 3) delta 0.006700819905388775, next sensor (6, 7) has delta 0.006700819905404373\n",
      "\n",
      "iteration 1, current 0.11781193101649988\n",
      "sensor (6, 7) delta 7.094450027445021e-12\n",
      "next top sensor (7, 8) delta 0.055555555409324275\n",
      "iteration 1 len(deltas): 7\n",
      "selecting sensor (6, 7) delta 7.094450027445021e-12, next sensor (7, 8) has delta 0.055555555409324275\n",
      "\n",
      "iteration 2, current 0.11781193102359433\n",
      "sensor (7, 8) delta -0.03703703703682899\n",
      "next top sensor (1, 2) delta 0.05555555540933549\n",
      "iteration 2 len(deltas): 6\n",
      "selecting sensor (7, 8) delta -0.03703703703682899, next sensor (1, 2) has delta 0.05555555540933549\n",
      "\n",
      "iteration 3, current 0.08077489398676534\n",
      "sensor (1, 2) delta -0.03703703703682884\n",
      "next top sensor (3, 4) delta 0.1304053529976901\n",
      "iteration 3 len(deltas): 5\n",
      "selecting sensor (1, 2) delta -0.03703703703682884, next sensor (3, 4) has delta 0.1304053529976901\n",
      "\n",
      "iteration 4, current 0.043737856949936496\n",
      "sensor (3, 4) delta -0.025743940069288988\n",
      "next top sensor (5, 6) delta 0.13040535299769518\n",
      "iteration 4 len(deltas): 4\n",
      "selecting sensor (3, 4) delta -0.025743940069288988, next sensor (5, 6) has delta 0.13040535299769518\n",
      "\n",
      "iteration 5, current 0.01799391688064751\n",
      "sensor (5, 6) delta -0.00709528961783496\n",
      "next top sensor (8, 9) delta 0.1962271594010248\n",
      "iteration 5 len(deltas): 3\n",
      "selecting sensor (5, 6) delta -0.00709528961783496, next sensor (8, 9) has delta 0.1962271594010248\n",
      "\n",
      "iteration 6, current 0.010898627262812549\n",
      "sensor (8, 9) delta -0.004773570389481978\n",
      "next top sensor (0, 1) delta 0.1962271594011178\n",
      "iteration 6 len(deltas): 2\n",
      "selecting sensor (8, 9) delta -0.004773570389481978, next sensor (0, 1) has delta 0.1962271594011178\n",
      "\n",
      "iteration 7, current 0.0061250568733305704\n",
      "sensor (0, 1) delta -0.004773570389481987\n",
      "next top sensor (4, 5) delta 0.22222222213349963\n",
      "iteration 7 len(deltas): 1\n",
      "selecting sensor (0, 1) delta -0.004773570389481987, next sensor (4, 5) has delta 0.22222222213349963\n",
      "\n",
      "iteration 8, current 0.0013514864838485832\n"
     ]
    }
   ],
   "source": [
    "opt = choose_sensors(G, speeds, speed_prediction, mse, lazy=True, debug=True)"
   ]
  },
  {
   "cell_type": "code",
   "execution_count": null,
   "id": "f03190f9",
   "metadata": {},
   "outputs": [],
   "source": [
    "G = nx.gnp_random_graph(10, 0.3)\n",
    "speeds = synthetic_speeds(G)\n",
    "nx.draw(G, with_labels=True, edge_color=[speeds[e] for e in G.edges()], node_color=\"white\")\n",
    "# G = nx.path_graph(5)"
   ]
  },
  {
   "cell_type": "code",
   "execution_count": 16,
   "id": "7349a9f7",
   "metadata": {},
   "outputs": [],
   "source": [
    "def speed_prediction_iterative(G, labeled_flows, iters=1000, P=None):\n",
    "    x = dict2vect(G, labeled_flows)\n",
    "    G_line = nx.line_graph(G)\n",
    "    \n",
    "    fixed = []\n",
    "    for i, e in enumerate(G_line.nodes()):\n",
    "        if e in labeled_flows:\n",
    "            fixed.append((i,e))\n",
    "    \n",
    "    if P == None:\n",
    "        A = nx.adjacency_matrix(G_line)\n",
    "\n",
    "        D = np.zeros((G_line.number_of_nodes(), G_line.number_of_nodes()))\n",
    "        for i, e in enumerate(G_line.nodes()):\n",
    "            D[i][i] = G_line.degree[e]\n",
    "    \n",
    "        P = np.linalg.inv(D) @ A\n",
    "    \n",
    "    for i in range(iters):\n",
    "        x = P @ x\n",
    "        for j, e in fixed:\n",
    "            x[j] = labeled_flows[e]\n",
    "    \n",
    "    return vect2dict(G, x)"
   ]
  },
  {
   "cell_type": "code",
   "execution_count": 33,
   "id": "768c06fa",
   "metadata": {
    "scrolled": true
   },
   "outputs": [
    {
     "data": {
      "application/vnd.jupyter.widget-view+json": {
       "model_id": "67b16c8ea0a04582bf26ea7b6a3ff4a6",
       "version_major": 2,
       "version_minor": 0
      },
      "text/plain": [
       "  0%|          | 0/16 [00:00<?, ?it/s]"
      ]
     },
     "metadata": {},
     "output_type": "display_data"
    },
    {
     "data": {
      "text/plain": [
       "[(4, 5),\n",
       " (1, 2),\n",
       " (0, 8),\n",
       " (2, 3),\n",
       " (2, 9),\n",
       " (8, 9),\n",
       " (5, 9),\n",
       " (4, 6),\n",
       " (6, 9),\n",
       " (3, 4),\n",
       " (0, 6),\n",
       " (0, 1),\n",
       " (6, 7),\n",
       " (3, 5),\n",
       " (5, 7),\n",
       " (1, 7)]"
      ]
     },
     "execution_count": 33,
     "metadata": {},
     "output_type": "execute_result"
    }
   ],
   "source": [
    "opt = choose_sensors(G, speeds, speed_prediction, mse)\n",
    "opt"
   ]
  },
  {
   "cell_type": "code",
   "execution_count": 34,
   "id": "c3914ae7",
   "metadata": {},
   "outputs": [
    {
     "name": "stdout",
     "output_type": "stream",
     "text": [
      "[(4, 5)] 0.06251778790253237\n",
      "[(4, 5), (1, 2)] 0.06257871699227802\n",
      "[(4, 5), (1, 2), (0, 8)] 0.06265314843748793\n",
      "[(4, 5), (1, 2), (0, 8), (2, 3)] 0.0626736541337979\n",
      "[(4, 5), (1, 2), (0, 8), (2, 3), (2, 9)] 0.06277682748114907\n",
      "[(4, 5), (1, 2), (0, 8), (2, 3), (2, 9), (8, 9)] 0.06313825741025757\n",
      "[(4, 5), (1, 2), (0, 8), (2, 3), (2, 9), (8, 9), (5, 9)] 0.06111067748310041\n",
      "[(4, 5), (1, 2), (0, 8), (2, 3), (2, 9), (8, 9), (5, 9), (4, 6)] 0.061718831615872355\n",
      "[(4, 5), (1, 2), (0, 8), (2, 3), (2, 9), (8, 9), (5, 9), (4, 6), (6, 9)] 0.06242758083451798\n",
      "[(4, 5), (1, 2), (0, 8), (2, 3), (2, 9), (8, 9), (5, 9), (4, 6), (6, 9), (3, 4)] 0.060964798966440775\n",
      "[(4, 5), (1, 2), (0, 8), (2, 3), (2, 9), (8, 9), (5, 9), (4, 6), (6, 9), (3, 4), (0, 6)] 0.06288842590263585\n",
      "[(4, 5), (1, 2), (0, 8), (2, 3), (2, 9), (8, 9), (5, 9), (4, 6), (6, 9), (3, 4), (0, 6), (0, 1)] 0.05734714249219644\n",
      "[(4, 5), (1, 2), (0, 8), (2, 3), (2, 9), (8, 9), (5, 9), (4, 6), (6, 9), (3, 4), (0, 6), (0, 1), (6, 7)] 0.050066330218106816\n",
      "[(4, 5), (1, 2), (0, 8), (2, 3), (2, 9), (8, 9), (5, 9), (4, 6), (6, 9), (3, 4), (0, 6), (0, 1), (6, 7), (3, 5)] 0.03937150779097523\n",
      "[(4, 5), (1, 2), (0, 8), (2, 3), (2, 9), (8, 9), (5, 9), (4, 6), (6, 9), (3, 4), (0, 6), (0, 1), (6, 7), (3, 5), (5, 7)] 0.03559653103185476\n",
      "[(4, 5), (1, 2), (0, 8), (2, 3), (2, 9), (8, 9), (5, 9), (4, 6), (6, 9), (3, 4), (0, 6), (0, 1), (6, 7), (3, 5), (5, 7), (1, 7)] 0.0\n"
     ]
    }
   ],
   "source": [
    "for i in range(1, G.number_of_edges()+1):\n",
    "    print(opt[:i], mse(speeds, speed_prediction(G, {s : speeds[s] for s in opt[:i]})))"
   ]
  },
  {
   "cell_type": "code",
   "execution_count": 36,
   "id": "2e852a57",
   "metadata": {},
   "outputs": [
    {
     "name": "stdout",
     "output_type": "stream",
     "text": [
      "[(1, 7)] 0.283238701725623\n",
      "[(1, 7), (5, 7)] 0.06641255257404138\n",
      "[(1, 7), (5, 7), (3, 5)] 0.07328200134674011\n",
      "[(1, 7), (5, 7), (3, 5), (6, 7)] 0.04399632455751086\n",
      "[(1, 7), (5, 7), (3, 5), (6, 7), (0, 1)] 0.037985988617578785\n",
      "[(1, 7), (5, 7), (3, 5), (6, 7), (0, 1), (0, 6)] 0.01889738884426277\n",
      "[(1, 7), (5, 7), (3, 5), (6, 7), (0, 1), (0, 6), (3, 4)] 0.010125210632288837\n",
      "[(1, 7), (5, 7), (3, 5), (6, 7), (0, 1), (0, 6), (3, 4), (6, 9)] 0.008625977450217403\n",
      "[(1, 7), (5, 7), (3, 5), (6, 7), (0, 1), (0, 6), (3, 4), (6, 9), (4, 6)] 0.006763418710145063\n",
      "[(1, 7), (5, 7), (3, 5), (6, 7), (0, 1), (0, 6), (3, 4), (6, 9), (4, 6), (5, 9)] 0.007753475772777129\n",
      "[(1, 7), (5, 7), (3, 5), (6, 7), (0, 1), (0, 6), (3, 4), (6, 9), (4, 6), (5, 9), (8, 9)] 0.00410194356538008\n",
      "[(1, 7), (5, 7), (3, 5), (6, 7), (0, 1), (0, 6), (3, 4), (6, 9), (4, 6), (5, 9), (8, 9), (2, 9)] 0.0019326052009369585\n",
      "[(1, 7), (5, 7), (3, 5), (6, 7), (0, 1), (0, 6), (3, 4), (6, 9), (4, 6), (5, 9), (8, 9), (2, 9), (2, 3)] 0.0010192298199506195\n",
      "[(1, 7), (5, 7), (3, 5), (6, 7), (0, 1), (0, 6), (3, 4), (6, 9), (4, 6), (5, 9), (8, 9), (2, 9), (2, 3), (0, 8)] 8.829920225444037e-05\n",
      "[(1, 7), (5, 7), (3, 5), (6, 7), (0, 1), (0, 6), (3, 4), (6, 9), (4, 6), (5, 9), (8, 9), (2, 9), (2, 3), (0, 8), (1, 2)] 1.8358361100313751e-06\n",
      "[(1, 7), (5, 7), (3, 5), (6, 7), (0, 1), (0, 6), (3, 4), (6, 9), (4, 6), (5, 9), (8, 9), (2, 9), (2, 3), (0, 8), (1, 2), (4, 5)] 0.0\n"
     ]
    }
   ],
   "source": [
    "opt.reverse()\n",
    "for i in range(1, G.number_of_edges()+1):\n",
    "    print(opt[:i], mse(speeds, speed_prediction(G, {s : speeds[s] for s in opt[:i]})))"
   ]
  }
 ],
 "metadata": {
  "kernelspec": {
   "display_name": "Python 3 (ipykernel)",
   "language": "python",
   "name": "python3"
  },
  "language_info": {
   "codemirror_mode": {
    "name": "ipython",
    "version": 3
   },
   "file_extension": ".py",
   "mimetype": "text/x-python",
   "name": "python",
   "nbconvert_exporter": "python",
   "pygments_lexer": "ipython3",
   "version": "3.10.8"
  }
 },
 "nbformat": 4,
 "nbformat_minor": 5
}
